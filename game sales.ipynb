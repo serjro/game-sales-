{
 "cells": [
  {
   "cell_type": "markdown",
   "metadata": {},
   "source": [
    "<b>Описание проекта</b>\n",
    "\n",
    "Требуется выявить определяющие успешность игры закономерности. Это позволит сделать ставку на потенциально популярный продукт и спланировать рекламные кампании.\n",
    "\n",
    "<b>Описание данных</b>\n",
    "\n",
    "    Name — название игры\n",
    "    Platform — платформа\n",
    "    Year_of_Release — год выпуска\n",
    "    Genre — жанр игры\n",
    "    NA_sales — продажи в Северной Америке (миллионы проданных копий)\n",
    "    EU_sales — продажи в Европе (миллионы проданных копий)\n",
    "    JP_sales — продажи в Японии (миллионы проданных копий)\n",
    "    Other_sales — продажи в других странах (миллионы проданных копий)\n",
    "    Critic_Score — оценка критиков (максимум 100)\n",
    "    User_Score — оценка пользователей (максимум 10)\n",
    "    Rating — рейтинг от организации ESRB (англ. Entertainment Software Rating Board). Эта ассоциация определяет рейтинг компьютерных игр и присваивает им подходящую возрастную категорию."
   ]
  },
  {
   "cell_type": "markdown",
   "metadata": {},
   "source": [
    "### Открытие файла с данными и изучение общей информации"
   ]
  },
  {
   "cell_type": "markdown",
   "metadata": {},
   "source": [
    "#### Используемые библиотеки и функции"
   ]
  },
  {
   "cell_type": "code",
   "execution_count": 1,
   "metadata": {},
   "outputs": [],
   "source": [
    "import pandas as pd\n",
    "import numpy as np \n",
    "from scipy import stats as st\n",
    "import math\n",
    "import matplotlib.pyplot as plt\n",
    "import seaborn as sns\n",
    "import warnings\n",
    "warnings.filterwarnings(\"ignore\", category=RuntimeWarning)"
   ]
  },
  {
   "cell_type": "code",
   "execution_count": 2,
   "metadata": {},
   "outputs": [],
   "source": [
    "# Вывод информации о структуре датафрейма\n",
    "def df_info(df):\n",
    "    all_data = df.reset_index(drop=True)    \n",
    "    all_data_na = (all_data.isna().sum() / len(all_data))\n",
    "    missing_data = pd.DataFrame({'тип': df.dtypes})\n",
    "    if len(all_data_na[all_data_na!=0])>0:\n",
    "        missing_data['пропуски']= all_data_na.map(\"{:.1%}\".format)\n",
    "        display(missing_data)\n",
    "        print('Столбцов с NA:',len(all_data_na[all_data_na!=0]),'из',df.shape[1])\n",
    "    else:\n",
    "        display(missing_data)\n",
    "        print('Пропусков нет.') \n",
    "    if df.duplicated().sum()>0:\n",
    "        print('Дубликатов:',df.duplicated().sum())\n",
    "    else:\n",
    "        print('Дубликатов нет')\n",
    "    print(f'Структура : {all_data.shape}')\n",
    "    \n",
    "# Метод позволяет определить наименьший тип данных, для ускорения вычислений датафрейма и уменьшения занимаемой памяти\n",
    "def type_optimize(df):\n",
    "    for col in df.columns:\n",
    "        if df[col].dtypes.kind == 'i' or df[col].dtypes.kind == 'u':\n",
    "            if df[col].min() >= 0:\n",
    "                df[col] = pd.to_numeric(df[col], downcast='unsigned')\n",
    "            else:\n",
    "                df[col] = pd.to_numeric(df[col], downcast='integer')\n",
    "        elif df[col].dtypes.kind == 'f' or df[col].dtypes.kind == 'c':\n",
    "            df[col] = pd.to_numeric(df[col], downcast='float')\n",
    "        elif df[col].dtypes.kind == 'O':\n",
    "            num_unique_values = len(df[col].unique())\n",
    "            num_total_values = len(df[col])\n",
    "            if num_unique_values / num_total_values < 0.5:\n",
    "                df[col] = df[col].astype('category')\n",
    "    print(df.dtypes)\n",
    "\n",
    "# Функция для категоризации столбцов\n",
    "def col_cat(df,col,col2=0,catn=1):\n",
    "    df[col+'_id']=df[col]\n",
    "    if catn==1:\n",
    "        col2=df[col].unique() if col2==0 else col2\n",
    "        un_val=dict(enumerate(col2))\n",
    "        df.loc[df[col+'_id'].notna(),col+'_id'] = df.loc[df[col+'_id'].notna(),col+'_id'].map(dict(zip(un_val.values(),un_val.keys()))).astype('uint8')\n",
    "        df[col+'_id']=pd.to_numeric(df[col+'_id'], errors='coerce')\n",
    "    else:\n",
    "        #catn=catn-1\n",
    "        def fgrcalc(num):\n",
    "            for i in range(1,catn+1):\n",
    "                if (num>=lst[i-1] and num<=lst[i]):\n",
    "                    return i  \n",
    "        filtered=df.loc[df[col].notna(),col]\n",
    "        lst=[filtered.min()]+[filtered.sort_values().to_list()[round(len(filtered)/catn)*i-2] for i in range(1,catn)]+[filtered.max()]\n",
    "        print(lst)\n",
    "        df.loc[df[col].notna(),col+'_id']=filtered.map(fgrcalc)\n",
    "        tst=filtered.map(fgrcalc)\n",
    "        print(tst[tst.isna()])\n",
    "    return df\n",
    "\n",
    "# Поиск и замена пропущенных значений датафрейма по коррелируемым признакам   \n",
    "def filldf(df2,cat):\n",
    "    def fgrcalc(num):\n",
    "        for i in range(1,cat+1):\n",
    "            if (num>=lst[i-1] and num<=lst[i]):\n",
    "                return i     \n",
    "    res= pd.DataFrame(columns=['столбец','восстановлено','осталось','по_значениям','корреляция'])\n",
    "    global lst\n",
    "    min_cor=0.40\n",
    "    df3=df2.copy()\n",
    "    dfcor=df2.corr()\n",
    "    for col in df2.columns:\n",
    "        if (df[col].isna().sum()>0) and (col in dfcor.columns):\n",
    "            na=df[col].isna().sum()\n",
    "            cr=dfcor[col]\n",
    "            cr_i=cr.loc[(cr>=min_cor-.01) & (cr<1)]\n",
    "            cr=cr_i.index.sort_values(ascending=False).to_list()\n",
    "            if len(cr)>0:                \n",
    "                for i in cr:\n",
    "                    if i+'_id' not in df3.columns:\n",
    "                        lst=[0]+[df2[col].sort_values().to_list()[round(df2.shape[0]/cat)*i-2] for i in range(1,cat+1)]\n",
    "                        df3[i+'_id']=df2[col].map(fgrcalc)                \n",
    "                df2[col]=df2[col].fillna(df3.groupby([i+'_id' for i in cr])[col].transform('median'))\n",
    "                df2[col]=df2[col].fillna(df3.groupby(cr)[col].transform('median'))\n",
    "                for i in cr:\n",
    "                    df2[col]=df2[col].fillna(df3.groupby(i)[col].transform('median'))\n",
    "                res.loc[len(res.index)]=[col,na-df2[col].isna().sum(),df2[col].isna().sum(),cr,\"{:.0%}\".format(cr_i.max())]\n",
    "    print(\"Значение минимальной корреляции -\",\"{:.0%}\".format(min_cor))\n",
    "    display(res.sort_values(by='корреляция', ascending=False).head(20))\n",
    "    return df2\n",
    "\n",
    "# Получение датасета с долями от продаж\n",
    "def sales_parts(df,col,five=True,corr=False):\n",
    "    units=df[[col,'total_sales']].groupby(col).sum().sort_values(by='total_sales',ascending=False).index.to_list()[:5]\n",
    "    table=df.loc[df[col].isin(units),[col,'na_sales','eu_sales','jp_sales']].groupby(col).sum()\n",
    "    table['na_sales'+'_part']=table.na_sales.div(table.na_sales.sum())\n",
    "    table['eu_sales'+'_part']=table.eu_sales.div(table.eu_sales.sum())\n",
    "    table['jp_sales'+'_part']=table.jp_sales.div(table.jp_sales.sum())\n",
    "    #table=table.reset_index()\n",
    "    table=table.iloc[:5,3:] if five else table.iloc[:,3:]\n",
    "    return table"
   ]
  },
  {
   "cell_type": "markdown",
   "metadata": {},
   "source": [
    "#### Изучение открытых файлов"
   ]
  },
  {
   "cell_type": "code",
   "execution_count": 3,
   "metadata": {},
   "outputs": [
    {
     "data": {
      "text/html": [
       "<div>\n",
       "<style scoped>\n",
       "    .dataframe tbody tr th:only-of-type {\n",
       "        vertical-align: middle;\n",
       "    }\n",
       "\n",
       "    .dataframe tbody tr th {\n",
       "        vertical-align: top;\n",
       "    }\n",
       "\n",
       "    .dataframe thead th {\n",
       "        text-align: right;\n",
       "    }\n",
       "</style>\n",
       "<table border=\"1\" class=\"dataframe\">\n",
       "  <thead>\n",
       "    <tr style=\"text-align: right;\">\n",
       "      <th></th>\n",
       "      <th>Name</th>\n",
       "      <th>Platform</th>\n",
       "      <th>Year_of_Release</th>\n",
       "      <th>Genre</th>\n",
       "      <th>NA_sales</th>\n",
       "      <th>EU_sales</th>\n",
       "      <th>JP_sales</th>\n",
       "      <th>Other_sales</th>\n",
       "      <th>Critic_Score</th>\n",
       "      <th>User_Score</th>\n",
       "      <th>Rating</th>\n",
       "    </tr>\n",
       "  </thead>\n",
       "  <tbody>\n",
       "    <tr>\n",
       "      <td>0</td>\n",
       "      <td>Wii Sports</td>\n",
       "      <td>Wii</td>\n",
       "      <td>2006.0</td>\n",
       "      <td>Sports</td>\n",
       "      <td>41.36</td>\n",
       "      <td>28.96</td>\n",
       "      <td>3.77</td>\n",
       "      <td>8.45</td>\n",
       "      <td>76.0</td>\n",
       "      <td>8</td>\n",
       "      <td>E</td>\n",
       "    </tr>\n",
       "    <tr>\n",
       "      <td>1</td>\n",
       "      <td>Super Mario Bros.</td>\n",
       "      <td>NES</td>\n",
       "      <td>1985.0</td>\n",
       "      <td>Platform</td>\n",
       "      <td>29.08</td>\n",
       "      <td>3.58</td>\n",
       "      <td>6.81</td>\n",
       "      <td>0.77</td>\n",
       "      <td>NaN</td>\n",
       "      <td>NaN</td>\n",
       "      <td>NaN</td>\n",
       "    </tr>\n",
       "    <tr>\n",
       "      <td>2</td>\n",
       "      <td>Mario Kart Wii</td>\n",
       "      <td>Wii</td>\n",
       "      <td>2008.0</td>\n",
       "      <td>Racing</td>\n",
       "      <td>15.68</td>\n",
       "      <td>12.76</td>\n",
       "      <td>3.79</td>\n",
       "      <td>3.29</td>\n",
       "      <td>82.0</td>\n",
       "      <td>8.3</td>\n",
       "      <td>E</td>\n",
       "    </tr>\n",
       "    <tr>\n",
       "      <td>3</td>\n",
       "      <td>Wii Sports Resort</td>\n",
       "      <td>Wii</td>\n",
       "      <td>2009.0</td>\n",
       "      <td>Sports</td>\n",
       "      <td>15.61</td>\n",
       "      <td>10.93</td>\n",
       "      <td>3.28</td>\n",
       "      <td>2.95</td>\n",
       "      <td>80.0</td>\n",
       "      <td>8</td>\n",
       "      <td>E</td>\n",
       "    </tr>\n",
       "    <tr>\n",
       "      <td>4</td>\n",
       "      <td>Pokemon Red/Pokemon Blue</td>\n",
       "      <td>GB</td>\n",
       "      <td>1996.0</td>\n",
       "      <td>Role-Playing</td>\n",
       "      <td>11.27</td>\n",
       "      <td>8.89</td>\n",
       "      <td>10.22</td>\n",
       "      <td>1.00</td>\n",
       "      <td>NaN</td>\n",
       "      <td>NaN</td>\n",
       "      <td>NaN</td>\n",
       "    </tr>\n",
       "  </tbody>\n",
       "</table>\n",
       "</div>"
      ],
      "text/plain": [
       "                       Name Platform  Year_of_Release         Genre  NA_sales  \\\n",
       "0                Wii Sports      Wii           2006.0        Sports     41.36   \n",
       "1         Super Mario Bros.      NES           1985.0      Platform     29.08   \n",
       "2            Mario Kart Wii      Wii           2008.0        Racing     15.68   \n",
       "3         Wii Sports Resort      Wii           2009.0        Sports     15.61   \n",
       "4  Pokemon Red/Pokemon Blue       GB           1996.0  Role-Playing     11.27   \n",
       "\n",
       "   EU_sales  JP_sales  Other_sales  Critic_Score User_Score Rating  \n",
       "0     28.96      3.77         8.45          76.0          8      E  \n",
       "1      3.58      6.81         0.77           NaN        NaN    NaN  \n",
       "2     12.76      3.79         3.29          82.0        8.3      E  \n",
       "3     10.93      3.28         2.95          80.0          8      E  \n",
       "4      8.89     10.22         1.00           NaN        NaN    NaN  "
      ]
     },
     "execution_count": 3,
     "metadata": {},
     "output_type": "execute_result"
    }
   ],
   "source": [
    "df = pd.read_csv('/datasets/games.csv')\n",
    "df.head()"
   ]
  },
  {
   "cell_type": "code",
   "execution_count": 4,
   "metadata": {},
   "outputs": [
    {
     "data": {
      "text/html": [
       "<div>\n",
       "<style scoped>\n",
       "    .dataframe tbody tr th:only-of-type {\n",
       "        vertical-align: middle;\n",
       "    }\n",
       "\n",
       "    .dataframe tbody tr th {\n",
       "        vertical-align: top;\n",
       "    }\n",
       "\n",
       "    .dataframe thead th {\n",
       "        text-align: right;\n",
       "    }\n",
       "</style>\n",
       "<table border=\"1\" class=\"dataframe\">\n",
       "  <thead>\n",
       "    <tr style=\"text-align: right;\">\n",
       "      <th></th>\n",
       "      <th>тип</th>\n",
       "      <th>пропуски</th>\n",
       "    </tr>\n",
       "  </thead>\n",
       "  <tbody>\n",
       "    <tr>\n",
       "      <td>Name</td>\n",
       "      <td>object</td>\n",
       "      <td>0.0%</td>\n",
       "    </tr>\n",
       "    <tr>\n",
       "      <td>Platform</td>\n",
       "      <td>object</td>\n",
       "      <td>0.0%</td>\n",
       "    </tr>\n",
       "    <tr>\n",
       "      <td>Year_of_Release</td>\n",
       "      <td>float64</td>\n",
       "      <td>1.6%</td>\n",
       "    </tr>\n",
       "    <tr>\n",
       "      <td>Genre</td>\n",
       "      <td>object</td>\n",
       "      <td>0.0%</td>\n",
       "    </tr>\n",
       "    <tr>\n",
       "      <td>NA_sales</td>\n",
       "      <td>float64</td>\n",
       "      <td>0.0%</td>\n",
       "    </tr>\n",
       "    <tr>\n",
       "      <td>EU_sales</td>\n",
       "      <td>float64</td>\n",
       "      <td>0.0%</td>\n",
       "    </tr>\n",
       "    <tr>\n",
       "      <td>JP_sales</td>\n",
       "      <td>float64</td>\n",
       "      <td>0.0%</td>\n",
       "    </tr>\n",
       "    <tr>\n",
       "      <td>Other_sales</td>\n",
       "      <td>float64</td>\n",
       "      <td>0.0%</td>\n",
       "    </tr>\n",
       "    <tr>\n",
       "      <td>Critic_Score</td>\n",
       "      <td>float64</td>\n",
       "      <td>51.3%</td>\n",
       "    </tr>\n",
       "    <tr>\n",
       "      <td>User_Score</td>\n",
       "      <td>object</td>\n",
       "      <td>40.1%</td>\n",
       "    </tr>\n",
       "    <tr>\n",
       "      <td>Rating</td>\n",
       "      <td>object</td>\n",
       "      <td>40.5%</td>\n",
       "    </tr>\n",
       "  </tbody>\n",
       "</table>\n",
       "</div>"
      ],
      "text/plain": [
       "                     тип пропуски\n",
       "Name              object     0.0%\n",
       "Platform          object     0.0%\n",
       "Year_of_Release  float64     1.6%\n",
       "Genre             object     0.0%\n",
       "NA_sales         float64     0.0%\n",
       "EU_sales         float64     0.0%\n",
       "JP_sales         float64     0.0%\n",
       "Other_sales      float64     0.0%\n",
       "Critic_Score     float64    51.3%\n",
       "User_Score        object    40.1%\n",
       "Rating            object    40.5%"
      ]
     },
     "metadata": {},
     "output_type": "display_data"
    },
    {
     "name": "stdout",
     "output_type": "stream",
     "text": [
      "Столбцов с NA: 6 из 11\n",
      "Дубликатов нет\n",
      "Структура : (16715, 11)\n"
     ]
    }
   ],
   "source": [
    "df_info(df)"
   ]
  },
  {
   "cell_type": "markdown",
   "metadata": {},
   "source": [
    "### Подготовка данных"
   ]
  },
  {
   "cell_type": "markdown",
   "metadata": {},
   "source": [
    "Переименование столбцов"
   ]
  },
  {
   "cell_type": "code",
   "execution_count": 5,
   "metadata": {},
   "outputs": [
    {
     "data": {
      "text/plain": [
       "Index(['name', 'platform', 'year_of_release', 'genre', 'na_sales', 'eu_sales',\n",
       "       'jp_sales', 'other_sales', 'critic_score', 'user_score', 'rating'],\n",
       "      dtype='object')"
      ]
     },
     "execution_count": 5,
     "metadata": {},
     "output_type": "execute_result"
    }
   ],
   "source": [
    "df.columns=[i.lower() for i in df.columns]\n",
    "df.columns"
   ]
  },
  {
   "cell_type": "markdown",
   "metadata": {},
   "source": [
    "Изучение данных по столбцам на наличие выбросов. Категоризация."
   ]
  },
  {
   "cell_type": "code",
   "execution_count": 6,
   "metadata": {},
   "outputs": [
    {
     "data": {
      "text/plain": [
       "array(['Wii', 'NES', 'GB', 'DS', 'X360', 'PS3', 'PS2', 'SNES', 'GBA',\n",
       "       'PS4', '3DS', 'N64', 'PS', 'XB', 'PC', '2600', 'PSP', 'XOne',\n",
       "       'WiiU', 'GC', 'GEN', 'DC', 'PSV', 'SAT', 'SCD', 'WS', 'NG', 'TG16',\n",
       "       '3DO', 'GG', 'PCFX'], dtype=object)"
      ]
     },
     "execution_count": 6,
     "metadata": {},
     "output_type": "execute_result"
    }
   ],
   "source": [
    "df.platform.unique()"
   ]
  },
  {
   "cell_type": "markdown",
   "metadata": {},
   "source": [
    "Проведем категоризацию"
   ]
  },
  {
   "cell_type": "code",
   "execution_count": 7,
   "metadata": {},
   "outputs": [
    {
     "data": {
      "text/html": [
       "<div>\n",
       "<style scoped>\n",
       "    .dataframe tbody tr th:only-of-type {\n",
       "        vertical-align: middle;\n",
       "    }\n",
       "\n",
       "    .dataframe tbody tr th {\n",
       "        vertical-align: top;\n",
       "    }\n",
       "\n",
       "    .dataframe thead th {\n",
       "        text-align: right;\n",
       "    }\n",
       "</style>\n",
       "<table border=\"1\" class=\"dataframe\">\n",
       "  <thead>\n",
       "    <tr style=\"text-align: right;\">\n",
       "      <th></th>\n",
       "      <th>name</th>\n",
       "      <th>platform</th>\n",
       "      <th>year_of_release</th>\n",
       "      <th>genre</th>\n",
       "      <th>na_sales</th>\n",
       "      <th>eu_sales</th>\n",
       "      <th>jp_sales</th>\n",
       "      <th>other_sales</th>\n",
       "      <th>critic_score</th>\n",
       "      <th>user_score</th>\n",
       "      <th>rating</th>\n",
       "      <th>platform_id</th>\n",
       "    </tr>\n",
       "  </thead>\n",
       "  <tbody>\n",
       "    <tr>\n",
       "      <td>9469</td>\n",
       "      <td>F1 2011</td>\n",
       "      <td>PSV</td>\n",
       "      <td>2011.0</td>\n",
       "      <td>Racing</td>\n",
       "      <td>0.03</td>\n",
       "      <td>0.07</td>\n",
       "      <td>0.01</td>\n",
       "      <td>0.02</td>\n",
       "      <td>66.0</td>\n",
       "      <td>6.2</td>\n",
       "      <td>E</td>\n",
       "      <td>22</td>\n",
       "    </tr>\n",
       "    <tr>\n",
       "      <td>9974</td>\n",
       "      <td>DEATH NOTE: Kira Game</td>\n",
       "      <td>DS</td>\n",
       "      <td>2007.0</td>\n",
       "      <td>Adventure</td>\n",
       "      <td>0.00</td>\n",
       "      <td>0.00</td>\n",
       "      <td>0.12</td>\n",
       "      <td>0.00</td>\n",
       "      <td>NaN</td>\n",
       "      <td>NaN</td>\n",
       "      <td>NaN</td>\n",
       "      <td>3</td>\n",
       "    </tr>\n",
       "  </tbody>\n",
       "</table>\n",
       "</div>"
      ],
      "text/plain": [
       "                       name platform  year_of_release      genre  na_sales  \\\n",
       "9469                F1 2011      PSV           2011.0     Racing      0.03   \n",
       "9974  DEATH NOTE: Kira Game       DS           2007.0  Adventure      0.00   \n",
       "\n",
       "      eu_sales  jp_sales  other_sales  critic_score user_score rating  \\\n",
       "9469      0.07      0.01         0.02          66.0        6.2      E   \n",
       "9974      0.00      0.12         0.00           NaN        NaN    NaN   \n",
       "\n",
       "      platform_id  \n",
       "9469           22  \n",
       "9974            3  "
      ]
     },
     "execution_count": 7,
     "metadata": {},
     "output_type": "execute_result"
    }
   ],
   "source": [
    "df=col_cat(df,'platform')\n",
    "df.sample(2)"
   ]
  },
  {
   "cell_type": "code",
   "execution_count": 8,
   "metadata": {},
   "outputs": [
    {
     "data": {
      "text/plain": [
       "array(['Sports', 'Platform', 'Racing', 'Role-Playing', 'Puzzle', 'Misc',\n",
       "       'Shooter', 'Simulation', 'Action', 'Fighting', 'Adventure',\n",
       "       'Strategy', nan], dtype=object)"
      ]
     },
     "execution_count": 8,
     "metadata": {},
     "output_type": "execute_result"
    }
   ],
   "source": [
    "df.genre.unique()"
   ]
  },
  {
   "cell_type": "code",
   "execution_count": 9,
   "metadata": {},
   "outputs": [
    {
     "data": {
      "text/html": [
       "<div>\n",
       "<style scoped>\n",
       "    .dataframe tbody tr th:only-of-type {\n",
       "        vertical-align: middle;\n",
       "    }\n",
       "\n",
       "    .dataframe tbody tr th {\n",
       "        vertical-align: top;\n",
       "    }\n",
       "\n",
       "    .dataframe thead th {\n",
       "        text-align: right;\n",
       "    }\n",
       "</style>\n",
       "<table border=\"1\" class=\"dataframe\">\n",
       "  <thead>\n",
       "    <tr style=\"text-align: right;\">\n",
       "      <th></th>\n",
       "      <th>name</th>\n",
       "      <th>platform</th>\n",
       "      <th>year_of_release</th>\n",
       "      <th>genre</th>\n",
       "      <th>na_sales</th>\n",
       "      <th>eu_sales</th>\n",
       "      <th>jp_sales</th>\n",
       "      <th>other_sales</th>\n",
       "      <th>critic_score</th>\n",
       "      <th>user_score</th>\n",
       "      <th>rating</th>\n",
       "      <th>platform_id</th>\n",
       "      <th>genre_id</th>\n",
       "    </tr>\n",
       "  </thead>\n",
       "  <tbody>\n",
       "    <tr>\n",
       "      <td>1580</td>\n",
       "      <td>Kung Fu Panda</td>\n",
       "      <td>DS</td>\n",
       "      <td>2008.0</td>\n",
       "      <td>Action</td>\n",
       "      <td>0.56</td>\n",
       "      <td>0.56</td>\n",
       "      <td>0.00</td>\n",
       "      <td>0.14</td>\n",
       "      <td>NaN</td>\n",
       "      <td>NaN</td>\n",
       "      <td>NaN</td>\n",
       "      <td>3</td>\n",
       "      <td>8.0</td>\n",
       "    </tr>\n",
       "    <tr>\n",
       "      <td>3283</td>\n",
       "      <td>Fire Emblem: Shadow Dragon</td>\n",
       "      <td>DS</td>\n",
       "      <td>2008.0</td>\n",
       "      <td>Role-Playing</td>\n",
       "      <td>0.29</td>\n",
       "      <td>0.02</td>\n",
       "      <td>0.27</td>\n",
       "      <td>0.03</td>\n",
       "      <td>81.0</td>\n",
       "      <td>7</td>\n",
       "      <td>E10+</td>\n",
       "      <td>3</td>\n",
       "      <td>3.0</td>\n",
       "    </tr>\n",
       "  </tbody>\n",
       "</table>\n",
       "</div>"
      ],
      "text/plain": [
       "                            name platform  year_of_release         genre  \\\n",
       "1580               Kung Fu Panda       DS           2008.0        Action   \n",
       "3283  Fire Emblem: Shadow Dragon       DS           2008.0  Role-Playing   \n",
       "\n",
       "      na_sales  eu_sales  jp_sales  other_sales  critic_score user_score  \\\n",
       "1580      0.56      0.56      0.00         0.14           NaN        NaN   \n",
       "3283      0.29      0.02      0.27         0.03          81.0          7   \n",
       "\n",
       "     rating  platform_id  genre_id  \n",
       "1580    NaN            3       8.0  \n",
       "3283   E10+            3       3.0  "
      ]
     },
     "execution_count": 9,
     "metadata": {},
     "output_type": "execute_result"
    }
   ],
   "source": [
    "df=col_cat(df,'genre')\n",
    "df.sample(2)"
   ]
  },
  {
   "cell_type": "code",
   "execution_count": 10,
   "metadata": {},
   "outputs": [
    {
     "data": {
      "text/plain": [
       "0.00    4508\n",
       "0.02     576\n",
       "0.03     561\n",
       "0.04     549\n",
       "0.01     545\n",
       "        ... \n",
       "4.98       1\n",
       "4.21       1\n",
       "6.82       1\n",
       "5.05       1\n",
       "9.00       1\n",
       "Name: na_sales, Length: 402, dtype: int64"
      ]
     },
     "execution_count": 10,
     "metadata": {},
     "output_type": "execute_result"
    }
   ],
   "source": [
    "df.na_sales.value_counts()"
   ]
  },
  {
   "cell_type": "code",
   "execution_count": 11,
   "metadata": {},
   "outputs": [
    {
     "data": {
      "text/plain": [
       "0.00    5870\n",
       "0.01    1494\n",
       "0.02    1308\n",
       "0.03     926\n",
       "0.04     709\n",
       "        ... \n",
       "3.59       1\n",
       "4.02       1\n",
       "2.24       1\n",
       "2.27       1\n",
       "3.75       1\n",
       "Name: eu_sales, Length: 307, dtype: int64"
      ]
     },
     "execution_count": 11,
     "metadata": {},
     "output_type": "execute_result"
    }
   ],
   "source": [
    "df.eu_sales.value_counts()"
   ]
  },
  {
   "cell_type": "code",
   "execution_count": 12,
   "metadata": {},
   "outputs": [
    {
     "data": {
      "text/plain": [
       "0.00    10514\n",
       "0.02      741\n",
       "0.01      706\n",
       "0.03      546\n",
       "0.04      397\n",
       "        ...  \n",
       "1.16        1\n",
       "2.12        1\n",
       "7.20        1\n",
       "2.17        1\n",
       "6.50        1\n",
       "Name: jp_sales, Length: 244, dtype: int64"
      ]
     },
     "execution_count": 12,
     "metadata": {},
     "output_type": "execute_result"
    }
   ],
   "source": [
    "df.jp_sales.value_counts()"
   ]
  },
  {
   "cell_type": "code",
   "execution_count": 13,
   "metadata": {},
   "outputs": [
    {
     "data": {
      "text/plain": [
       "0.00    6601\n",
       "0.01    3464\n",
       "0.02    1618\n",
       "0.03     926\n",
       "0.04     654\n",
       "        ... \n",
       "0.96       1\n",
       "1.93       1\n",
       "0.97       1\n",
       "1.37       1\n",
       "1.06       1\n",
       "Name: other_sales, Length: 155, dtype: int64"
      ]
     },
     "execution_count": 13,
     "metadata": {},
     "output_type": "execute_result"
    }
   ],
   "source": [
    "df.other_sales.value_counts()"
   ]
  },
  {
   "cell_type": "code",
   "execution_count": 14,
   "metadata": {},
   "outputs": [
    {
     "data": {
      "text/plain": [
       "count    8137.000000\n",
       "mean       68.967679\n",
       "std        13.938165\n",
       "min        13.000000\n",
       "25%        60.000000\n",
       "50%        71.000000\n",
       "75%        79.000000\n",
       "max        98.000000\n",
       "Name: critic_score, dtype: float64"
      ]
     },
     "execution_count": 14,
     "metadata": {},
     "output_type": "execute_result"
    }
   ],
   "source": [
    "df.critic_score.describe()"
   ]
  },
  {
   "cell_type": "code",
   "execution_count": 15,
   "metadata": {},
   "outputs": [
    {
     "data": {
      "text/plain": [
       "tbd    2424\n",
       "7.8     324\n",
       "8       290\n",
       "8.2     282\n",
       "8.3     254\n",
       "       ... \n",
       "1.9       2\n",
       "0.7       2\n",
       "1         2\n",
       "0         1\n",
       "9.7       1\n",
       "Name: user_score, Length: 96, dtype: int64"
      ]
     },
     "execution_count": 15,
     "metadata": {},
     "output_type": "execute_result"
    }
   ],
   "source": [
    "df.user_score.value_counts()"
   ]
  },
  {
   "cell_type": "markdown",
   "metadata": {},
   "source": [
    "Оценка tbd расшифровывается как to be determined - пока не определён. Заменим на NaN"
   ]
  },
  {
   "cell_type": "code",
   "execution_count": 16,
   "metadata": {},
   "outputs": [],
   "source": [
    "df['user_score'].replace('tbd', np.nan, inplace=True)"
   ]
  },
  {
   "cell_type": "code",
   "execution_count": 17,
   "metadata": {},
   "outputs": [
    {
     "data": {
      "text/plain": [
       "count    7590.000000\n",
       "mean        7.125046\n",
       "std         1.500006\n",
       "min         0.000000\n",
       "25%         6.400000\n",
       "50%         7.500000\n",
       "75%         8.200000\n",
       "max         9.700000\n",
       "Name: user_score, dtype: float64"
      ]
     },
     "execution_count": 17,
     "metadata": {},
     "output_type": "execute_result"
    }
   ],
   "source": [
    "df['user_score']=pd.to_numeric(df['user_score'], errors='coerce')\n",
    "df['user_score'].describe()"
   ]
  },
  {
   "cell_type": "markdown",
   "metadata": {},
   "source": [
    "Изучим имеющиеся рейтинги"
   ]
  },
  {
   "cell_type": "code",
   "execution_count": 18,
   "metadata": {},
   "outputs": [
    {
     "data": {
      "text/plain": [
       "array(['E', nan, 'M', 'T', 'E10+', 'K-A', 'AO', 'EC', 'RP'], dtype=object)"
      ]
     },
     "execution_count": 18,
     "metadata": {},
     "output_type": "execute_result"
    }
   ],
   "source": [
    "df['rating'].unique()"
   ]
  },
  {
   "cell_type": "markdown",
   "metadata": {},
   "source": [
    "Заменим устаревшие рейтинги на актуальные, а также признак отсутствия рейтинга RP на NaN. Отсортируем рейтинг по возрастному ограничению и проведем категоризацию."
   ]
  },
  {
   "cell_type": "code",
   "execution_count": 19,
   "metadata": {},
   "outputs": [],
   "source": [
    "df['rating'].replace('K-A', 'E', inplace=True)\n",
    "df['rating'].replace('RP', np.nan, inplace=True)"
   ]
  },
  {
   "cell_type": "code",
   "execution_count": 20,
   "metadata": {},
   "outputs": [
    {
     "data": {
      "text/html": [
       "<div>\n",
       "<style scoped>\n",
       "    .dataframe tbody tr th:only-of-type {\n",
       "        vertical-align: middle;\n",
       "    }\n",
       "\n",
       "    .dataframe tbody tr th {\n",
       "        vertical-align: top;\n",
       "    }\n",
       "\n",
       "    .dataframe thead th {\n",
       "        text-align: right;\n",
       "    }\n",
       "</style>\n",
       "<table border=\"1\" class=\"dataframe\">\n",
       "  <thead>\n",
       "    <tr style=\"text-align: right;\">\n",
       "      <th></th>\n",
       "      <th>name</th>\n",
       "      <th>platform</th>\n",
       "      <th>year_of_release</th>\n",
       "      <th>genre</th>\n",
       "      <th>na_sales</th>\n",
       "      <th>eu_sales</th>\n",
       "      <th>jp_sales</th>\n",
       "      <th>other_sales</th>\n",
       "      <th>critic_score</th>\n",
       "      <th>user_score</th>\n",
       "      <th>rating</th>\n",
       "      <th>platform_id</th>\n",
       "      <th>genre_id</th>\n",
       "      <th>rating_id</th>\n",
       "    </tr>\n",
       "  </thead>\n",
       "  <tbody>\n",
       "    <tr>\n",
       "      <td>7797</td>\n",
       "      <td>Jikkyou Powerful Pro Yakyuu '96 Kaimakuban</td>\n",
       "      <td>SNES</td>\n",
       "      <td>1996.0</td>\n",
       "      <td>Sports</td>\n",
       "      <td>0.00</td>\n",
       "      <td>0.00</td>\n",
       "      <td>0.19</td>\n",
       "      <td>0.00</td>\n",
       "      <td>NaN</td>\n",
       "      <td>NaN</td>\n",
       "      <td>NaN</td>\n",
       "      <td>7</td>\n",
       "      <td>0.0</td>\n",
       "      <td>NaN</td>\n",
       "    </tr>\n",
       "    <tr>\n",
       "      <td>7224</td>\n",
       "      <td>Ultimate Band</td>\n",
       "      <td>DS</td>\n",
       "      <td>2008.0</td>\n",
       "      <td>Misc</td>\n",
       "      <td>0.19</td>\n",
       "      <td>0.02</td>\n",
       "      <td>0.00</td>\n",
       "      <td>0.02</td>\n",
       "      <td>69.0</td>\n",
       "      <td>NaN</td>\n",
       "      <td>E</td>\n",
       "      <td>3</td>\n",
       "      <td>5.0</td>\n",
       "      <td>1.0</td>\n",
       "    </tr>\n",
       "  </tbody>\n",
       "</table>\n",
       "</div>"
      ],
      "text/plain": [
       "                                            name platform  year_of_release  \\\n",
       "7797  Jikkyou Powerful Pro Yakyuu '96 Kaimakuban     SNES           1996.0   \n",
       "7224                               Ultimate Band       DS           2008.0   \n",
       "\n",
       "       genre  na_sales  eu_sales  jp_sales  other_sales  critic_score  \\\n",
       "7797  Sports      0.00      0.00      0.19         0.00           NaN   \n",
       "7224    Misc      0.19      0.02      0.00         0.02          69.0   \n",
       "\n",
       "      user_score rating  platform_id  genre_id  rating_id  \n",
       "7797         NaN    NaN            7       0.0        NaN  \n",
       "7224         NaN      E            3       5.0        1.0  "
      ]
     },
     "execution_count": 20,
     "metadata": {},
     "output_type": "execute_result"
    }
   ],
   "source": [
    "esrb=['EC', 'E', 'E10+', 'T', 'M', 'AO']\n",
    "df=col_cat(df,'rating', esrb)\n",
    "df.sample(2)"
   ]
  },
  {
   "cell_type": "markdown",
   "metadata": {},
   "source": [
    "Посмотрим на пропуски"
   ]
  },
  {
   "cell_type": "code",
   "execution_count": 21,
   "metadata": {},
   "outputs": [
    {
     "data": {
      "text/html": [
       "<div>\n",
       "<style scoped>\n",
       "    .dataframe tbody tr th:only-of-type {\n",
       "        vertical-align: middle;\n",
       "    }\n",
       "\n",
       "    .dataframe tbody tr th {\n",
       "        vertical-align: top;\n",
       "    }\n",
       "\n",
       "    .dataframe thead th {\n",
       "        text-align: right;\n",
       "    }\n",
       "</style>\n",
       "<table border=\"1\" class=\"dataframe\">\n",
       "  <thead>\n",
       "    <tr style=\"text-align: right;\">\n",
       "      <th></th>\n",
       "      <th>тип</th>\n",
       "      <th>пропуски</th>\n",
       "    </tr>\n",
       "  </thead>\n",
       "  <tbody>\n",
       "    <tr>\n",
       "      <td>name</td>\n",
       "      <td>object</td>\n",
       "      <td>0.0%</td>\n",
       "    </tr>\n",
       "    <tr>\n",
       "      <td>platform</td>\n",
       "      <td>object</td>\n",
       "      <td>0.0%</td>\n",
       "    </tr>\n",
       "    <tr>\n",
       "      <td>year_of_release</td>\n",
       "      <td>float64</td>\n",
       "      <td>1.6%</td>\n",
       "    </tr>\n",
       "    <tr>\n",
       "      <td>genre</td>\n",
       "      <td>object</td>\n",
       "      <td>0.0%</td>\n",
       "    </tr>\n",
       "    <tr>\n",
       "      <td>na_sales</td>\n",
       "      <td>float64</td>\n",
       "      <td>0.0%</td>\n",
       "    </tr>\n",
       "    <tr>\n",
       "      <td>eu_sales</td>\n",
       "      <td>float64</td>\n",
       "      <td>0.0%</td>\n",
       "    </tr>\n",
       "    <tr>\n",
       "      <td>jp_sales</td>\n",
       "      <td>float64</td>\n",
       "      <td>0.0%</td>\n",
       "    </tr>\n",
       "    <tr>\n",
       "      <td>other_sales</td>\n",
       "      <td>float64</td>\n",
       "      <td>0.0%</td>\n",
       "    </tr>\n",
       "    <tr>\n",
       "      <td>critic_score</td>\n",
       "      <td>float64</td>\n",
       "      <td>51.3%</td>\n",
       "    </tr>\n",
       "    <tr>\n",
       "      <td>user_score</td>\n",
       "      <td>float64</td>\n",
       "      <td>54.6%</td>\n",
       "    </tr>\n",
       "    <tr>\n",
       "      <td>rating</td>\n",
       "      <td>object</td>\n",
       "      <td>40.5%</td>\n",
       "    </tr>\n",
       "    <tr>\n",
       "      <td>platform_id</td>\n",
       "      <td>int64</td>\n",
       "      <td>0.0%</td>\n",
       "    </tr>\n",
       "    <tr>\n",
       "      <td>genre_id</td>\n",
       "      <td>float64</td>\n",
       "      <td>0.0%</td>\n",
       "    </tr>\n",
       "    <tr>\n",
       "      <td>rating_id</td>\n",
       "      <td>float64</td>\n",
       "      <td>40.5%</td>\n",
       "    </tr>\n",
       "  </tbody>\n",
       "</table>\n",
       "</div>"
      ],
      "text/plain": [
       "                     тип пропуски\n",
       "name              object     0.0%\n",
       "platform          object     0.0%\n",
       "year_of_release  float64     1.6%\n",
       "genre             object     0.0%\n",
       "na_sales         float64     0.0%\n",
       "eu_sales         float64     0.0%\n",
       "jp_sales         float64     0.0%\n",
       "other_sales      float64     0.0%\n",
       "critic_score     float64    51.3%\n",
       "user_score       float64    54.6%\n",
       "rating            object    40.5%\n",
       "platform_id        int64     0.0%\n",
       "genre_id         float64     0.0%\n",
       "rating_id        float64    40.5%"
      ]
     },
     "metadata": {},
     "output_type": "display_data"
    },
    {
     "name": "stdout",
     "output_type": "stream",
     "text": [
      "Столбцов с NA: 8 из 14\n",
      "Дубликатов нет\n",
      "Структура : (16715, 14)\n"
     ]
    }
   ],
   "source": [
    "df_info(df)"
   ]
  },
  {
   "cell_type": "markdown",
   "metadata": {},
   "source": [
    "Попробуем восствановить пропуски по корреляции смежных значений"
   ]
  },
  {
   "cell_type": "code",
   "execution_count": 22,
   "metadata": {},
   "outputs": [
    {
     "data": {
      "text/plain": [
       "[None, None, None, None]"
      ]
     },
     "execution_count": 22,
     "metadata": {},
     "output_type": "execute_result"
    }
   ],
   "source": [
    "col=list(df.columns)\n",
    "[col.remove(i) for i in ['name','platform','genre','rating']]\n",
    "#df[col]=filldf(df[col],9)"
   ]
  },
  {
   "cell_type": "markdown",
   "metadata": {},
   "source": [
    "Получилось восстановить не все значения, попробуем выяснить причины и дополнить вариации восстановления путем категоризации данных."
   ]
  },
  {
   "cell_type": "code",
   "execution_count": 23,
   "metadata": {},
   "outputs": [
    {
     "name": "stdout",
     "output_type": "stream",
     "text": [
      "[13.0, 50.0, 58.0, 63.0, 67.0, 71.0, 74.0, 78.0, 81.0, 85.0, 98.0]\n",
      "Series([], Name: critic_score, dtype: int64)\n",
      "[0.0, 5.1, 6.0, 6.7, 7.1, 7.5, 7.8, 8.1, 8.3, 8.7, 9.7]\n",
      "Series([], Name: user_score, dtype: int64)\n",
      "[1.0, 1.5, 2.5, 3.5, 4.5, 5.0, 6.0, 7.0, 7.5, 9.0, 10.0]\n",
      "Series([], Name: total_score, dtype: int64)\n"
     ]
    }
   ],
   "source": [
    "df=col_cat(df,'critic_score',catn=10)\n",
    "df=col_cat(df,'user_score',catn=10)\n",
    "df['total_score']=df[['critic_score_id','user_score_id']].mean(axis=1)\n",
    "df=col_cat(df,'total_score',catn=10)"
   ]
  },
  {
   "cell_type": "code",
   "execution_count": 24,
   "metadata": {},
   "outputs": [
    {
     "data": {
      "text/plain": [
       "array([ 7., nan,  9.,  8., 10.,  2.,  3.,  6.,  5.,  1.,  4.])"
      ]
     },
     "execution_count": 24,
     "metadata": {},
     "output_type": "execute_result"
    }
   ],
   "source": [
    "df['critic_score_id'].unique()"
   ]
  },
  {
   "cell_type": "markdown",
   "metadata": {},
   "source": [
    "Посмотрим корреляцию столбцов с пропущенными значениями"
   ]
  },
  {
   "cell_type": "code",
   "execution_count": 25,
   "metadata": {},
   "outputs": [
    {
     "data": {
      "image/png": "[encoded data removed]",
      "text/plain": [
       "<Figure size 720x504 with 2 Axes>"
      ]
     },
     "metadata": {
      "needs_background": "light"
     },
     "output_type": "display_data"
    }
   ],
   "source": [
    "plt.figure(figsize = (10,7))\n",
    "sns.heatmap(df.corr()[['year_of_release','rating_id','user_score_id','critic_score_id']], cmap = 'Blues', annot = True)\n",
    "plt.title('Корреляционаая матрица')\n",
    "plt.show() "
   ]
  },
  {
   "cell_type": "markdown",
   "metadata": {},
   "source": [
    "Посмотрим разброс значений на признаки по которым можно провести восстановление"
   ]
  },
  {
   "cell_type": "code",
   "execution_count": 26,
   "metadata": {},
   "outputs": [
    {
     "data": {
      "image/png": "[encoded data removed]",
      "text/plain": [
       "<Figure size 720x504 with 1 Axes>"
      ]
     },
     "metadata": {
      "needs_background": "light"
     },
     "output_type": "display_data"
    }
   ],
   "source": [
    "plt.figure(figsize = (10,7))\n",
    "plt.boxplot(df.loc[~np.isnan(df['critic_score']),'critic_score'])\n",
    "plt.show()"
   ]
  },
  {
   "cell_type": "code",
   "execution_count": 27,
   "metadata": {},
   "outputs": [
    {
     "data": {
      "text/plain": [
       "count    8137.000000\n",
       "mean       68.967679\n",
       "std        13.938165\n",
       "min        13.000000\n",
       "25%        60.000000\n",
       "50%        71.000000\n",
       "75%        79.000000\n",
       "max        98.000000\n",
       "Name: critic_score, dtype: float64"
      ]
     },
     "execution_count": 27,
     "metadata": {},
     "output_type": "execute_result"
    }
   ],
   "source": [
    "df['critic_score'].describe()"
   ]
  },
  {
   "cell_type": "code",
   "execution_count": 28,
   "metadata": {},
   "outputs": [
    {
     "data": {
      "text/plain": [
       "8005"
      ]
     },
     "execution_count": 28,
     "metadata": {},
     "output_type": "execute_result"
    }
   ],
   "source": [
    "df.loc[(df.critic_score.isna()) & (df.user_score.isna())].shape[0]"
   ]
  },
  {
   "cell_type": "markdown",
   "metadata": {},
   "source": [
    "Часть значений не была восстановлена т.к коррелируемые признаки имеют смежные пропуски."
   ]
  },
  {
   "cell_type": "code",
   "execution_count": 29,
   "metadata": {},
   "outputs": [],
   "source": [
    "#df['user_score_id']=df['user_score_id'].fillna(df.groupby('rating_id')['user_score_id'].transform('median'))"
   ]
  },
  {
   "cell_type": "markdown",
   "metadata": {},
   "source": [
    "Проведем оптимизацию типов"
   ]
  },
  {
   "cell_type": "code",
   "execution_count": 30,
   "metadata": {},
   "outputs": [
    {
     "name": "stdout",
     "output_type": "stream",
     "text": [
      "name                 object\n",
      "platform           category\n",
      "year_of_release     float32\n",
      "genre              category\n",
      "na_sales            float32\n",
      "eu_sales            float32\n",
      "jp_sales            float32\n",
      "other_sales         float32\n",
      "critic_score        float32\n",
      "user_score          float32\n",
      "rating             category\n",
      "platform_id           uint8\n",
      "genre_id            float32\n",
      "rating_id           float32\n",
      "critic_score_id     float32\n",
      "user_score_id       float32\n",
      "total_score         float32\n",
      "total_score_id      float32\n",
      "dtype: object\n"
     ]
    }
   ],
   "source": [
    "type_optimize(df)"
   ]
  },
  {
   "cell_type": "markdown",
   "metadata": {},
   "source": [
    "Изменим тип year_of_release с float на int. Для этого избавимся от пропусков. Т.к их незначительно, то удаляем."
   ]
  },
  {
   "cell_type": "code",
   "execution_count": 31,
   "metadata": {},
   "outputs": [],
   "source": [
    "df.dropna(subset = ['year_of_release'], inplace = True)\n",
    "df['year_of_release']=df['year_of_release'].astype('int')\n",
    "df['platform']=df['platform'].astype('object')\n",
    "df['rating']=df['rating'].astype('object')\n",
    "df['genre']=df['genre'].astype('object')"
   ]
  },
  {
   "cell_type": "markdown",
   "metadata": {},
   "source": [
    "Посмотрим конечное количество пропусков и типы данных после всех манипуляций."
   ]
  },
  {
   "cell_type": "code",
   "execution_count": 32,
   "metadata": {
    "scrolled": false
   },
   "outputs": [
    {
     "data": {
      "text/html": [
       "<div>\n",
       "<style scoped>\n",
       "    .dataframe tbody tr th:only-of-type {\n",
       "        vertical-align: middle;\n",
       "    }\n",
       "\n",
       "    .dataframe tbody tr th {\n",
       "        vertical-align: top;\n",
       "    }\n",
       "\n",
       "    .dataframe thead th {\n",
       "        text-align: right;\n",
       "    }\n",
       "</style>\n",
       "<table border=\"1\" class=\"dataframe\">\n",
       "  <thead>\n",
       "    <tr style=\"text-align: right;\">\n",
       "      <th></th>\n",
       "      <th>тип</th>\n",
       "      <th>пропуски</th>\n",
       "    </tr>\n",
       "  </thead>\n",
       "  <tbody>\n",
       "    <tr>\n",
       "      <td>name</td>\n",
       "      <td>object</td>\n",
       "      <td>0.0%</td>\n",
       "    </tr>\n",
       "    <tr>\n",
       "      <td>platform</td>\n",
       "      <td>object</td>\n",
       "      <td>0.0%</td>\n",
       "    </tr>\n",
       "    <tr>\n",
       "      <td>year_of_release</td>\n",
       "      <td>int64</td>\n",
       "      <td>0.0%</td>\n",
       "    </tr>\n",
       "    <tr>\n",
       "      <td>genre</td>\n",
       "      <td>object</td>\n",
       "      <td>0.0%</td>\n",
       "    </tr>\n",
       "    <tr>\n",
       "      <td>na_sales</td>\n",
       "      <td>float32</td>\n",
       "      <td>0.0%</td>\n",
       "    </tr>\n",
       "    <tr>\n",
       "      <td>eu_sales</td>\n",
       "      <td>float32</td>\n",
       "      <td>0.0%</td>\n",
       "    </tr>\n",
       "    <tr>\n",
       "      <td>jp_sales</td>\n",
       "      <td>float32</td>\n",
       "      <td>0.0%</td>\n",
       "    </tr>\n",
       "    <tr>\n",
       "      <td>other_sales</td>\n",
       "      <td>float32</td>\n",
       "      <td>0.0%</td>\n",
       "    </tr>\n",
       "    <tr>\n",
       "      <td>critic_score</td>\n",
       "      <td>float32</td>\n",
       "      <td>51.5%</td>\n",
       "    </tr>\n",
       "    <tr>\n",
       "      <td>user_score</td>\n",
       "      <td>float32</td>\n",
       "      <td>54.6%</td>\n",
       "    </tr>\n",
       "    <tr>\n",
       "      <td>rating</td>\n",
       "      <td>object</td>\n",
       "      <td>40.6%</td>\n",
       "    </tr>\n",
       "    <tr>\n",
       "      <td>platform_id</td>\n",
       "      <td>uint8</td>\n",
       "      <td>0.0%</td>\n",
       "    </tr>\n",
       "    <tr>\n",
       "      <td>genre_id</td>\n",
       "      <td>float32</td>\n",
       "      <td>0.0%</td>\n",
       "    </tr>\n",
       "    <tr>\n",
       "      <td>rating_id</td>\n",
       "      <td>float32</td>\n",
       "      <td>40.6%</td>\n",
       "    </tr>\n",
       "    <tr>\n",
       "      <td>critic_score_id</td>\n",
       "      <td>float32</td>\n",
       "      <td>51.5%</td>\n",
       "    </tr>\n",
       "    <tr>\n",
       "      <td>user_score_id</td>\n",
       "      <td>float32</td>\n",
       "      <td>54.6%</td>\n",
       "    </tr>\n",
       "    <tr>\n",
       "      <td>total_score</td>\n",
       "      <td>float32</td>\n",
       "      <td>48.0%</td>\n",
       "    </tr>\n",
       "    <tr>\n",
       "      <td>total_score_id</td>\n",
       "      <td>float32</td>\n",
       "      <td>48.0%</td>\n",
       "    </tr>\n",
       "  </tbody>\n",
       "</table>\n",
       "</div>"
      ],
      "text/plain": [
       "                     тип пропуски\n",
       "name              object     0.0%\n",
       "platform          object     0.0%\n",
       "year_of_release    int64     0.0%\n",
       "genre             object     0.0%\n",
       "na_sales         float32     0.0%\n",
       "eu_sales         float32     0.0%\n",
       "jp_sales         float32     0.0%\n",
       "other_sales      float32     0.0%\n",
       "critic_score     float32    51.5%\n",
       "user_score       float32    54.6%\n",
       "rating            object    40.6%\n",
       "platform_id        uint8     0.0%\n",
       "genre_id         float32     0.0%\n",
       "rating_id        float32    40.6%\n",
       "critic_score_id  float32    51.5%\n",
       "user_score_id    float32    54.6%\n",
       "total_score      float32    48.0%\n",
       "total_score_id   float32    48.0%"
      ]
     },
     "metadata": {},
     "output_type": "display_data"
    },
    {
     "name": "stdout",
     "output_type": "stream",
     "text": [
      "Столбцов с NA: 11 из 18\n",
      "Дубликатов нет\n",
      "Структура : (16446, 18)\n"
     ]
    }
   ],
   "source": [
    "df_info(df)"
   ]
  },
  {
   "cell_type": "markdown",
   "metadata": {},
   "source": [
    "**Вывод:** Приведены в порядок типы данных, заголовки, заполнены пропуска. Часть пропусков восстановить не удалось, они оставлены, т.к их удаление приведет к значимой потере данных. Возможная причина пропусков - отсутствие данных(рейтинга)."
   ]
  },
  {
   "cell_type": "markdown",
   "metadata": {},
   "source": [
    "### Исследовательский анализ данных"
   ]
  },
  {
   "cell_type": "markdown",
   "metadata": {},
   "source": [
    "#### Количество игр выпускавшиеся в разные годы"
   ]
  },
  {
   "cell_type": "code",
   "execution_count": 33,
   "metadata": {},
   "outputs": [
    {
     "data": {
      "image/png": "[encoded data removed]",
      "text/plain": [
       "<Figure size 1224x504 with 1 Axes>"
      ]
     },
     "metadata": {
      "needs_background": "light"
     },
     "output_type": "display_data"
    }
   ],
   "source": [
    "df['year_of_release'].hist(bins=37,figsize = (17,7))\n",
    "plt.xticks(np.arange(1980,2017,step=1),rotation=30)\n",
    "plt.show()"
   ]
  },
  {
   "cell_type": "markdown",
   "metadata": {},
   "source": [
    "Как видно из графика до 1991 выпускалось  очень мало игр, данные с этими годами являются малоинформативными. Максимум выпуска игр приходится на 2007-2009 г."
   ]
  },
  {
   "cell_type": "markdown",
   "metadata": {},
   "source": [
    "#### Изменения продаж по платформам"
   ]
  },
  {
   "cell_type": "markdown",
   "metadata": {},
   "source": [
    "создадим столбец с общим итогом продаж"
   ]
  },
  {
   "cell_type": "code",
   "execution_count": 34,
   "metadata": {},
   "outputs": [
    {
     "data": {
      "text/html": [
       "<div>\n",
       "<style scoped>\n",
       "    .dataframe tbody tr th:only-of-type {\n",
       "        vertical-align: middle;\n",
       "    }\n",
       "\n",
       "    .dataframe tbody tr th {\n",
       "        vertical-align: top;\n",
       "    }\n",
       "\n",
       "    .dataframe thead th {\n",
       "        text-align: right;\n",
       "    }\n",
       "</style>\n",
       "<table border=\"1\" class=\"dataframe\">\n",
       "  <thead>\n",
       "    <tr style=\"text-align: right;\">\n",
       "      <th></th>\n",
       "      <th>name</th>\n",
       "      <th>platform</th>\n",
       "      <th>year_of_release</th>\n",
       "      <th>genre</th>\n",
       "      <th>na_sales</th>\n",
       "      <th>eu_sales</th>\n",
       "      <th>jp_sales</th>\n",
       "      <th>other_sales</th>\n",
       "      <th>critic_score</th>\n",
       "      <th>user_score</th>\n",
       "      <th>rating</th>\n",
       "      <th>platform_id</th>\n",
       "      <th>genre_id</th>\n",
       "      <th>rating_id</th>\n",
       "      <th>critic_score_id</th>\n",
       "      <th>user_score_id</th>\n",
       "      <th>total_score</th>\n",
       "      <th>total_score_id</th>\n",
       "      <th>total_sales</th>\n",
       "    </tr>\n",
       "  </thead>\n",
       "  <tbody>\n",
       "    <tr>\n",
       "      <td>7228</td>\n",
       "      <td>All-Star Baseball 2002</td>\n",
       "      <td>GC</td>\n",
       "      <td>2001</td>\n",
       "      <td>Sports</td>\n",
       "      <td>0.17</td>\n",
       "      <td>0.04</td>\n",
       "      <td>0.0</td>\n",
       "      <td>0.01</td>\n",
       "      <td>66.0</td>\n",
       "      <td>5.6</td>\n",
       "      <td>E</td>\n",
       "      <td>19</td>\n",
       "      <td>0.0</td>\n",
       "      <td>1.0</td>\n",
       "      <td>4.0</td>\n",
       "      <td>2.0</td>\n",
       "      <td>3.0</td>\n",
       "      <td>3.0</td>\n",
       "      <td>0.22</td>\n",
       "    </tr>\n",
       "    <tr>\n",
       "      <td>9302</td>\n",
       "      <td>Gladius</td>\n",
       "      <td>XB</td>\n",
       "      <td>2003</td>\n",
       "      <td>Strategy</td>\n",
       "      <td>0.10</td>\n",
       "      <td>0.03</td>\n",
       "      <td>0.0</td>\n",
       "      <td>0.00</td>\n",
       "      <td>79.0</td>\n",
       "      <td>8.5</td>\n",
       "      <td>T</td>\n",
       "      <td>13</td>\n",
       "      <td>11.0</td>\n",
       "      <td>3.0</td>\n",
       "      <td>8.0</td>\n",
       "      <td>9.0</td>\n",
       "      <td>8.5</td>\n",
       "      <td>9.0</td>\n",
       "      <td>0.13</td>\n",
       "    </tr>\n",
       "  </tbody>\n",
       "</table>\n",
       "</div>"
      ],
      "text/plain": [
       "                        name platform  year_of_release     genre  na_sales  \\\n",
       "7228  All-Star Baseball 2002       GC             2001    Sports      0.17   \n",
       "9302                 Gladius       XB             2003  Strategy      0.10   \n",
       "\n",
       "      eu_sales  jp_sales  other_sales  critic_score  user_score rating  \\\n",
       "7228      0.04       0.0         0.01          66.0         5.6      E   \n",
       "9302      0.03       0.0         0.00          79.0         8.5      T   \n",
       "\n",
       "      platform_id  genre_id  rating_id  critic_score_id  user_score_id  \\\n",
       "7228           19       0.0        1.0              4.0            2.0   \n",
       "9302           13      11.0        3.0              8.0            9.0   \n",
       "\n",
       "      total_score  total_score_id  total_sales  \n",
       "7228          3.0             3.0         0.22  \n",
       "9302          8.5             9.0         0.13  "
      ]
     },
     "execution_count": 34,
     "metadata": {},
     "output_type": "execute_result"
    }
   ],
   "source": [
    "df['total_sales']=df.loc[:, 'na_sales':'other_sales'].sum(axis=1)\n",
    "df.sample(2)"
   ]
  },
  {
   "cell_type": "markdown",
   "metadata": {},
   "source": [
    "Посмотрим топ-5 платформ по продажам"
   ]
  },
  {
   "cell_type": "code",
   "execution_count": 35,
   "metadata": {},
   "outputs": [
    {
     "data": {
      "text/html": [
       "<div>\n",
       "<style scoped>\n",
       "    .dataframe tbody tr th:only-of-type {\n",
       "        vertical-align: middle;\n",
       "    }\n",
       "\n",
       "    .dataframe tbody tr th {\n",
       "        vertical-align: top;\n",
       "    }\n",
       "\n",
       "    .dataframe thead th {\n",
       "        text-align: right;\n",
       "    }\n",
       "</style>\n",
       "<table border=\"1\" class=\"dataframe\">\n",
       "  <thead>\n",
       "    <tr style=\"text-align: right;\">\n",
       "      <th></th>\n",
       "      <th>total_sales</th>\n",
       "    </tr>\n",
       "    <tr>\n",
       "      <th>platform</th>\n",
       "      <th></th>\n",
       "    </tr>\n",
       "  </thead>\n",
       "  <tbody>\n",
       "    <tr>\n",
       "      <td>PS2</td>\n",
       "      <td>1233.559937</td>\n",
       "    </tr>\n",
       "    <tr>\n",
       "      <td>X360</td>\n",
       "      <td>961.239990</td>\n",
       "    </tr>\n",
       "    <tr>\n",
       "      <td>PS3</td>\n",
       "      <td>931.339966</td>\n",
       "    </tr>\n",
       "    <tr>\n",
       "      <td>Wii</td>\n",
       "      <td>891.179993</td>\n",
       "    </tr>\n",
       "    <tr>\n",
       "      <td>DS</td>\n",
       "      <td>802.780029</td>\n",
       "    </tr>\n",
       "  </tbody>\n",
       "</table>\n",
       "</div>"
      ],
      "text/plain": [
       "          total_sales\n",
       "platform             \n",
       "PS2       1233.559937\n",
       "X360       961.239990\n",
       "PS3        931.339966\n",
       "Wii        891.179993\n",
       "DS         802.780029"
      ]
     },
     "execution_count": 35,
     "metadata": {},
     "output_type": "execute_result"
    }
   ],
   "source": [
    "p_sales=df[['platform','total_sales']].groupby('platform').sum().sort_values(by='total_sales',ascending=False)\n",
    "p_sales[0:5]"
   ]
  },
  {
   "cell_type": "markdown",
   "metadata": {},
   "source": [
    "построим распределение по годам"
   ]
  },
  {
   "cell_type": "code",
   "execution_count": 36,
   "metadata": {},
   "outputs": [
    {
     "name": "stdout",
     "output_type": "stream",
     "text": [
      "Platform:  PS2\n"
     ]
    },
    {
     "data": {
      "text/html": [
       "<div>\n",
       "<style scoped>\n",
       "    .dataframe tbody tr th:only-of-type {\n",
       "        vertical-align: middle;\n",
       "    }\n",
       "\n",
       "    .dataframe tbody tr th {\n",
       "        vertical-align: top;\n",
       "    }\n",
       "\n",
       "    .dataframe thead th {\n",
       "        text-align: right;\n",
       "    }\n",
       "</style>\n",
       "<table border=\"1\" class=\"dataframe\">\n",
       "  <thead>\n",
       "    <tr style=\"text-align: right;\">\n",
       "      <th></th>\n",
       "      <th>total_sales</th>\n",
       "    </tr>\n",
       "    <tr>\n",
       "      <th>year_of_release</th>\n",
       "      <th></th>\n",
       "    </tr>\n",
       "  </thead>\n",
       "  <tbody>\n",
       "    <tr>\n",
       "      <td>2004</td>\n",
       "      <td>211.809998</td>\n",
       "    </tr>\n",
       "    <tr>\n",
       "      <td>2002</td>\n",
       "      <td>205.380005</td>\n",
       "    </tr>\n",
       "    <tr>\n",
       "      <td>2003</td>\n",
       "      <td>184.309998</td>\n",
       "    </tr>\n",
       "    <tr>\n",
       "      <td>2001</td>\n",
       "      <td>166.430008</td>\n",
       "    </tr>\n",
       "    <tr>\n",
       "      <td>2005</td>\n",
       "      <td>160.660004</td>\n",
       "    </tr>\n",
       "    <tr>\n",
       "      <td>2006</td>\n",
       "      <td>103.419998</td>\n",
       "    </tr>\n",
       "    <tr>\n",
       "      <td>2007</td>\n",
       "      <td>75.989998</td>\n",
       "    </tr>\n",
       "    <tr>\n",
       "      <td>2008</td>\n",
       "      <td>53.900002</td>\n",
       "    </tr>\n",
       "    <tr>\n",
       "      <td>2000</td>\n",
       "      <td>39.170002</td>\n",
       "    </tr>\n",
       "    <tr>\n",
       "      <td>2009</td>\n",
       "      <td>26.400000</td>\n",
       "    </tr>\n",
       "    <tr>\n",
       "      <td>2010</td>\n",
       "      <td>5.640000</td>\n",
       "    </tr>\n",
       "    <tr>\n",
       "      <td>2011</td>\n",
       "      <td>0.450000</td>\n",
       "    </tr>\n",
       "  </tbody>\n",
       "</table>\n",
       "</div>"
      ],
      "text/plain": [
       "                 total_sales\n",
       "year_of_release             \n",
       "2004              211.809998\n",
       "2002              205.380005\n",
       "2003              184.309998\n",
       "2001              166.430008\n",
       "2005              160.660004\n",
       "2006              103.419998\n",
       "2007               75.989998\n",
       "2008               53.900002\n",
       "2000               39.170002\n",
       "2009               26.400000\n",
       "2010                5.640000\n",
       "2011                0.450000"
      ]
     },
     "execution_count": 36,
     "metadata": {},
     "output_type": "execute_result"
    }
   ],
   "source": [
    "pl=p_sales[:1].index[0]\n",
    "print('Platform: ',pl)\n",
    "df.loc[df.platform==pl,['year_of_release','total_sales']].groupby('year_of_release').sum()\\\n",
    "    .sort_values(by='total_sales',ascending=False)"
   ]
  },
  {
   "cell_type": "code",
   "execution_count": 37,
   "metadata": {},
   "outputs": [
    {
     "data": {
      "text/plain": [
       "<matplotlib.axes._subplots.AxesSubplot at 0x7f58da101890>"
      ]
     },
     "execution_count": 37,
     "metadata": {},
     "output_type": "execute_result"
    },
    {
     "data": {
      "image/png": "[encoded data removed]",
      "text/plain": [
       "<Figure size 432x288 with 1 Axes>"
      ]
     },
     "metadata": {
      "needs_background": "light"
     },
     "output_type": "display_data"
    }
   ],
   "source": [
    "df.loc[df.platform==pl,['year_of_release','total_sales']].groupby('year_of_release').sum().plot(kind=\"bar\",title=pl)"
   ]
  },
  {
   "cell_type": "code",
   "execution_count": 38,
   "metadata": {},
   "outputs": [
    {
     "data": {
      "text/plain": [
       "<matplotlib.axes._subplots.AxesSubplot at 0x7f58d9fd5550>"
      ]
     },
     "execution_count": 38,
     "metadata": {},
     "output_type": "execute_result"
    },
    {
     "data": {
      "image/png": "[encoded data removed]",
      "text/plain": [
       "<Figure size 432x288 with 1 Axes>"
      ]
     },
     "metadata": {
      "needs_background": "light"
     },
     "output_type": "display_data"
    }
   ],
   "source": [
    "pl=p_sales[1:2].index[0]\n",
    "df.loc[df.platform==pl,['year_of_release','total_sales']].groupby('year_of_release').sum().plot(kind=\"bar\",title=pl)"
   ]
  },
  {
   "cell_type": "code",
   "execution_count": 39,
   "metadata": {},
   "outputs": [
    {
     "data": {
      "text/plain": [
       "<matplotlib.axes._subplots.AxesSubplot at 0x7f58da1eec50>"
      ]
     },
     "execution_count": 39,
     "metadata": {},
     "output_type": "execute_result"
    },
    {
     "data": {
      "image/png": "[encoded data removed]",
      "text/plain": [
       "<Figure size 432x288 with 1 Axes>"
      ]
     },
     "metadata": {
      "needs_background": "light"
     },
     "output_type": "display_data"
    }
   ],
   "source": [
    "pl=p_sales[2:3].index[0]\n",
    "df.loc[df.platform==pl,['year_of_release','total_sales']].groupby('year_of_release').sum().plot(kind=\"bar\",title=pl)"
   ]
  },
  {
   "cell_type": "markdown",
   "metadata": {},
   "source": [
    "Возьмем платформы из средних продаж и посмотрим на их сроки жизни"
   ]
  },
  {
   "cell_type": "code",
   "execution_count": 40,
   "metadata": {},
   "outputs": [
    {
     "data": {
      "text/plain": [
       "<matplotlib.axes._subplots.AxesSubplot at 0x7f58da37e290>"
      ]
     },
     "execution_count": 40,
     "metadata": {},
     "output_type": "execute_result"
    },
    {
     "data": {
      "image/png": "[encoded data removed]",
      "text/plain": [
       "<Figure size 432x288 with 1 Axes>"
      ]
     },
     "metadata": {
      "needs_background": "light"
     },
     "output_type": "display_data"
    }
   ],
   "source": [
    "pl=p_sales[p_sales.shape[0]//2-3:p_sales.shape[0]//2-2].index[0]\n",
    "df.loc[df.platform==pl,['year_of_release','total_sales']].groupby('year_of_release').sum().plot(kind=\"bar\",title=pl)"
   ]
  },
  {
   "cell_type": "code",
   "execution_count": 41,
   "metadata": {},
   "outputs": [
    {
     "data": {
      "text/plain": [
       "<matplotlib.axes._subplots.AxesSubplot at 0x7f58da1fb490>"
      ]
     },
     "execution_count": 41,
     "metadata": {},
     "output_type": "execute_result"
    },
    {
     "data": {
      "image/png": "[encoded data removed]",
      "text/plain": [
       "<Figure size 432x288 with 1 Axes>"
      ]
     },
     "metadata": {
      "needs_background": "light"
     },
     "output_type": "display_data"
    }
   ],
   "source": [
    "pl=p_sales[p_sales.shape[0]//2+1:p_sales.shape[0]//2+2].index[0]\n",
    "df.loc[df.platform==pl,['year_of_release','total_sales']].groupby('year_of_release').sum().plot(kind=\"bar\",title=pl)"
   ]
  },
  {
   "cell_type": "code",
   "execution_count": 42,
   "metadata": {},
   "outputs": [
    {
     "data": {
      "text/plain": [
       "<matplotlib.axes._subplots.AxesSubplot at 0x7f58da110750>"
      ]
     },
     "execution_count": 42,
     "metadata": {},
     "output_type": "execute_result"
    },
    {
     "data": {
      "image/png": "[encoded data removed]",
      "text/plain": [
       "<Figure size 432x288 with 1 Axes>"
      ]
     },
     "metadata": {
      "needs_background": "light"
     },
     "output_type": "display_data"
    }
   ],
   "source": [
    "pl=p_sales[p_sales.shape[0]//2+5:p_sales.shape[0]//2+6].index[0]\n",
    "df.loc[df.platform==pl,['year_of_release','total_sales']].groupby('year_of_release').sum().plot(kind=\"bar\",title=pl)"
   ]
  },
  {
   "cell_type": "code",
   "execution_count": 43,
   "metadata": {},
   "outputs": [
    {
     "data": {
      "text/plain": [
       "<matplotlib.axes._subplots.AxesSubplot at 0x7f58d9f7de50>"
      ]
     },
     "execution_count": 43,
     "metadata": {},
     "output_type": "execute_result"
    },
    {
     "data": {
      "image/png": "[encoded data removed]",
      "text/plain": [
       "<Figure size 432x288 with 1 Axes>"
      ]
     },
     "metadata": {
      "needs_background": "light"
     },
     "output_type": "display_data"
    }
   ],
   "source": [
    "pl=p_sales[p_sales.shape[0]//2+6:p_sales.shape[0]//2+7].index[0]\n",
    "df.loc[df.platform==pl,['year_of_release','total_sales']].groupby('year_of_release').sum().plot(kind=\"bar\",title=pl)"
   ]
  },
  {
   "cell_type": "markdown",
   "metadata": {},
   "source": [
    "Из графиков видно, что в среднем платформы из топ существуют 10 лет, а из середины продаж 6-7 лет. Максимум продаж за год приходится на середину срока существования. У платформ из середины график принимает вид нормального распределнгия скошенного вправо."
   ]
  },
  {
   "cell_type": "code",
   "execution_count": 44,
   "metadata": {},
   "outputs": [
    {
     "data": {
      "text/html": [
       "<div>\n",
       "<style scoped>\n",
       "    .dataframe tbody tr th:only-of-type {\n",
       "        vertical-align: middle;\n",
       "    }\n",
       "\n",
       "    .dataframe tbody tr th {\n",
       "        vertical-align: top;\n",
       "    }\n",
       "\n",
       "    .dataframe thead tr th {\n",
       "        text-align: left;\n",
       "    }\n",
       "\n",
       "    .dataframe thead tr:last-of-type th {\n",
       "        text-align: right;\n",
       "    }\n",
       "</style>\n",
       "<table border=\"1\" class=\"dataframe\">\n",
       "  <thead>\n",
       "    <tr>\n",
       "      <th></th>\n",
       "      <th colspan=\"11\" halign=\"left\">total_sales</th>\n",
       "    </tr>\n",
       "    <tr>\n",
       "      <th></th>\n",
       "      <th colspan=\"11\" halign=\"left\">sum</th>\n",
       "    </tr>\n",
       "    <tr>\n",
       "      <th>platform</th>\n",
       "      <th>3DS</th>\n",
       "      <th>DS</th>\n",
       "      <th>PC</th>\n",
       "      <th>PS3</th>\n",
       "      <th>PS4</th>\n",
       "      <th>PSP</th>\n",
       "      <th>PSV</th>\n",
       "      <th>Wii</th>\n",
       "      <th>WiiU</th>\n",
       "      <th>X360</th>\n",
       "      <th>XOne</th>\n",
       "    </tr>\n",
       "    <tr>\n",
       "      <th>year_of_release</th>\n",
       "      <th></th>\n",
       "      <th></th>\n",
       "      <th></th>\n",
       "      <th></th>\n",
       "      <th></th>\n",
       "      <th></th>\n",
       "      <th></th>\n",
       "      <th></th>\n",
       "      <th></th>\n",
       "      <th></th>\n",
       "      <th></th>\n",
       "    </tr>\n",
       "  </thead>\n",
       "  <tbody>\n",
       "    <tr>\n",
       "      <td>2012</td>\n",
       "      <td>51.360001</td>\n",
       "      <td>11.01</td>\n",
       "      <td>23.219999</td>\n",
       "      <td>107.360001</td>\n",
       "      <td>NaN</td>\n",
       "      <td>7.69</td>\n",
       "      <td>16.190001</td>\n",
       "      <td>21.710001</td>\n",
       "      <td>17.559999</td>\n",
       "      <td>99.739998</td>\n",
       "      <td>NaN</td>\n",
       "    </tr>\n",
       "    <tr>\n",
       "      <td>2013</td>\n",
       "      <td>56.570000</td>\n",
       "      <td>1.54</td>\n",
       "      <td>12.380000</td>\n",
       "      <td>113.250000</td>\n",
       "      <td>25.990000</td>\n",
       "      <td>3.14</td>\n",
       "      <td>10.590000</td>\n",
       "      <td>8.590000</td>\n",
       "      <td>21.650000</td>\n",
       "      <td>88.580002</td>\n",
       "      <td>18.960001</td>\n",
       "    </tr>\n",
       "    <tr>\n",
       "      <td>2014</td>\n",
       "      <td>43.759998</td>\n",
       "      <td>NaN</td>\n",
       "      <td>13.280001</td>\n",
       "      <td>47.759998</td>\n",
       "      <td>100.000000</td>\n",
       "      <td>0.24</td>\n",
       "      <td>11.900000</td>\n",
       "      <td>3.750000</td>\n",
       "      <td>22.030001</td>\n",
       "      <td>34.740002</td>\n",
       "      <td>54.070000</td>\n",
       "    </tr>\n",
       "    <tr>\n",
       "      <td>2015</td>\n",
       "      <td>27.780001</td>\n",
       "      <td>NaN</td>\n",
       "      <td>8.520000</td>\n",
       "      <td>16.820000</td>\n",
       "      <td>118.900002</td>\n",
       "      <td>0.12</td>\n",
       "      <td>6.250000</td>\n",
       "      <td>1.140000</td>\n",
       "      <td>16.350000</td>\n",
       "      <td>11.960000</td>\n",
       "      <td>60.139999</td>\n",
       "    </tr>\n",
       "    <tr>\n",
       "      <td>2016</td>\n",
       "      <td>15.140000</td>\n",
       "      <td>NaN</td>\n",
       "      <td>5.250000</td>\n",
       "      <td>3.600000</td>\n",
       "      <td>69.250000</td>\n",
       "      <td>NaN</td>\n",
       "      <td>4.250000</td>\n",
       "      <td>0.180000</td>\n",
       "      <td>4.600000</td>\n",
       "      <td>1.520000</td>\n",
       "      <td>26.150000</td>\n",
       "    </tr>\n",
       "  </tbody>\n",
       "</table>\n",
       "</div>"
      ],
      "text/plain": [
       "                total_sales                                                  \\\n",
       "                        sum                                                   \n",
       "platform                3DS     DS         PC         PS3         PS4   PSP   \n",
       "year_of_release                                                               \n",
       "2012              51.360001  11.01  23.219999  107.360001         NaN  7.69   \n",
       "2013              56.570000   1.54  12.380000  113.250000   25.990000  3.14   \n",
       "2014              43.759998    NaN  13.280001   47.759998  100.000000  0.24   \n",
       "2015              27.780001    NaN   8.520000   16.820000  118.900002  0.12   \n",
       "2016              15.140000    NaN   5.250000    3.600000   69.250000   NaN   \n",
       "\n",
       "                                                                        \n",
       "                                                                        \n",
       "platform               PSV        Wii       WiiU       X360       XOne  \n",
       "year_of_release                                                         \n",
       "2012             16.190001  21.710001  17.559999  99.739998        NaN  \n",
       "2013             10.590000   8.590000  21.650000  88.580002  18.960001  \n",
       "2014             11.900000   3.750000  22.030001  34.740002  54.070000  \n",
       "2015              6.250000   1.140000  16.350000  11.960000  60.139999  \n",
       "2016              4.250000   0.180000   4.600000   1.520000  26.150000  "
      ]
     },
     "execution_count": 44,
     "metadata": {},
     "output_type": "execute_result"
    }
   ],
   "source": [
    "pd.pivot_table(df[df.year_of_release>2011],index='year_of_release',columns='platform',aggfunc={'total_sales':['sum']})\\"
   ]
  },
  {
   "cell_type": "markdown",
   "metadata": {},
   "source": [
    "Построим график продаж за актуальный период. Актуальные года для изучения будем считать равные среднему продолжительности существования платформ, а промежуток времени для прогнозирования  выберем половину от срока жизни топ платформ, т.е. 5 лет. Т.к данные за 2016 не полные, будем рассматривать значения с 2011 года. "
   ]
  },
  {
   "cell_type": "code",
   "execution_count": 45,
   "metadata": {},
   "outputs": [
    {
     "data": {
      "text/plain": [
       "<matplotlib.axes._subplots.AxesSubplot at 0x7f58da1fb5d0>"
      ]
     },
     "execution_count": 45,
     "metadata": {},
     "output_type": "execute_result"
    },
    {
     "data": {
      "image/png": "[encoded data removed]",
      "text/plain": [
       "<Figure size 1224x648 with 1 Axes>"
      ]
     },
     "metadata": {
      "needs_background": "light"
     },
     "output_type": "display_data"
    }
   ],
   "source": [
    "plts=pd.pivot_table(df[df.year_of_release>2010],index='year_of_release',columns='platform',aggfunc={'total_sales':['sum']})\\\n",
    ".unstack('year_of_release').unstack('year_of_release').reset_index().iloc[:,2:].set_index(['platform'])\n",
    "plts.columns=[i for i in range(2011,2017)]\n",
    "plts=plts.T\n",
    "plts.plot(rot=30,figsize = (17,9))"
   ]
  },
  {
   "cell_type": "markdown",
   "metadata": {},
   "source": [
    "Из графика видно, что максимум продаж(середина периода) приходится на PSV, 3DS, в дальнейшем их продажи будут падать. PS4, XOne, WiiU подходят к середине, возможен еще краткосрочный рост. В остальных случайях продажи платформ идут на спад. Мы не знаем к какому типу будет относиться будущие продажи за актуальный период временного ряда - топ или это будут средние продажи, но мы можем сделать прогноз исходя из бренда. Тут также будет полезно учитывать, что даже на растущие продажи оказывает влияние понижающийся тренд по продажам на всех платформах, т.е если мы видим прогноз роста по новым платформам, он не будет такой как на пике продаж в 2007-2008 гг."
   ]
  },
  {
   "cell_type": "markdown",
   "metadata": {},
   "source": [
    "Построим график «ящик с усами» по глобальным продажам игр в разбивке по платформам"
   ]
  },
  {
   "cell_type": "code",
   "execution_count": 46,
   "metadata": {},
   "outputs": [
    {
     "name": "stderr",
     "output_type": "stream",
     "text": [
      "/opt/conda/lib/python3.7/site-packages/numpy/core/_asarray.py:83: VisibleDeprecationWarning: Creating an ndarray from ragged nested sequences (which is a list-or-tuple of lists-or-tuples-or ndarrays with different lengths or shapes) is deprecated. If you meant to do this, you must specify 'dtype=object' when creating the ndarray\n",
      "  return array(a, dtype, copy=False, order=order)\n"
     ]
    },
    {
     "data": {
      "image/png": "[encoded data removed]",
      "text/plain": [
       "<Figure size 1224x504 with 1 Axes>"
      ]
     },
     "metadata": {
      "needs_background": "light"
     },
     "output_type": "display_data"
    }
   ],
   "source": [
    "plts=pd.pivot_table(df[df.year_of_release>2010],index='year_of_release',columns='platform',aggfunc={'total_sales':['sum']})\\\n",
    ".unstack('year_of_release').unstack('year_of_release').reset_index().iloc[:,2:].set_index(['platform'])\n",
    "plts.columns=[i for i in range(2011,2017)]\n",
    "plts=plts.T\n",
    "plt.figure(figsize = (17,7))\n",
    "plts.boxplot(column=list(plts.columns))  \n",
    "plt.show()"
   ]
  },
  {
   "cell_type": "code",
   "execution_count": 47,
   "metadata": {},
   "outputs": [
    {
     "data": {
      "text/html": [
       "<div>\n",
       "<style scoped>\n",
       "    .dataframe tbody tr th:only-of-type {\n",
       "        vertical-align: middle;\n",
       "    }\n",
       "\n",
       "    .dataframe tbody tr th {\n",
       "        vertical-align: top;\n",
       "    }\n",
       "\n",
       "    .dataframe thead tr th {\n",
       "        text-align: left;\n",
       "    }\n",
       "\n",
       "    .dataframe thead tr:last-of-type th {\n",
       "        text-align: right;\n",
       "    }\n",
       "</style>\n",
       "<table border=\"1\" class=\"dataframe\">\n",
       "  <thead>\n",
       "    <tr>\n",
       "      <th></th>\n",
       "      <th colspan=\"12\" halign=\"left\">total_sales</th>\n",
       "    </tr>\n",
       "    <tr>\n",
       "      <th></th>\n",
       "      <th colspan=\"12\" halign=\"left\">sum</th>\n",
       "    </tr>\n",
       "    <tr>\n",
       "      <th>platform</th>\n",
       "      <th>3DS</th>\n",
       "      <th>DS</th>\n",
       "      <th>PC</th>\n",
       "      <th>PS2</th>\n",
       "      <th>PS3</th>\n",
       "      <th>PS4</th>\n",
       "      <th>PSP</th>\n",
       "      <th>PSV</th>\n",
       "      <th>Wii</th>\n",
       "      <th>WiiU</th>\n",
       "      <th>X360</th>\n",
       "      <th>XOne</th>\n",
       "    </tr>\n",
       "    <tr>\n",
       "      <th>year_of_release</th>\n",
       "      <th></th>\n",
       "      <th></th>\n",
       "      <th></th>\n",
       "      <th></th>\n",
       "      <th></th>\n",
       "      <th></th>\n",
       "      <th></th>\n",
       "      <th></th>\n",
       "      <th></th>\n",
       "      <th></th>\n",
       "      <th></th>\n",
       "      <th></th>\n",
       "    </tr>\n",
       "  </thead>\n",
       "  <tbody>\n",
       "    <tr>\n",
       "      <td>2011</td>\n",
       "      <td>63.199997</td>\n",
       "      <td>26.18</td>\n",
       "      <td>35.029999</td>\n",
       "      <td>0.45</td>\n",
       "      <td>156.779999</td>\n",
       "      <td>NaN</td>\n",
       "      <td>17.82</td>\n",
       "      <td>4.630000</td>\n",
       "      <td>59.649998</td>\n",
       "      <td>NaN</td>\n",
       "      <td>143.839996</td>\n",
       "      <td>NaN</td>\n",
       "    </tr>\n",
       "    <tr>\n",
       "      <td>2012</td>\n",
       "      <td>51.360001</td>\n",
       "      <td>11.01</td>\n",
       "      <td>23.219999</td>\n",
       "      <td>NaN</td>\n",
       "      <td>107.360001</td>\n",
       "      <td>NaN</td>\n",
       "      <td>7.69</td>\n",
       "      <td>16.190001</td>\n",
       "      <td>21.710001</td>\n",
       "      <td>17.559999</td>\n",
       "      <td>99.739998</td>\n",
       "      <td>NaN</td>\n",
       "    </tr>\n",
       "    <tr>\n",
       "      <td>2013</td>\n",
       "      <td>56.570000</td>\n",
       "      <td>1.54</td>\n",
       "      <td>12.380000</td>\n",
       "      <td>NaN</td>\n",
       "      <td>113.250000</td>\n",
       "      <td>25.990000</td>\n",
       "      <td>3.14</td>\n",
       "      <td>10.590000</td>\n",
       "      <td>8.590000</td>\n",
       "      <td>21.650000</td>\n",
       "      <td>88.580002</td>\n",
       "      <td>18.960001</td>\n",
       "    </tr>\n",
       "    <tr>\n",
       "      <td>2014</td>\n",
       "      <td>43.759998</td>\n",
       "      <td>NaN</td>\n",
       "      <td>13.280001</td>\n",
       "      <td>NaN</td>\n",
       "      <td>47.759998</td>\n",
       "      <td>100.000000</td>\n",
       "      <td>0.24</td>\n",
       "      <td>11.900000</td>\n",
       "      <td>3.750000</td>\n",
       "      <td>22.030001</td>\n",
       "      <td>34.740002</td>\n",
       "      <td>54.070000</td>\n",
       "    </tr>\n",
       "    <tr>\n",
       "      <td>2015</td>\n",
       "      <td>27.780001</td>\n",
       "      <td>NaN</td>\n",
       "      <td>8.520000</td>\n",
       "      <td>NaN</td>\n",
       "      <td>16.820000</td>\n",
       "      <td>118.900002</td>\n",
       "      <td>0.12</td>\n",
       "      <td>6.250000</td>\n",
       "      <td>1.140000</td>\n",
       "      <td>16.350000</td>\n",
       "      <td>11.960000</td>\n",
       "      <td>60.139999</td>\n",
       "    </tr>\n",
       "    <tr>\n",
       "      <td>2016</td>\n",
       "      <td>15.140000</td>\n",
       "      <td>NaN</td>\n",
       "      <td>5.250000</td>\n",
       "      <td>NaN</td>\n",
       "      <td>3.600000</td>\n",
       "      <td>69.250000</td>\n",
       "      <td>NaN</td>\n",
       "      <td>4.250000</td>\n",
       "      <td>0.180000</td>\n",
       "      <td>4.600000</td>\n",
       "      <td>1.520000</td>\n",
       "      <td>26.150000</td>\n",
       "    </tr>\n",
       "  </tbody>\n",
       "</table>\n",
       "</div>"
      ],
      "text/plain": [
       "                total_sales                                                  \\\n",
       "                        sum                                                   \n",
       "platform                3DS     DS         PC   PS2         PS3         PS4   \n",
       "year_of_release                                                               \n",
       "2011              63.199997  26.18  35.029999  0.45  156.779999         NaN   \n",
       "2012              51.360001  11.01  23.219999   NaN  107.360001         NaN   \n",
       "2013              56.570000   1.54  12.380000   NaN  113.250000   25.990000   \n",
       "2014              43.759998    NaN  13.280001   NaN   47.759998  100.000000   \n",
       "2015              27.780001    NaN   8.520000   NaN   16.820000  118.900002   \n",
       "2016              15.140000    NaN   5.250000   NaN    3.600000   69.250000   \n",
       "\n",
       "                                                                                \n",
       "                                                                                \n",
       "platform           PSP        PSV        Wii       WiiU        X360       XOne  \n",
       "year_of_release                                                                 \n",
       "2011             17.82   4.630000  59.649998        NaN  143.839996        NaN  \n",
       "2012              7.69  16.190001  21.710001  17.559999   99.739998        NaN  \n",
       "2013              3.14  10.590000   8.590000  21.650000   88.580002  18.960001  \n",
       "2014              0.24  11.900000   3.750000  22.030001   34.740002  54.070000  \n",
       "2015              0.12   6.250000   1.140000  16.350000   11.960000  60.139999  \n",
       "2016               NaN   4.250000   0.180000   4.600000    1.520000  26.150000  "
      ]
     },
     "execution_count": 47,
     "metadata": {},
     "output_type": "execute_result"
    }
   ],
   "source": [
    "pd.pivot_table(df[df.year_of_release>2010],index='year_of_release',columns='platform',aggfunc={'total_sales':['sum']})"
   ]
  },
  {
   "cell_type": "markdown",
   "metadata": {},
   "source": [
    "За актуальный период наибольший обьем продаж у PS4, PS3 и X360. Худшие продажи у PS2, PSP и PSV.\n",
    "\n",
    "Посмотрим на влияние отзывов на продажи платформы PS3"
   ]
  },
  {
   "cell_type": "code",
   "execution_count": 48,
   "metadata": {},
   "outputs": [
    {
     "data": {
      "image/png": "[encoded data removed]",
      "text/plain": [
       "<Figure size 1224x432 with 1 Axes>"
      ]
     },
     "metadata": {
      "needs_background": "light"
     },
     "output_type": "display_data"
    }
   ],
   "source": [
    "ps3=df[df.platform=='PS3']\n",
    "fig , ax = plt.subplots(nrows = 1, ncols = 1,figsize=(17,6))  \n",
    "ax.scatter(ps3['user_score'], ps3['total_sales'],alpha=0.3,label='user_score')\n",
    "ax.scatter(ps3['critic_score'].div(10), ps3['total_sales'],alpha=0.3,label='critic_score')\n",
    "ax.set_xlabel('Общая оценка')\n",
    "ax.set_ylabel('Продажи')\n",
    "ax.set_ylim(0,15)\n",
    "ax.legend()\n",
    "plt.show()"
   ]
  },
  {
   "cell_type": "code",
   "execution_count": 49,
   "metadata": {},
   "outputs": [
    {
     "data": {
      "image/png": "[encoded data removed]",
      "text/plain": [
       "<Figure size 1224x432 with 1 Axes>"
      ]
     },
     "metadata": {
      "needs_background": "light"
     },
     "output_type": "display_data"
    }
   ],
   "source": [
    "ps3.plot(x='total_score', y='total_sales', kind='scatter', ylim=(0,25),figsize = (17,6))\n",
    "plt.xlabel('Общая оценка')\n",
    "plt.ylabel('Продажи')\n",
    "plt.show()"
   ]
  },
  {
   "cell_type": "markdown",
   "metadata": {},
   "source": [
    "На графике прослеживается зависимость продаж от оценок, с увеличением оценок растут продажи. Оценка пользователей от средней и выше влияет сильней на продажи некоторых игр, чем оценки критиков. Но при оценках критиков от 80 баллов и выше продажи идут больше, чем от оценок пользователей.\n",
    "\n",
    "Посмотрим зависимость продаж от оценок и посчитаем корреляцию."
   ]
  },
  {
   "cell_type": "code",
   "execution_count": 50,
   "metadata": {},
   "outputs": [
    {
     "data": {
      "text/html": [
       "<div>\n",
       "<style scoped>\n",
       "    .dataframe tbody tr th:only-of-type {\n",
       "        vertical-align: middle;\n",
       "    }\n",
       "\n",
       "    .dataframe tbody tr th {\n",
       "        vertical-align: top;\n",
       "    }\n",
       "\n",
       "    .dataframe thead th {\n",
       "        text-align: right;\n",
       "    }\n",
       "</style>\n",
       "<table border=\"1\" class=\"dataframe\">\n",
       "  <thead>\n",
       "    <tr style=\"text-align: right;\">\n",
       "      <th></th>\n",
       "      <th>total_sales</th>\n",
       "    </tr>\n",
       "  </thead>\n",
       "  <tbody>\n",
       "    <tr>\n",
       "      <td>user_score</td>\n",
       "      <td>0.128416</td>\n",
       "    </tr>\n",
       "    <tr>\n",
       "      <td>critic_score</td>\n",
       "      <td>0.432759</td>\n",
       "    </tr>\n",
       "    <tr>\n",
       "      <td>total_score</td>\n",
       "      <td>0.337301</td>\n",
       "    </tr>\n",
       "  </tbody>\n",
       "</table>\n",
       "</div>"
      ],
      "text/plain": [
       "              total_sales\n",
       "user_score       0.128416\n",
       "critic_score     0.432759\n",
       "total_score      0.337301"
      ]
     },
     "execution_count": 50,
     "metadata": {},
     "output_type": "execute_result"
    }
   ],
   "source": [
    "pd.DataFrame(ps3[['user_score','critic_score','total_score','total_sales']].corr().iloc[:3,3])"
   ]
  },
  {
   "cell_type": "markdown",
   "metadata": {},
   "source": [
    "Корреляция продаж по оценкам присутствует и она положительная. Наиболее выраженная корреляция по оценкам критиков, по оценкам пользователей корреляция довольно слабая."
   ]
  },
  {
   "cell_type": "code",
   "execution_count": 51,
   "metadata": {},
   "outputs": [
    {
     "data": {
      "image/png": "[encoded data removed]",
      "text/plain": [
       "<Figure size 1224x432 with 2 Axes>"
      ]
     },
     "metadata": {
      "needs_background": "light"
     },
     "output_type": "display_data"
    }
   ],
   "source": [
    "fig , ax = plt.subplots(nrows = 2, ncols = 1,figsize=(17,6))  \n",
    "ax[0].scatter(ps3['critic_score'].div(10), ps3['total_sales'],alpha=0.3,label='ps3')\n",
    "ax[0].set_xlabel('Оценка критиков')\n",
    "ax[0].set_ylabel('Продажи')\n",
    "ax[0].set_ylim(0,15)\n",
    "ax[0].legend()\n",
    "ax[1].scatter(df.loc[df.year_of_release>2010,'critic_score'].div(10), df.loc[df.year_of_release>2010,'total_sales'],alpha=0.3,label='all_platform')\n",
    "ax[1].set_xlabel('Оценка критиков')\n",
    "ax[1].set_ylabel('Продажи')\n",
    "ax[1].set_ylim(0,15)\n",
    "ax[1].legend()\n",
    "plt.show()"
   ]
  },
  {
   "cell_type": "markdown",
   "metadata": {},
   "source": [
    "Графики продаж и оценок пользователей для всех платформ и ps3 имеют схожую структуру - нормальное распределение сильно скошенное в лево. По всем платформам продажи выражены сильнее, это обусловлено большим количеством данных, чем для платформы ps3. "
   ]
  },
  {
   "cell_type": "code",
   "execution_count": 52,
   "metadata": {},
   "outputs": [
    {
     "data": {
      "text/html": [
       "<div>\n",
       "<style scoped>\n",
       "    .dataframe tbody tr th:only-of-type {\n",
       "        vertical-align: middle;\n",
       "    }\n",
       "\n",
       "    .dataframe tbody tr th {\n",
       "        vertical-align: top;\n",
       "    }\n",
       "\n",
       "    .dataframe thead th {\n",
       "        text-align: right;\n",
       "    }\n",
       "</style>\n",
       "<table border=\"1\" class=\"dataframe\">\n",
       "  <thead>\n",
       "    <tr style=\"text-align: right;\">\n",
       "      <th></th>\n",
       "      <th>total_sales</th>\n",
       "    </tr>\n",
       "  </thead>\n",
       "  <tbody>\n",
       "    <tr>\n",
       "      <td>user_score</td>\n",
       "      <td>0.031636</td>\n",
       "    </tr>\n",
       "    <tr>\n",
       "      <td>critic_score</td>\n",
       "      <td>0.329977</td>\n",
       "    </tr>\n",
       "    <tr>\n",
       "      <td>total_score</td>\n",
       "      <td>0.221002</td>\n",
       "    </tr>\n",
       "  </tbody>\n",
       "</table>\n",
       "</div>"
      ],
      "text/plain": [
       "              total_sales\n",
       "user_score       0.031636\n",
       "critic_score     0.329977\n",
       "total_score      0.221002"
      ]
     },
     "execution_count": 52,
     "metadata": {},
     "output_type": "execute_result"
    }
   ],
   "source": [
    "pd.DataFrame(df.loc[df.year_of_release>2010,['user_score','critic_score','total_score','total_sales']].corr().iloc[:3,3])"
   ]
  },
  {
   "cell_type": "markdown",
   "metadata": {},
   "source": [
    "По всем платформам корреляция схожая, но немного слабее.\n",
    "\n",
    "Посмотрим на общее распределение игр по жанрам."
   ]
  },
  {
   "cell_type": "code",
   "execution_count": 53,
   "metadata": {},
   "outputs": [
    {
     "data": {
      "text/plain": [
       "<matplotlib.axes._subplots.AxesSubplot at 0x7f58d1611490>"
      ]
     },
     "execution_count": 53,
     "metadata": {},
     "output_type": "execute_result"
    },
    {
     "data": {
      "image/png": "[encoded data removed]",
      "text/plain": [
       "<Figure size 432x288 with 1 Axes>"
      ]
     },
     "metadata": {
      "needs_background": "light"
     },
     "output_type": "display_data"
    }
   ],
   "source": [
    "df.groupby('genre')['total_sales'].count().sort_values(ascending=False).plot(kind='bar')"
   ]
  },
  {
   "cell_type": "code",
   "execution_count": 54,
   "metadata": {},
   "outputs": [
    {
     "data": {
      "text/plain": [
       "['Action', 'Sports', 'Misc', 'Role-Playing', 'Shooter']"
      ]
     },
     "execution_count": 54,
     "metadata": {},
     "output_type": "execute_result"
    }
   ],
   "source": [
    "df.groupby('genre')['total_sales'].count().sort_values(ascending=False).index.to_list()[:5]"
   ]
  },
  {
   "cell_type": "markdown",
   "metadata": {},
   "source": [
    "Самые распространенные жанры 'Action', 'Sports', а самые не популярные Strategy и Puzzle.\n",
    "\n",
    "Посмотрим продажи по жанрам."
   ]
  },
  {
   "cell_type": "code",
   "execution_count": 55,
   "metadata": {},
   "outputs": [
    {
     "data": {
      "text/plain": [
       "total_sales    0.17\n",
       "dtype: float32"
      ]
     },
     "execution_count": 55,
     "metadata": {},
     "output_type": "execute_result"
    }
   ],
   "source": [
    "df[['total_sales']].median()#.groupby('genre').median()"
   ]
  },
  {
   "cell_type": "code",
   "execution_count": 56,
   "metadata": {},
   "outputs": [
    {
     "data": {
      "text/plain": [
       "<matplotlib.axes._subplots.AxesSubplot at 0x7f58d1798190>"
      ]
     },
     "execution_count": 56,
     "metadata": {},
     "output_type": "execute_result"
    },
    {
     "data": {
      "image/png": "[encoded data removed]",
      "text/plain": [
       "<Figure size 432x288 with 1 Axes>"
      ]
     },
     "metadata": {
      "needs_background": "light"
     },
     "output_type": "display_data"
    }
   ],
   "source": [
    "df[['genre','total_sales']].groupby('genre').median().sort_values(by='total_sales',ascending=False).plot(kind='bar')"
   ]
  },
  {
   "cell_type": "markdown",
   "metadata": {},
   "source": [
    "По продажам также выделяются в лидерах 'Platform', 'Shooter', а в аутсайдерах 'Adventure' и 'Strategy', их продажи в 6 раз меньше."
   ]
  },
  {
   "cell_type": "markdown",
   "metadata": {},
   "source": [
    "### Портрет пользователя каждого региона"
   ]
  },
  {
   "cell_type": "markdown",
   "metadata": {},
   "source": [
    "#### Определение протрета пользователя каждого региона (NA, EU, JP)"
   ]
  },
  {
   "cell_type": "markdown",
   "metadata": {},
   "source": [
    "Самые популярные платформы (топ-5)"
   ]
  },
  {
   "cell_type": "code",
   "execution_count": 57,
   "metadata": {},
   "outputs": [
    {
     "data": {
      "text/html": [
       "<div>\n",
       "<style scoped>\n",
       "    .dataframe tbody tr th:only-of-type {\n",
       "        vertical-align: middle;\n",
       "    }\n",
       "\n",
       "    .dataframe tbody tr th {\n",
       "        vertical-align: top;\n",
       "    }\n",
       "\n",
       "    .dataframe thead th {\n",
       "        text-align: right;\n",
       "    }\n",
       "</style>\n",
       "<table border=\"1\" class=\"dataframe\">\n",
       "  <thead>\n",
       "    <tr style=\"text-align: right;\">\n",
       "      <th></th>\n",
       "      <th>na_sales_part</th>\n",
       "      <th>eu_sales_part</th>\n",
       "      <th>jp_sales_part</th>\n",
       "    </tr>\n",
       "    <tr>\n",
       "      <th>platform</th>\n",
       "      <th></th>\n",
       "      <th></th>\n",
       "      <th></th>\n",
       "    </tr>\n",
       "  </thead>\n",
       "  <tbody>\n",
       "    <tr>\n",
       "      <td>DS</td>\n",
       "      <td>0.156766</td>\n",
       "      <td>0.137036</td>\n",
       "      <td>0.370374</td>\n",
       "    </tr>\n",
       "    <tr>\n",
       "      <td>PS2</td>\n",
       "      <td>0.236161</td>\n",
       "      <td>0.241932</td>\n",
       "      <td>0.291059</td>\n",
       "    </tr>\n",
       "    <tr>\n",
       "      <td>PS3</td>\n",
       "      <td>0.160814</td>\n",
       "      <td>0.237990</td>\n",
       "      <td>0.168046</td>\n",
       "    </tr>\n",
       "    <tr>\n",
       "      <td>Wii</td>\n",
       "      <td>0.200691</td>\n",
       "      <td>0.187884</td>\n",
       "      <td>0.144493</td>\n",
       "    </tr>\n",
       "    <tr>\n",
       "      <td>X360</td>\n",
       "      <td>0.245568</td>\n",
       "      <td>0.195157</td>\n",
       "      <td>0.026029</td>\n",
       "    </tr>\n",
       "  </tbody>\n",
       "</table>\n",
       "</div>"
      ],
      "text/plain": [
       "          na_sales_part  eu_sales_part  jp_sales_part\n",
       "platform                                             \n",
       "DS             0.156766       0.137036       0.370374\n",
       "PS2            0.236161       0.241932       0.291059\n",
       "PS3            0.160814       0.237990       0.168046\n",
       "Wii            0.200691       0.187884       0.144493\n",
       "X360           0.245568       0.195157       0.026029"
      ]
     },
     "execution_count": 57,
     "metadata": {},
     "output_type": "execute_result"
    }
   ],
   "source": [
    "sales_parts(df,'platform')"
   ]
  },
  {
   "cell_type": "markdown",
   "metadata": {},
   "source": [
    "Топ-5 популярных платформ: DS, PS2, PS3, Wii, X360\n",
    "\n",
    "Посмотрим график распределения платформ по регионам."
   ]
  },
  {
   "cell_type": "code",
   "execution_count": 58,
   "metadata": {},
   "outputs": [
    {
     "data": {
      "text/plain": [
       "<matplotlib.axes._subplots.AxesSubplot at 0x7f58d16d59d0>"
      ]
     },
     "execution_count": 58,
     "metadata": {},
     "output_type": "execute_result"
    },
    {
     "data": {
      "image/png": "[encoded data removed]",
      "text/plain": [
       "<Figure size 720x432 with 1 Axes>"
      ]
     },
     "metadata": {
      "needs_background": "light"
     },
     "output_type": "display_data"
    }
   ],
   "source": [
    "sales_parts(df,'platform').plot.bar(figsize = (10,6),rot=0)"
   ]
  },
  {
   "cell_type": "markdown",
   "metadata": {},
   "source": [
    "Америка:\n",
    "* популярные - X360, PS2\n",
    "* непопулярные - PS3, DS\n",
    "\n",
    "Европа:\n",
    "* популярные - PS3, PS2\n",
    "* непопулярные - DS\n",
    "\n",
    "Япония: \n",
    "* популярные - DS, PS2\n",
    "* непопулярные - X360\n",
    "\n",
    "В целом для Европы и Америки дисперсия по продажам не сильно большая, а вот для Японии характерны очень слабые продажи X360.\n",
    "\n",
    "Самые популярные жанры и их распределение представлены ниже на графике"
   ]
  },
  {
   "cell_type": "code",
   "execution_count": 59,
   "metadata": {},
   "outputs": [
    {
     "data": {
      "text/plain": [
       "<matplotlib.axes._subplots.AxesSubplot at 0x7f58d14f6290>"
      ]
     },
     "execution_count": 59,
     "metadata": {},
     "output_type": "execute_result"
    },
    {
     "data": {
      "image/png": "[encoded data removed]",
      "text/plain": [
       "<Figure size 720x432 with 1 Axes>"
      ]
     },
     "metadata": {
      "needs_background": "light"
     },
     "output_type": "display_data"
    }
   ],
   "source": [
    "sales_parts(df,'genre').plot.bar(figsize = (10,6),rot=0)"
   ]
  },
  {
   "cell_type": "markdown",
   "metadata": {},
   "source": [
    "В Японии любят ролевые игры и не любят шутеры. В Европе и Америке предпочитают игры жанра Action и не очень любят ролевые игры. В целом распределение Европы и Америки схожее.\n",
    "\n",
    "Рассмотрим влияние рейтинга ESRB на продажи в отдельном регионе."
   ]
  },
  {
   "cell_type": "code",
   "execution_count": 60,
   "metadata": {},
   "outputs": [
    {
     "data": {
      "text/plain": [
       "<matplotlib.axes._subplots.AxesSubplot at 0x7f58d0478450>"
      ]
     },
     "execution_count": 60,
     "metadata": {},
     "output_type": "execute_result"
    },
    {
     "data": {
      "image/png": "[encoded data removed]",
      "text/plain": [
       "<Figure size 720x432 with 1 Axes>"
      ]
     },
     "metadata": {
      "needs_background": "light"
     },
     "output_type": "display_data"
    }
   ],
   "source": [
    "sales_parts(df,'rating',False).plot.bar(figsize = (10,6),rot=0)\n",
    "#['EC', 'E', 'E10+', 'T', 'M', 'AO']"
   ]
  },
  {
   "cell_type": "markdown",
   "metadata": {},
   "source": [
    "Самый популярный рейтинг во всех регионах - E, менеее  AO, E10+. Сильное влияние E обусловлено широкой аудиторией охвата (E-для всех). В целом влияние рейтингов в регионах одинаковое, выделяется немного Япония - в рейтинг M и T.\n",
    "\n",
    "На основании выше изложенного проверим корреляцию по рейтингу."
   ]
  },
  {
   "cell_type": "code",
   "execution_count": 61,
   "metadata": {},
   "outputs": [
    {
     "data": {
      "text/html": [
       "<div>\n",
       "<style scoped>\n",
       "    .dataframe tbody tr th:only-of-type {\n",
       "        vertical-align: middle;\n",
       "    }\n",
       "\n",
       "    .dataframe tbody tr th {\n",
       "        vertical-align: top;\n",
       "    }\n",
       "\n",
       "    .dataframe thead th {\n",
       "        text-align: right;\n",
       "    }\n",
       "</style>\n",
       "<table border=\"1\" class=\"dataframe\">\n",
       "  <thead>\n",
       "    <tr style=\"text-align: right;\">\n",
       "      <th></th>\n",
       "      <th>rating_id</th>\n",
       "    </tr>\n",
       "  </thead>\n",
       "  <tbody>\n",
       "    <tr>\n",
       "      <td>na_sales</td>\n",
       "      <td>0.033466</td>\n",
       "    </tr>\n",
       "    <tr>\n",
       "      <td>eu_sales</td>\n",
       "      <td>0.046881</td>\n",
       "    </tr>\n",
       "    <tr>\n",
       "      <td>jp_sales</td>\n",
       "      <td>-0.006077</td>\n",
       "    </tr>\n",
       "  </tbody>\n",
       "</table>\n",
       "</div>"
      ],
      "text/plain": [
       "          rating_id\n",
       "na_sales   0.033466\n",
       "eu_sales   0.046881\n",
       "jp_sales  -0.006077"
      ]
     },
     "execution_count": 61,
     "metadata": {},
     "output_type": "execute_result"
    }
   ],
   "source": [
    "df[['rating_id','na_sales','eu_sales','jp_sales']].corr().iloc[1:4,:1]"
   ]
  },
  {
   "cell_type": "code",
   "execution_count": 62,
   "metadata": {},
   "outputs": [
    {
     "data": {
      "text/html": [
       "<div>\n",
       "<style scoped>\n",
       "    .dataframe tbody tr th:only-of-type {\n",
       "        vertical-align: middle;\n",
       "    }\n",
       "\n",
       "    .dataframe tbody tr th {\n",
       "        vertical-align: top;\n",
       "    }\n",
       "\n",
       "    .dataframe thead th {\n",
       "        text-align: right;\n",
       "    }\n",
       "</style>\n",
       "<table border=\"1\" class=\"dataframe\">\n",
       "  <thead>\n",
       "    <tr style=\"text-align: right;\">\n",
       "      <th></th>\n",
       "      <th>rating_id</th>\n",
       "    </tr>\n",
       "  </thead>\n",
       "  <tbody>\n",
       "    <tr>\n",
       "      <td>na_sales_part</td>\n",
       "      <td>-0.709696</td>\n",
       "    </tr>\n",
       "    <tr>\n",
       "      <td>eu_sales_part</td>\n",
       "      <td>-0.644329</td>\n",
       "    </tr>\n",
       "    <tr>\n",
       "      <td>jp_sales_part</td>\n",
       "      <td>-0.723481</td>\n",
       "    </tr>\n",
       "  </tbody>\n",
       "</table>\n",
       "</div>"
      ],
      "text/plain": [
       "               rating_id\n",
       "na_sales_part  -0.709696\n",
       "eu_sales_part  -0.644329\n",
       "jp_sales_part  -0.723481"
      ]
     },
     "execution_count": 62,
     "metadata": {},
     "output_type": "execute_result"
    }
   ],
   "source": [
    "raiting_cor=sales_parts(df,'rating_id',corr=True).reset_index()\n",
    "raiting_cor.corr().iloc[1:,:1]"
   ]
  },
  {
   "cell_type": "code",
   "execution_count": 63,
   "metadata": {},
   "outputs": [
    {
     "data": {
      "text/html": [
       "<div>\n",
       "<style scoped>\n",
       "    .dataframe tbody tr th:only-of-type {\n",
       "        vertical-align: middle;\n",
       "    }\n",
       "\n",
       "    .dataframe tbody tr th {\n",
       "        vertical-align: top;\n",
       "    }\n",
       "\n",
       "    .dataframe thead th {\n",
       "        text-align: right;\n",
       "    }\n",
       "</style>\n",
       "<table border=\"1\" class=\"dataframe\">\n",
       "  <thead>\n",
       "    <tr style=\"text-align: right;\">\n",
       "      <th></th>\n",
       "      <th>rating_id</th>\n",
       "      <th>na_sales_part</th>\n",
       "      <th>eu_sales_part</th>\n",
       "      <th>jp_sales_part</th>\n",
       "    </tr>\n",
       "  </thead>\n",
       "  <tbody>\n",
       "    <tr>\n",
       "      <td>0</td>\n",
       "      <td>1.0</td>\n",
       "      <td>0.410013</td>\n",
       "      <td>0.393398</td>\n",
       "      <td>0.439348</td>\n",
       "    </tr>\n",
       "    <tr>\n",
       "      <td>1</td>\n",
       "      <td>2.0</td>\n",
       "      <td>0.110949</td>\n",
       "      <td>0.102436</td>\n",
       "      <td>0.088566</td>\n",
       "    </tr>\n",
       "    <tr>\n",
       "      <td>2</td>\n",
       "      <td>3.0</td>\n",
       "      <td>0.240073</td>\n",
       "      <td>0.235651</td>\n",
       "      <td>0.332011</td>\n",
       "    </tr>\n",
       "    <tr>\n",
       "      <td>3</td>\n",
       "      <td>4.0</td>\n",
       "      <td>0.238561</td>\n",
       "      <td>0.268173</td>\n",
       "      <td>0.140075</td>\n",
       "    </tr>\n",
       "    <tr>\n",
       "      <td>4</td>\n",
       "      <td>5.0</td>\n",
       "      <td>0.000405</td>\n",
       "      <td>0.000341</td>\n",
       "      <td>0.000000</td>\n",
       "    </tr>\n",
       "  </tbody>\n",
       "</table>\n",
       "</div>"
      ],
      "text/plain": [
       "   rating_id  na_sales_part  eu_sales_part  jp_sales_part\n",
       "0        1.0       0.410013       0.393398       0.439348\n",
       "1        2.0       0.110949       0.102436       0.088566\n",
       "2        3.0       0.240073       0.235651       0.332011\n",
       "3        4.0       0.238561       0.268173       0.140075\n",
       "4        5.0       0.000405       0.000341       0.000000"
      ]
     },
     "execution_count": 63,
     "metadata": {},
     "output_type": "execute_result"
    }
   ],
   "source": [
    "raiting_cor"
   ]
  },
  {
   "cell_type": "markdown",
   "metadata": {},
   "source": [
    "Корреляция подтвердила уже сделанные выводы - с увеличением рейтинга и огрничений продажи уменьшаются."
   ]
  },
  {
   "cell_type": "markdown",
   "metadata": {},
   "source": [
    "Посмотрим какие игры удовлетворяют перспективным направлениям."
   ]
  },
  {
   "cell_type": "code",
   "execution_count": 81,
   "metadata": {},
   "outputs": [
    {
     "data": {
      "text/plain": [
       "['New Super Mario Bros. U',\n",
       " 'Super Mario 3D World',\n",
       " 'Super Mario Maker',\n",
       " 'New Super Luigi U',\n",
       " 'LittleBigPlanet 3',\n",
       " 'Donkey Kong Country: Tropical Freeze',\n",
       " \"Yoshi's Woolly World\",\n",
       " 'Kirby and the Rainbow Curse',\n",
       " 'Tearaway Unfolded',\n",
       " 'Shovel Knight',\n",
       " 'The Smurfs 2',\n",
       " 'Shovel Knight',\n",
       " 'Mega Man Legacy Collection']"
      ]
     },
     "execution_count": 81,
     "metadata": {},
     "output_type": "execute_result"
    }
   ],
   "source": [
    "df.loc[(df.platform.isin(['PS4', 'XOne', 'WiiU'])) & (df.genre.isin(['Platform','Shooter'])) & (df.rating=='E'),'name'].tolist()"
   ]
  },
  {
   "cell_type": "markdown",
   "metadata": {},
   "source": [
    "### Проверка гипотез"
   ]
  },
  {
   "cell_type": "markdown",
   "metadata": {},
   "source": [
    "#### Гипотеза: средние пользовательские рейтинги платформ Xbox One и PC одинаковые.\n",
    "<i>Нулевая гипотеза</i> - средние пользовательские рейтинги платформ Xbox One и PC совпадают.\n",
    "\n",
    "<i>Альтернативная гипотеза</i> - средние пользовательские рейтинги платформ Xbox One и PC различаются."
   ]
  },
  {
   "cell_type": "code",
   "execution_count": 64,
   "metadata": {},
   "outputs": [],
   "source": [
    "score_x=df.loc[(df.platform=='XOne') & (df.user_score.notna()),'user_score']\n",
    "score_pc=df.loc[(df.platform=='PC') & (df.user_score.notna()),'user_score']"
   ]
  },
  {
   "cell_type": "markdown",
   "metadata": {},
   "source": [
    "посмотрим средние значения по рейтингам"
   ]
  },
  {
   "cell_type": "code",
   "execution_count": 65,
   "metadata": {},
   "outputs": [
    {
     "data": {
      "text/plain": [
       "6.521428"
      ]
     },
     "execution_count": 65,
     "metadata": {},
     "output_type": "execute_result"
    }
   ],
   "source": [
    "score_x.mean()"
   ]
  },
  {
   "cell_type": "code",
   "execution_count": 66,
   "metadata": {},
   "outputs": [
    {
     "data": {
      "text/plain": [
       "7.06596"
      ]
     },
     "execution_count": 66,
     "metadata": {},
     "output_type": "execute_result"
    }
   ],
   "source": [
    "score_pc.mean()"
   ]
  },
  {
   "cell_type": "markdown",
   "metadata": {},
   "source": [
    "посмотрим дисперсии"
   ]
  },
  {
   "cell_type": "code",
   "execution_count": 67,
   "metadata": {},
   "outputs": [
    {
     "data": {
      "text/plain": [
       "1.9069968"
      ]
     },
     "execution_count": 67,
     "metadata": {},
     "output_type": "execute_result"
    }
   ],
   "source": [
    "score_x.var()"
   ]
  },
  {
   "cell_type": "code",
   "execution_count": 68,
   "metadata": {
    "scrolled": true
   },
   "outputs": [
    {
     "data": {
      "text/plain": [
       "2.3492243"
      ]
     },
     "execution_count": 68,
     "metadata": {},
     "output_type": "execute_result"
    }
   ],
   "source": [
    "score_pc.var()"
   ]
  },
  {
   "cell_type": "markdown",
   "metadata": {},
   "source": [
    "проверим гипотезы"
   ]
  },
  {
   "cell_type": "code",
   "execution_count": 69,
   "metadata": {},
   "outputs": [
    {
     "data": {
      "text/plain": [
       "1.3037915455737523e-05"
      ]
     },
     "execution_count": 69,
     "metadata": {},
     "output_type": "execute_result"
    }
   ],
   "source": [
    "st.ttest_ind(score_x, score_pc,equal_var = True).pvalue"
   ]
  },
  {
   "cell_type": "markdown",
   "metadata": {},
   "source": [
    "Так как pvalue меньше .05 отвергаем нулевую гипотезу."
   ]
  },
  {
   "cell_type": "markdown",
   "metadata": {},
   "source": [
    "#### Средние пользовательские рейтинги жанров Action и Sports разные.\n",
    "<i>Нулевая гипотеза</i> - средние пользовательские рейтинги жанров Action и Sports совпадают.\n",
    "\n",
    "<i>Альтернативная гипотеза</i> - средние пользовательские рейтинги жанров Action и Sports различаются."
   ]
  },
  {
   "cell_type": "code",
   "execution_count": 70,
   "metadata": {},
   "outputs": [],
   "source": [
    "score_action=df.loc[(df.genre=='Action') & (df.user_score.notna()),'user_score']\n",
    "score_sport=df.loc[(df.genre=='Sports') & (df.user_score.notna()),'user_score']"
   ]
  },
  {
   "cell_type": "markdown",
   "metadata": {},
   "source": [
    "посмотрим средние значения по рейтингам"
   ]
  },
  {
   "cell_type": "code",
   "execution_count": 71,
   "metadata": {},
   "outputs": [
    {
     "data": {
      "text/plain": [
       "7.0581293"
      ]
     },
     "execution_count": 71,
     "metadata": {},
     "output_type": "execute_result"
    }
   ],
   "source": [
    "score_action.mean()"
   ]
  },
  {
   "cell_type": "code",
   "execution_count": 72,
   "metadata": {},
   "outputs": [
    {
     "data": {
      "text/plain": [
       "6.9514337"
      ]
     },
     "execution_count": 72,
     "metadata": {},
     "output_type": "execute_result"
    }
   ],
   "source": [
    "score_sport.mean()"
   ]
  },
  {
   "cell_type": "markdown",
   "metadata": {},
   "source": [
    "посмотрим дисперсии"
   ]
  },
  {
   "cell_type": "code",
   "execution_count": 73,
   "metadata": {},
   "outputs": [
    {
     "data": {
      "text/plain": [
       "2.0274937"
      ]
     },
     "execution_count": 73,
     "metadata": {},
     "output_type": "execute_result"
    }
   ],
   "source": [
    "score_action.var()"
   ]
  },
  {
   "cell_type": "code",
   "execution_count": 74,
   "metadata": {
    "scrolled": true
   },
   "outputs": [
    {
     "data": {
      "text/plain": [
       "2.623056"
      ]
     },
     "execution_count": 74,
     "metadata": {},
     "output_type": "execute_result"
    }
   ],
   "source": [
    "score_sport.var()"
   ]
  },
  {
   "cell_type": "markdown",
   "metadata": {},
   "source": [
    "проверим гипотезы"
   ]
  },
  {
   "cell_type": "code",
   "execution_count": 75,
   "metadata": {},
   "outputs": [
    {
     "data": {
      "text/plain": [
       "0.06480844447220012"
      ]
     },
     "execution_count": 75,
     "metadata": {},
     "output_type": "execute_result"
    }
   ],
   "source": [
    "st.ttest_ind(score_action, score_sport,equal_var = True).pvalue"
   ]
  },
  {
   "cell_type": "markdown",
   "metadata": {},
   "source": [
    "Так как pvalue больше .05 не отвергаем нулевую гипотезу."
   ]
  },
  {
   "cell_type": "markdown",
   "metadata": {},
   "source": [
    "### Общий вывод"
   ]
  },
  {
   "cell_type": "markdown",
   "metadata": {},
   "source": [
    "1. Определены перспективные платформы - PS4, XOne.\n",
    "2. Самые популярные жанры - Platform, Shooter.\n",
    "3. Самый продаваемый рейтинг ESRB - E.\n",
    "4. На продажи влияет рейтинг пользователей и критиков, но большая зависимость от критиков.\n",
    "5. Япония имеет свои отличительные особенности и выделяется в продажах игр.\n",
    "6. Средние пользовательские рейтинги платформ Xbox One и PC различаются.\n",
    "7. Средние пользовательские рейтинги жанров Action и Sports совпадают.\n",
    "\n",
    "**Рекомендации на 2017 год:**\n",
    "* платформы:\n",
    " * XOne \n",
    " * PS4 \n",
    " * WiiU \n",
    "* жанр: Platform, Shooter\n",
    "* рейтинг: E\n",
    "\n",
    "Игры удовлетворяющие перспективным направлениям:\n",
    " * New Super Mario Bros. U\n",
    " * Super Mario 3D World\n",
    " * Super Mario Maker\n",
    " * New Super Luigi U\n",
    " * LittleBigPlanet 3\n",
    " * Donkey Kong Country: Tropical Freeze\n",
    " * Yoshi's Woolly World\n",
    " * Kirby and the Rainbow Curse\n",
    " * Tearaway Unfolded\n",
    " * Shovel Knight\n",
    " * The Smurfs 2\n",
    " * Shovel Knight\n",
    " * Mega Man Legacy Collection"
   ]
  }
 ],
 "metadata": {
  "ExecuteTimeLog": [
   {
    "duration": 249,
    "start_time": "2022-02-17T12:29:06.207Z"
   },
   {
    "duration": 1004,
    "start_time": "2022-02-17T12:29:13.757Z"
   },
   {
    "duration": 8,
    "start_time": "2022-02-17T12:29:14.763Z"
   },
   {
    "duration": 64,
    "start_time": "2022-02-17T12:29:14.773Z"
   },
   {
    "duration": 12,
    "start_time": "2022-02-17T12:32:50.637Z"
   },
   {
    "duration": 2,
    "start_time": "2022-02-17T12:36:50.373Z"
   },
   {
    "duration": 6,
    "start_time": "2022-02-17T12:40:26.107Z"
   },
   {
    "duration": 6,
    "start_time": "2022-02-17T12:40:39.084Z"
   },
   {
    "duration": 5,
    "start_time": "2022-02-17T12:41:10.935Z"
   },
   {
    "duration": 4,
    "start_time": "2022-02-17T12:41:19.697Z"
   },
   {
    "duration": 4,
    "start_time": "2022-02-17T12:47:49.192Z"
   },
   {
    "duration": 443,
    "start_time": "2022-02-17T12:48:56.758Z"
   },
   {
    "duration": 215,
    "start_time": "2022-02-17T12:49:28.777Z"
   },
   {
    "duration": 63,
    "start_time": "2022-02-17T12:50:05.574Z"
   },
   {
    "duration": 3,
    "start_time": "2022-02-17T12:50:09.175Z"
   },
   {
    "duration": 5,
    "start_time": "2022-02-17T12:50:20.126Z"
   },
   {
    "duration": 12,
    "start_time": "2022-02-17T12:50:53.915Z"
   },
   {
    "duration": 4,
    "start_time": "2022-02-17T12:51:11.204Z"
   },
   {
    "duration": 1012,
    "start_time": "2022-02-17T12:51:18.771Z"
   },
   {
    "duration": 9,
    "start_time": "2022-02-17T12:51:19.785Z"
   },
   {
    "duration": 283,
    "start_time": "2022-02-17T12:51:19.796Z"
   },
   {
    "duration": -162,
    "start_time": "2022-02-17T12:51:20.243Z"
   },
   {
    "duration": -163,
    "start_time": "2022-02-17T12:51:20.244Z"
   },
   {
    "duration": -163,
    "start_time": "2022-02-17T12:51:20.245Z"
   },
   {
    "duration": -210,
    "start_time": "2022-02-17T12:51:20.293Z"
   },
   {
    "duration": 43,
    "start_time": "2022-02-17T12:51:43.440Z"
   },
   {
    "duration": 33,
    "start_time": "2022-02-17T12:51:47.368Z"
   },
   {
    "duration": 5,
    "start_time": "2022-02-17T12:51:51.376Z"
   },
   {
    "duration": 5,
    "start_time": "2022-02-17T12:51:55.194Z"
   },
   {
    "duration": 5,
    "start_time": "2022-02-17T12:53:49.108Z"
   },
   {
    "duration": 6,
    "start_time": "2022-02-17T12:54:29.905Z"
   },
   {
    "duration": 183,
    "start_time": "2022-02-17T12:54:40.450Z"
   },
   {
    "duration": 5,
    "start_time": "2022-02-17T12:54:54.795Z"
   },
   {
    "duration": 193,
    "start_time": "2022-02-17T12:55:11.917Z"
   },
   {
    "duration": 9,
    "start_time": "2022-02-17T13:00:06.113Z"
   },
   {
    "duration": 22,
    "start_time": "2022-02-17T13:00:19.114Z"
   },
   {
    "duration": 15,
    "start_time": "2022-02-17T13:00:32.509Z"
   },
   {
    "duration": 5,
    "start_time": "2022-02-17T13:02:16.862Z"
   },
   {
    "duration": 17,
    "start_time": "2022-02-17T13:02:38.047Z"
   },
   {
    "duration": 5,
    "start_time": "2022-02-17T13:12:46.732Z"
   },
   {
    "duration": 5,
    "start_time": "2022-02-17T13:13:16.911Z"
   },
   {
    "duration": 186,
    "start_time": "2022-02-17T13:13:34.296Z"
   },
   {
    "duration": 4,
    "start_time": "2022-02-17T13:13:39.810Z"
   },
   {
    "duration": 190,
    "start_time": "2022-02-17T13:14:55.562Z"
   },
   {
    "duration": 6,
    "start_time": "2022-02-17T13:15:11.066Z"
   },
   {
    "duration": 9,
    "start_time": "2022-02-17T13:15:19.915Z"
   },
   {
    "duration": 6,
    "start_time": "2022-02-17T13:17:08.384Z"
   },
   {
    "duration": 7,
    "start_time": "2022-02-17T13:19:24.867Z"
   },
   {
    "duration": 7,
    "start_time": "2022-02-17T13:26:32.639Z"
   },
   {
    "duration": 30,
    "start_time": "2022-02-17T13:27:27.946Z"
   },
   {
    "duration": 6,
    "start_time": "2022-02-17T13:28:22.402Z"
   },
   {
    "duration": 9,
    "start_time": "2022-02-17T13:29:27.280Z"
   },
   {
    "duration": 9,
    "start_time": "2022-02-17T13:31:43.854Z"
   },
   {
    "duration": 7,
    "start_time": "2022-02-17T13:33:05.929Z"
   },
   {
    "duration": 5,
    "start_time": "2022-02-17T13:40:22.251Z"
   },
   {
    "duration": 8,
    "start_time": "2022-02-17T13:40:52.230Z"
   },
   {
    "duration": 761,
    "start_time": "2022-02-17T13:41:59.556Z"
   },
   {
    "duration": 741,
    "start_time": "2022-02-17T13:43:20.054Z"
   },
   {
    "duration": 6,
    "start_time": "2022-02-17T13:43:34.967Z"
   },
   {
    "duration": 12,
    "start_time": "2022-02-17T13:43:52.976Z"
   },
   {
    "duration": 17,
    "start_time": "2022-02-17T13:50:34.729Z"
   },
   {
    "duration": 4,
    "start_time": "2022-02-17T13:52:27.284Z"
   },
   {
    "duration": 193,
    "start_time": "2022-02-17T13:53:27.987Z"
   },
   {
    "duration": 5,
    "start_time": "2022-02-17T13:54:05.342Z"
   },
   {
    "duration": 9,
    "start_time": "2022-02-17T13:55:01.796Z"
   },
   {
    "duration": 1016,
    "start_time": "2022-02-17T13:55:06.291Z"
   },
   {
    "duration": 10,
    "start_time": "2022-02-17T13:55:07.309Z"
   },
   {
    "duration": 43,
    "start_time": "2022-02-17T13:55:07.321Z"
   },
   {
    "duration": 28,
    "start_time": "2022-02-17T13:55:07.366Z"
   },
   {
    "duration": 4,
    "start_time": "2022-02-17T13:55:07.395Z"
   },
   {
    "duration": 18,
    "start_time": "2022-02-17T13:55:07.401Z"
   },
   {
    "duration": 16,
    "start_time": "2022-02-17T13:55:07.420Z"
   },
   {
    "duration": 4,
    "start_time": "2022-02-17T13:55:07.438Z"
   },
   {
    "duration": 19,
    "start_time": "2022-02-17T13:55:07.444Z"
   },
   {
    "duration": 6,
    "start_time": "2022-02-17T13:55:07.465Z"
   },
   {
    "duration": 5,
    "start_time": "2022-02-17T13:55:07.472Z"
   },
   {
    "duration": 44,
    "start_time": "2022-02-17T13:55:07.479Z"
   },
   {
    "duration": 5,
    "start_time": "2022-02-17T13:55:07.525Z"
   },
   {
    "duration": 7,
    "start_time": "2022-02-17T13:55:07.532Z"
   },
   {
    "duration": 6,
    "start_time": "2022-02-17T13:55:07.540Z"
   },
   {
    "duration": 4,
    "start_time": "2022-02-17T13:55:07.548Z"
   },
   {
    "duration": 12,
    "start_time": "2022-02-17T13:55:07.554Z"
   },
   {
    "duration": 52,
    "start_time": "2022-02-17T13:55:07.568Z"
   },
   {
    "duration": 4,
    "start_time": "2022-02-17T13:55:07.622Z"
   },
   {
    "duration": 7,
    "start_time": "2022-02-17T13:55:07.628Z"
   },
   {
    "duration": 983,
    "start_time": "2022-02-17T13:56:33.173Z"
   },
   {
    "duration": 10,
    "start_time": "2022-02-17T13:56:34.157Z"
   },
   {
    "duration": 54,
    "start_time": "2022-02-17T13:56:34.169Z"
   },
   {
    "duration": 27,
    "start_time": "2022-02-17T13:56:34.225Z"
   },
   {
    "duration": 4,
    "start_time": "2022-02-17T13:56:34.254Z"
   },
   {
    "duration": 9,
    "start_time": "2022-02-17T13:56:34.260Z"
   },
   {
    "duration": 22,
    "start_time": "2022-02-17T13:56:34.271Z"
   },
   {
    "duration": 6,
    "start_time": "2022-02-17T13:56:34.320Z"
   },
   {
    "duration": 22,
    "start_time": "2022-02-17T13:56:34.328Z"
   },
   {
    "duration": 6,
    "start_time": "2022-02-17T13:56:34.352Z"
   },
   {
    "duration": 7,
    "start_time": "2022-02-17T13:56:34.360Z"
   },
   {
    "duration": 7,
    "start_time": "2022-02-17T13:56:34.369Z"
   },
   {
    "duration": 46,
    "start_time": "2022-02-17T13:56:34.378Z"
   },
   {
    "duration": 8,
    "start_time": "2022-02-17T13:56:34.426Z"
   },
   {
    "duration": 6,
    "start_time": "2022-02-17T13:56:34.436Z"
   },
   {
    "duration": 5,
    "start_time": "2022-02-17T13:56:34.444Z"
   },
   {
    "duration": 14,
    "start_time": "2022-02-17T13:56:34.451Z"
   },
   {
    "duration": 52,
    "start_time": "2022-02-17T13:56:34.467Z"
   },
   {
    "duration": 4,
    "start_time": "2022-02-17T13:56:34.520Z"
   },
   {
    "duration": 7,
    "start_time": "2022-02-17T13:56:34.526Z"
   },
   {
    "duration": 1033,
    "start_time": "2022-02-17T13:58:43.230Z"
   },
   {
    "duration": 9,
    "start_time": "2022-02-17T13:58:44.265Z"
   },
   {
    "duration": 44,
    "start_time": "2022-02-17T13:58:44.276Z"
   },
   {
    "duration": 30,
    "start_time": "2022-02-17T13:58:44.322Z"
   },
   {
    "duration": 4,
    "start_time": "2022-02-17T13:58:44.354Z"
   },
   {
    "duration": 6,
    "start_time": "2022-02-17T13:58:44.359Z"
   },
   {
    "duration": 22,
    "start_time": "2022-02-17T13:58:44.367Z"
   },
   {
    "duration": 5,
    "start_time": "2022-02-17T13:58:44.420Z"
   },
   {
    "duration": 22,
    "start_time": "2022-02-17T13:58:44.427Z"
   },
   {
    "duration": 6,
    "start_time": "2022-02-17T13:58:44.450Z"
   },
   {
    "duration": 6,
    "start_time": "2022-02-17T13:58:44.458Z"
   },
   {
    "duration": 5,
    "start_time": "2022-02-17T13:58:44.466Z"
   },
   {
    "duration": 5,
    "start_time": "2022-02-17T13:58:44.473Z"
   },
   {
    "duration": 46,
    "start_time": "2022-02-17T13:58:44.479Z"
   },
   {
    "duration": 6,
    "start_time": "2022-02-17T13:58:44.527Z"
   },
   {
    "duration": 6,
    "start_time": "2022-02-17T13:58:44.534Z"
   },
   {
    "duration": 15,
    "start_time": "2022-02-17T13:58:44.542Z"
   },
   {
    "duration": 23,
    "start_time": "2022-02-17T13:58:44.559Z"
   },
   {
    "duration": 4,
    "start_time": "2022-02-17T13:58:44.583Z"
   },
   {
    "duration": 34,
    "start_time": "2022-02-17T13:58:44.589Z"
   },
   {
    "duration": 18,
    "start_time": "2022-02-17T13:59:06.986Z"
   },
   {
    "duration": 25,
    "start_time": "2022-02-17T14:00:07.617Z"
   },
   {
    "duration": 5,
    "start_time": "2022-02-17T14:01:41.119Z"
   },
   {
    "duration": 32,
    "start_time": "2022-02-17T14:02:58.089Z"
   },
   {
    "duration": 16,
    "start_time": "2022-02-17T14:05:03.476Z"
   },
   {
    "duration": 24,
    "start_time": "2022-02-17T14:05:30.120Z"
   },
   {
    "duration": 572,
    "start_time": "2022-02-17T14:05:45.623Z"
   },
   {
    "duration": 16,
    "start_time": "2022-02-17T14:07:35.396Z"
   },
   {
    "duration": 29,
    "start_time": "2022-02-17T14:07:49.782Z"
   },
   {
    "duration": 26,
    "start_time": "2022-02-17T14:08:04.249Z"
   },
   {
    "duration": 16,
    "start_time": "2022-02-17T14:09:01.134Z"
   },
   {
    "duration": 1050,
    "start_time": "2022-02-17T14:09:24.716Z"
   },
   {
    "duration": 14,
    "start_time": "2022-02-17T14:09:25.768Z"
   },
   {
    "duration": 46,
    "start_time": "2022-02-17T14:09:25.784Z"
   },
   {
    "duration": 27,
    "start_time": "2022-02-17T14:09:25.832Z"
   },
   {
    "duration": 4,
    "start_time": "2022-02-17T14:09:25.861Z"
   },
   {
    "duration": 6,
    "start_time": "2022-02-17T14:09:25.867Z"
   },
   {
    "duration": 45,
    "start_time": "2022-02-17T14:09:25.875Z"
   },
   {
    "duration": 5,
    "start_time": "2022-02-17T14:09:25.922Z"
   },
   {
    "duration": 24,
    "start_time": "2022-02-17T14:09:25.929Z"
   },
   {
    "duration": 6,
    "start_time": "2022-02-17T14:09:25.955Z"
   },
   {
    "duration": 7,
    "start_time": "2022-02-17T14:09:25.962Z"
   },
   {
    "duration": 6,
    "start_time": "2022-02-17T14:09:25.970Z"
   },
   {
    "duration": 43,
    "start_time": "2022-02-17T14:09:25.977Z"
   },
   {
    "duration": 8,
    "start_time": "2022-02-17T14:09:26.022Z"
   },
   {
    "duration": 7,
    "start_time": "2022-02-17T14:09:26.032Z"
   },
   {
    "duration": 5,
    "start_time": "2022-02-17T14:09:26.041Z"
   },
   {
    "duration": 16,
    "start_time": "2022-02-17T14:09:26.048Z"
   },
   {
    "duration": 54,
    "start_time": "2022-02-17T14:09:26.066Z"
   },
   {
    "duration": 3,
    "start_time": "2022-02-17T14:09:26.122Z"
   },
   {
    "duration": 4,
    "start_time": "2022-02-17T14:09:26.127Z"
   },
   {
    "duration": 29,
    "start_time": "2022-02-17T14:09:46.337Z"
   },
   {
    "duration": 1001,
    "start_time": "2022-02-17T14:12:36.961Z"
   },
   {
    "duration": 14,
    "start_time": "2022-02-17T14:12:37.964Z"
   },
   {
    "duration": 54,
    "start_time": "2022-02-17T14:12:37.980Z"
   },
   {
    "duration": 29,
    "start_time": "2022-02-17T14:12:38.036Z"
   },
   {
    "duration": 5,
    "start_time": "2022-02-17T14:12:38.067Z"
   },
   {
    "duration": 6,
    "start_time": "2022-02-17T14:12:38.073Z"
   },
   {
    "duration": 47,
    "start_time": "2022-02-17T14:12:38.081Z"
   },
   {
    "duration": 4,
    "start_time": "2022-02-17T14:12:38.130Z"
   },
   {
    "duration": 26,
    "start_time": "2022-02-17T14:12:38.136Z"
   },
   {
    "duration": 5,
    "start_time": "2022-02-17T14:12:38.164Z"
   },
   {
    "duration": 6,
    "start_time": "2022-02-17T14:12:38.171Z"
   },
   {
    "duration": 6,
    "start_time": "2022-02-17T14:12:38.179Z"
   },
   {
    "duration": 34,
    "start_time": "2022-02-17T14:12:38.187Z"
   },
   {
    "duration": 9,
    "start_time": "2022-02-17T14:12:38.223Z"
   },
   {
    "duration": 7,
    "start_time": "2022-02-17T14:12:38.234Z"
   },
   {
    "duration": 6,
    "start_time": "2022-02-17T14:12:38.243Z"
   },
   {
    "duration": 12,
    "start_time": "2022-02-17T14:12:38.250Z"
   },
   {
    "duration": 68,
    "start_time": "2022-02-17T14:12:38.264Z"
   },
   {
    "duration": 29,
    "start_time": "2022-02-17T14:12:38.333Z"
   },
   {
    "duration": 5,
    "start_time": "2022-02-17T14:12:38.364Z"
   },
   {
    "duration": 4,
    "start_time": "2022-02-17T14:12:38.370Z"
   },
   {
    "duration": 668,
    "start_time": "2022-02-17T14:14:05.898Z"
   },
   {
    "duration": 204,
    "start_time": "2022-02-17T14:23:22.274Z"
   },
   {
    "duration": 5,
    "start_time": "2022-02-17T14:23:26.164Z"
   },
   {
    "duration": 205,
    "start_time": "2022-02-17T14:23:50.709Z"
   },
   {
    "duration": 3,
    "start_time": "2022-02-17T14:24:05.494Z"
   },
   {
    "duration": 3,
    "start_time": "2022-02-17T14:24:14.559Z"
   },
   {
    "duration": 3,
    "start_time": "2022-02-17T14:24:27.969Z"
   },
   {
    "duration": 3,
    "start_time": "2022-02-17T14:24:42.418Z"
   },
   {
    "duration": 3,
    "start_time": "2022-02-17T14:26:00.498Z"
   },
   {
    "duration": 3,
    "start_time": "2022-02-17T14:26:03.858Z"
   },
   {
    "duration": 4,
    "start_time": "2022-02-17T14:26:11.012Z"
   },
   {
    "duration": 3,
    "start_time": "2022-02-17T14:26:35.125Z"
   },
   {
    "duration": 4,
    "start_time": "2022-02-17T14:28:36.473Z"
   },
   {
    "duration": 5,
    "start_time": "2022-02-17T14:28:46.971Z"
   },
   {
    "duration": 201,
    "start_time": "2022-02-17T14:28:59.301Z"
   },
   {
    "duration": 73,
    "start_time": "2022-02-17T14:32:27.825Z"
   },
   {
    "duration": 4,
    "start_time": "2022-02-17T14:32:36.026Z"
   },
   {
    "duration": 4,
    "start_time": "2022-02-17T14:33:05.749Z"
   },
   {
    "duration": 4,
    "start_time": "2022-02-17T14:34:14.068Z"
   },
   {
    "duration": 5,
    "start_time": "2022-02-17T14:34:23.724Z"
   },
   {
    "duration": 5,
    "start_time": "2022-02-17T14:35:29.179Z"
   },
   {
    "duration": 5,
    "start_time": "2022-02-17T14:36:00.966Z"
   },
   {
    "duration": 4,
    "start_time": "2022-02-17T14:37:29.784Z"
   },
   {
    "duration": 4,
    "start_time": "2022-02-17T14:37:48.426Z"
   },
   {
    "duration": 391,
    "start_time": "2022-02-17T15:33:52.932Z"
   },
   {
    "duration": 200,
    "start_time": "2022-02-17T15:34:19.990Z"
   },
   {
    "duration": 198,
    "start_time": "2022-02-17T15:34:36.608Z"
   },
   {
    "duration": 193,
    "start_time": "2022-02-17T15:34:58.922Z"
   },
   {
    "duration": 5,
    "start_time": "2022-02-17T15:35:13.092Z"
   },
   {
    "duration": 4,
    "start_time": "2022-02-17T15:35:17.453Z"
   },
   {
    "duration": 5,
    "start_time": "2022-02-17T15:35:33.159Z"
   },
   {
    "duration": 206,
    "start_time": "2022-02-17T15:35:39.447Z"
   },
   {
    "duration": 48,
    "start_time": "2022-02-17T15:35:44.799Z"
   },
   {
    "duration": 551,
    "start_time": "2022-02-17T15:36:07.962Z"
   },
   {
    "duration": 525,
    "start_time": "2022-02-17T15:36:45.758Z"
   },
   {
    "duration": 21,
    "start_time": "2022-02-17T15:37:05.984Z"
   },
   {
    "duration": 16,
    "start_time": "2022-02-17T15:38:33.317Z"
   },
   {
    "duration": 564,
    "start_time": "2022-02-17T15:38:51.322Z"
   },
   {
    "duration": 17,
    "start_time": "2022-02-17T16:02:36.419Z"
   },
   {
    "duration": 542,
    "start_time": "2022-02-17T16:02:53.170Z"
   },
   {
    "duration": 99,
    "start_time": "2022-02-17T16:03:11.995Z"
   },
   {
    "duration": 16,
    "start_time": "2022-02-17T16:04:23.122Z"
   },
   {
    "duration": 1041,
    "start_time": "2022-02-17T16:04:47.234Z"
   },
   {
    "duration": 17,
    "start_time": "2022-02-17T16:04:48.277Z"
   },
   {
    "duration": 75,
    "start_time": "2022-02-17T16:04:48.300Z"
   },
   {
    "duration": 43,
    "start_time": "2022-02-17T16:04:48.377Z"
   },
   {
    "duration": 5,
    "start_time": "2022-02-17T16:04:48.421Z"
   },
   {
    "duration": 6,
    "start_time": "2022-02-17T16:04:48.428Z"
   },
   {
    "duration": 24,
    "start_time": "2022-02-17T16:04:48.436Z"
   },
   {
    "duration": 5,
    "start_time": "2022-02-17T16:04:48.462Z"
   },
   {
    "duration": 76,
    "start_time": "2022-02-17T16:04:48.469Z"
   },
   {
    "duration": 6,
    "start_time": "2022-02-17T16:04:48.546Z"
   },
   {
    "duration": 7,
    "start_time": "2022-02-17T16:04:48.553Z"
   },
   {
    "duration": 8,
    "start_time": "2022-02-17T16:04:48.562Z"
   },
   {
    "duration": 6,
    "start_time": "2022-02-17T16:04:48.571Z"
   },
   {
    "duration": 41,
    "start_time": "2022-02-17T16:04:48.578Z"
   },
   {
    "duration": 8,
    "start_time": "2022-02-17T16:04:48.620Z"
   },
   {
    "duration": 6,
    "start_time": "2022-02-17T16:04:48.629Z"
   },
   {
    "duration": 13,
    "start_time": "2022-02-17T16:04:48.637Z"
   },
   {
    "duration": 28,
    "start_time": "2022-02-17T16:04:48.652Z"
   },
   {
    "duration": 73,
    "start_time": "2022-02-17T16:04:48.682Z"
   },
   {
    "duration": 18,
    "start_time": "2022-02-17T16:04:48.757Z"
   },
   {
    "duration": 416,
    "start_time": "2022-02-17T16:04:48.777Z"
   },
   {
    "duration": -314,
    "start_time": "2022-02-17T16:04:49.509Z"
   },
   {
    "duration": -313,
    "start_time": "2022-02-17T16:04:49.509Z"
   },
   {
    "duration": 1049,
    "start_time": "2022-02-17T16:05:19.454Z"
   },
   {
    "duration": 19,
    "start_time": "2022-02-17T16:05:20.505Z"
   },
   {
    "duration": 50,
    "start_time": "2022-02-17T16:05:20.528Z"
   },
   {
    "duration": 29,
    "start_time": "2022-02-17T16:05:20.580Z"
   },
   {
    "duration": 5,
    "start_time": "2022-02-17T16:05:20.618Z"
   },
   {
    "duration": 5,
    "start_time": "2022-02-17T16:05:20.624Z"
   },
   {
    "duration": 23,
    "start_time": "2022-02-17T16:05:20.631Z"
   },
   {
    "duration": 5,
    "start_time": "2022-02-17T16:05:20.657Z"
   },
   {
    "duration": 57,
    "start_time": "2022-02-17T16:05:20.663Z"
   },
   {
    "duration": 6,
    "start_time": "2022-02-17T16:05:20.722Z"
   },
   {
    "duration": 6,
    "start_time": "2022-02-17T16:05:20.730Z"
   },
   {
    "duration": 7,
    "start_time": "2022-02-17T16:05:20.738Z"
   },
   {
    "duration": 6,
    "start_time": "2022-02-17T16:05:20.746Z"
   },
   {
    "duration": 9,
    "start_time": "2022-02-17T16:05:20.753Z"
   },
   {
    "duration": 7,
    "start_time": "2022-02-17T16:05:20.765Z"
   },
   {
    "duration": 8,
    "start_time": "2022-02-17T16:05:20.774Z"
   },
   {
    "duration": 17,
    "start_time": "2022-02-17T16:05:20.819Z"
   },
   {
    "duration": 29,
    "start_time": "2022-02-17T16:05:20.837Z"
   },
   {
    "duration": 51,
    "start_time": "2022-02-17T16:05:20.868Z"
   },
   {
    "duration": 20,
    "start_time": "2022-02-17T16:05:20.921Z"
   },
   {
    "duration": 398,
    "start_time": "2022-02-17T16:05:20.943Z"
   },
   {
    "duration": -269,
    "start_time": "2022-02-17T16:05:21.612Z"
   },
   {
    "duration": -269,
    "start_time": "2022-02-17T16:05:21.613Z"
   },
   {
    "duration": 1025,
    "start_time": "2022-02-17T16:05:54.455Z"
   },
   {
    "duration": 17,
    "start_time": "2022-02-17T16:05:55.482Z"
   },
   {
    "duration": 54,
    "start_time": "2022-02-17T16:05:55.502Z"
   },
   {
    "duration": 31,
    "start_time": "2022-02-17T16:05:55.558Z"
   },
   {
    "duration": 5,
    "start_time": "2022-02-17T16:05:55.591Z"
   },
   {
    "duration": 24,
    "start_time": "2022-02-17T16:05:55.598Z"
   },
   {
    "duration": 30,
    "start_time": "2022-02-17T16:05:55.624Z"
   },
   {
    "duration": 5,
    "start_time": "2022-02-17T16:05:55.657Z"
   },
   {
    "duration": 56,
    "start_time": "2022-02-17T16:05:55.664Z"
   },
   {
    "duration": 6,
    "start_time": "2022-02-17T16:05:55.722Z"
   },
   {
    "duration": 8,
    "start_time": "2022-02-17T16:05:55.730Z"
   },
   {
    "duration": 7,
    "start_time": "2022-02-17T16:05:55.740Z"
   },
   {
    "duration": 5,
    "start_time": "2022-02-17T16:05:55.749Z"
   },
   {
    "duration": 9,
    "start_time": "2022-02-17T16:05:55.757Z"
   },
   {
    "duration": 9,
    "start_time": "2022-02-17T16:05:55.768Z"
   },
   {
    "duration": 5,
    "start_time": "2022-02-17T16:05:55.819Z"
   },
   {
    "duration": 24,
    "start_time": "2022-02-17T16:05:55.826Z"
   },
   {
    "duration": 41,
    "start_time": "2022-02-17T16:05:55.857Z"
   },
   {
    "duration": 43,
    "start_time": "2022-02-17T16:05:55.899Z"
   },
   {
    "duration": 19,
    "start_time": "2022-02-17T16:05:55.943Z"
   },
   {
    "duration": 425,
    "start_time": "2022-02-17T16:05:55.964Z"
   },
   {
    "duration": -267,
    "start_time": "2022-02-17T16:05:56.658Z"
   },
   {
    "duration": -268,
    "start_time": "2022-02-17T16:05:56.659Z"
   },
   {
    "duration": 16,
    "start_time": "2022-02-17T16:06:24.151Z"
   },
   {
    "duration": 1033,
    "start_time": "2022-02-17T16:06:37.438Z"
   },
   {
    "duration": 17,
    "start_time": "2022-02-17T16:06:38.473Z"
   },
   {
    "duration": 54,
    "start_time": "2022-02-17T16:06:38.494Z"
   },
   {
    "duration": 28,
    "start_time": "2022-02-17T16:06:38.550Z"
   },
   {
    "duration": 5,
    "start_time": "2022-02-17T16:06:38.580Z"
   },
   {
    "duration": 6,
    "start_time": "2022-02-17T16:06:38.587Z"
   },
   {
    "duration": 24,
    "start_time": "2022-02-17T16:06:38.620Z"
   },
   {
    "duration": 5,
    "start_time": "2022-02-17T16:06:38.646Z"
   },
   {
    "duration": 28,
    "start_time": "2022-02-17T16:06:38.652Z"
   },
   {
    "duration": 6,
    "start_time": "2022-02-17T16:06:38.682Z"
   },
   {
    "duration": 30,
    "start_time": "2022-02-17T16:06:38.689Z"
   },
   {
    "duration": 8,
    "start_time": "2022-02-17T16:06:38.721Z"
   },
   {
    "duration": 7,
    "start_time": "2022-02-17T16:06:38.731Z"
   },
   {
    "duration": 11,
    "start_time": "2022-02-17T16:06:38.739Z"
   },
   {
    "duration": 7,
    "start_time": "2022-02-17T16:06:38.751Z"
   },
   {
    "duration": 5,
    "start_time": "2022-02-17T16:06:38.760Z"
   },
   {
    "duration": 15,
    "start_time": "2022-02-17T16:06:38.767Z"
   },
   {
    "duration": 60,
    "start_time": "2022-02-17T16:06:38.784Z"
   },
   {
    "duration": 26,
    "start_time": "2022-02-17T16:06:38.846Z"
   },
   {
    "duration": 19,
    "start_time": "2022-02-17T16:06:38.874Z"
   },
   {
    "duration": 152,
    "start_time": "2022-02-17T16:06:38.894Z"
   },
   {
    "duration": 270,
    "start_time": "2022-02-17T16:06:39.050Z"
   },
   {
    "duration": -276,
    "start_time": "2022-02-17T16:06:39.599Z"
   },
   {
    "duration": 40,
    "start_time": "2022-02-17T16:20:34.463Z"
   },
   {
    "duration": 1040,
    "start_time": "2022-02-17T16:21:11.257Z"
   },
   {
    "duration": 20,
    "start_time": "2022-02-17T16:21:12.300Z"
   },
   {
    "duration": 66,
    "start_time": "2022-02-17T16:21:12.323Z"
   },
   {
    "duration": 67,
    "start_time": "2022-02-17T16:21:12.392Z"
   },
   {
    "duration": 7,
    "start_time": "2022-02-17T16:21:12.462Z"
   },
   {
    "duration": 11,
    "start_time": "2022-02-17T16:21:12.472Z"
   },
   {
    "duration": 48,
    "start_time": "2022-02-17T16:21:12.485Z"
   },
   {
    "duration": 5,
    "start_time": "2022-02-17T16:21:12.536Z"
   },
   {
    "duration": 31,
    "start_time": "2022-02-17T16:21:12.545Z"
   },
   {
    "duration": 44,
    "start_time": "2022-02-17T16:21:12.578Z"
   },
   {
    "duration": 7,
    "start_time": "2022-02-17T16:21:12.624Z"
   },
   {
    "duration": 8,
    "start_time": "2022-02-17T16:21:12.633Z"
   },
   {
    "duration": 7,
    "start_time": "2022-02-17T16:21:12.643Z"
   },
   {
    "duration": 11,
    "start_time": "2022-02-17T16:21:12.652Z"
   },
   {
    "duration": 11,
    "start_time": "2022-02-17T16:21:12.665Z"
   },
   {
    "duration": 5,
    "start_time": "2022-02-17T16:21:12.719Z"
   },
   {
    "duration": 22,
    "start_time": "2022-02-17T16:21:12.726Z"
   },
   {
    "duration": 35,
    "start_time": "2022-02-17T16:21:12.750Z"
   },
   {
    "duration": 58,
    "start_time": "2022-02-17T16:21:12.787Z"
   },
   {
    "duration": 20,
    "start_time": "2022-02-17T16:21:12.847Z"
   },
   {
    "duration": 156,
    "start_time": "2022-02-17T16:21:12.869Z"
   },
   {
    "duration": 2,
    "start_time": "2022-02-17T16:21:13.026Z"
   },
   {
    "duration": 23,
    "start_time": "2022-02-17T16:21:58.703Z"
   },
   {
    "duration": 22,
    "start_time": "2022-02-17T16:23:46.389Z"
   },
   {
    "duration": 288,
    "start_time": "2022-02-17T16:25:57.808Z"
   },
   {
    "duration": 13,
    "start_time": "2022-02-17T16:26:13.602Z"
   },
   {
    "duration": 16,
    "start_time": "2022-02-17T16:26:21.908Z"
   },
   {
    "duration": 16,
    "start_time": "2022-02-17T16:26:59.895Z"
   },
   {
    "duration": 17,
    "start_time": "2022-02-17T16:27:54.781Z"
   },
   {
    "duration": 184,
    "start_time": "2022-02-17T16:29:53.529Z"
   },
   {
    "duration": 86,
    "start_time": "2022-02-17T16:48:14.209Z"
   },
   {
    "duration": 474,
    "start_time": "2022-02-17T16:48:26.489Z"
   },
   {
    "duration": 6,
    "start_time": "2022-02-17T16:59:12.746Z"
   },
   {
    "duration": 5,
    "start_time": "2022-02-17T16:59:23.891Z"
   },
   {
    "duration": 6,
    "start_time": "2022-02-17T17:15:05.490Z"
   },
   {
    "duration": 7,
    "start_time": "2022-02-17T17:15:08.362Z"
   },
   {
    "duration": 16,
    "start_time": "2022-02-17T17:16:05.665Z"
   },
   {
    "duration": 81,
    "start_time": "2022-02-17T17:17:33.978Z"
   },
   {
    "duration": 17,
    "start_time": "2022-02-17T17:18:04.068Z"
   },
   {
    "duration": 29,
    "start_time": "2022-02-17T17:21:35.801Z"
   },
   {
    "duration": 464,
    "start_time": "2022-02-17T17:23:09.116Z"
   },
   {
    "duration": 1204,
    "start_time": "2022-02-17T17:23:27.868Z"
   },
   {
    "duration": 17,
    "start_time": "2022-02-17T17:23:29.074Z"
   },
   {
    "duration": 55,
    "start_time": "2022-02-17T17:23:29.094Z"
   },
   {
    "duration": 32,
    "start_time": "2022-02-17T17:23:29.151Z"
   },
   {
    "duration": 4,
    "start_time": "2022-02-17T17:23:29.185Z"
   },
   {
    "duration": 5,
    "start_time": "2022-02-17T17:23:29.191Z"
   },
   {
    "duration": 25,
    "start_time": "2022-02-17T17:23:29.220Z"
   },
   {
    "duration": 5,
    "start_time": "2022-02-17T17:23:29.248Z"
   },
   {
    "duration": 31,
    "start_time": "2022-02-17T17:23:29.255Z"
   },
   {
    "duration": 38,
    "start_time": "2022-02-17T17:23:29.288Z"
   },
   {
    "duration": 10,
    "start_time": "2022-02-17T17:23:29.328Z"
   },
   {
    "duration": 8,
    "start_time": "2022-02-17T17:23:29.340Z"
   },
   {
    "duration": 7,
    "start_time": "2022-02-17T17:23:29.350Z"
   },
   {
    "duration": 10,
    "start_time": "2022-02-17T17:23:29.359Z"
   },
   {
    "duration": 52,
    "start_time": "2022-02-17T17:23:29.370Z"
   },
   {
    "duration": 4,
    "start_time": "2022-02-17T17:23:29.424Z"
   },
   {
    "duration": 16,
    "start_time": "2022-02-17T17:23:29.430Z"
   },
   {
    "duration": 5,
    "start_time": "2022-02-17T17:23:29.448Z"
   },
   {
    "duration": 6,
    "start_time": "2022-02-17T17:23:29.455Z"
   },
   {
    "duration": 58,
    "start_time": "2022-02-17T17:23:29.462Z"
   },
   {
    "duration": 30,
    "start_time": "2022-02-17T17:23:29.522Z"
   },
   {
    "duration": 20,
    "start_time": "2022-02-17T17:23:29.554Z"
   },
   {
    "duration": 151,
    "start_time": "2022-02-17T17:23:29.578Z"
   },
   {
    "duration": 461,
    "start_time": "2022-02-17T17:23:29.731Z"
   },
   {
    "duration": 2,
    "start_time": "2022-02-17T17:23:30.194Z"
   },
   {
    "duration": 18,
    "start_time": "2022-02-17T17:25:06.181Z"
   },
   {
    "duration": 1138,
    "start_time": "2022-02-17T17:25:11.671Z"
   },
   {
    "duration": 21,
    "start_time": "2022-02-17T17:25:12.811Z"
   },
   {
    "duration": 50,
    "start_time": "2022-02-17T17:25:12.835Z"
   },
   {
    "duration": 45,
    "start_time": "2022-02-17T17:25:12.887Z"
   },
   {
    "duration": 5,
    "start_time": "2022-02-17T17:25:12.934Z"
   },
   {
    "duration": 9,
    "start_time": "2022-02-17T17:25:12.941Z"
   },
   {
    "duration": 27,
    "start_time": "2022-02-17T17:25:12.952Z"
   },
   {
    "duration": 4,
    "start_time": "2022-02-17T17:25:12.981Z"
   },
   {
    "duration": 57,
    "start_time": "2022-02-17T17:25:12.988Z"
   },
   {
    "duration": 7,
    "start_time": "2022-02-17T17:25:13.047Z"
   },
   {
    "duration": 15,
    "start_time": "2022-02-17T17:25:13.055Z"
   },
   {
    "duration": 6,
    "start_time": "2022-02-17T17:25:13.072Z"
   },
   {
    "duration": 6,
    "start_time": "2022-02-17T17:25:13.080Z"
   },
   {
    "duration": 34,
    "start_time": "2022-02-17T17:25:13.088Z"
   },
   {
    "duration": 9,
    "start_time": "2022-02-17T17:25:13.123Z"
   },
   {
    "duration": 10,
    "start_time": "2022-02-17T17:25:13.134Z"
   },
   {
    "duration": 20,
    "start_time": "2022-02-17T17:25:13.146Z"
   },
   {
    "duration": 18,
    "start_time": "2022-02-17T17:25:13.168Z"
   },
   {
    "duration": 5,
    "start_time": "2022-02-17T17:25:13.188Z"
   },
   {
    "duration": 32,
    "start_time": "2022-02-17T17:25:13.219Z"
   },
   {
    "duration": 31,
    "start_time": "2022-02-17T17:25:13.253Z"
   },
   {
    "duration": 44,
    "start_time": "2022-02-17T17:25:13.286Z"
   },
   {
    "duration": 137,
    "start_time": "2022-02-17T17:25:13.333Z"
   },
   {
    "duration": 480,
    "start_time": "2022-02-17T17:25:13.472Z"
   },
   {
    "duration": 2,
    "start_time": "2022-02-17T17:25:13.954Z"
   },
   {
    "duration": 1103,
    "start_time": "2022-02-17T17:26:53.675Z"
   },
   {
    "duration": 17,
    "start_time": "2022-02-17T17:26:54.780Z"
   },
   {
    "duration": 60,
    "start_time": "2022-02-17T17:26:54.800Z"
   },
   {
    "duration": 33,
    "start_time": "2022-02-17T17:26:54.862Z"
   },
   {
    "duration": 22,
    "start_time": "2022-02-17T17:26:54.897Z"
   },
   {
    "duration": 5,
    "start_time": "2022-02-17T17:26:54.921Z"
   },
   {
    "duration": 29,
    "start_time": "2022-02-17T17:26:54.927Z"
   },
   {
    "duration": 5,
    "start_time": "2022-02-17T17:26:54.959Z"
   },
   {
    "duration": 58,
    "start_time": "2022-02-17T17:26:54.966Z"
   },
   {
    "duration": 7,
    "start_time": "2022-02-17T17:26:55.027Z"
   },
   {
    "duration": 9,
    "start_time": "2022-02-17T17:26:55.036Z"
   },
   {
    "duration": 9,
    "start_time": "2022-02-17T17:26:55.047Z"
   },
   {
    "duration": 8,
    "start_time": "2022-02-17T17:26:55.059Z"
   },
   {
    "duration": 11,
    "start_time": "2022-02-17T17:26:55.070Z"
   },
   {
    "duration": 42,
    "start_time": "2022-02-17T17:26:55.082Z"
   },
   {
    "duration": 5,
    "start_time": "2022-02-17T17:26:55.125Z"
   },
   {
    "duration": 19,
    "start_time": "2022-02-17T17:26:55.131Z"
   },
   {
    "duration": 5,
    "start_time": "2022-02-17T17:26:55.152Z"
   },
   {
    "duration": 5,
    "start_time": "2022-02-17T17:26:55.159Z"
   },
   {
    "duration": 62,
    "start_time": "2022-02-17T17:26:55.165Z"
   },
   {
    "duration": 29,
    "start_time": "2022-02-17T17:26:55.228Z"
   },
   {
    "duration": 19,
    "start_time": "2022-02-17T17:26:55.258Z"
   },
   {
    "duration": 149,
    "start_time": "2022-02-17T17:26:55.280Z"
   },
   {
    "duration": 445,
    "start_time": "2022-02-17T17:26:55.431Z"
   },
   {
    "duration": 2,
    "start_time": "2022-02-17T17:26:55.878Z"
   },
   {
    "duration": 1165,
    "start_time": "2022-02-17T17:27:14.497Z"
   },
   {
    "duration": 17,
    "start_time": "2022-02-17T17:27:15.663Z"
   },
   {
    "duration": 51,
    "start_time": "2022-02-17T17:27:15.682Z"
   },
   {
    "duration": 30,
    "start_time": "2022-02-17T17:27:15.735Z"
   },
   {
    "duration": 5,
    "start_time": "2022-02-17T17:27:15.767Z"
   },
   {
    "duration": 5,
    "start_time": "2022-02-17T17:27:15.773Z"
   },
   {
    "duration": 53,
    "start_time": "2022-02-17T17:27:15.780Z"
   },
   {
    "duration": 5,
    "start_time": "2022-02-17T17:27:15.836Z"
   },
   {
    "duration": 29,
    "start_time": "2022-02-17T17:27:15.843Z"
   },
   {
    "duration": 6,
    "start_time": "2022-02-17T17:27:15.874Z"
   },
   {
    "duration": 6,
    "start_time": "2022-02-17T17:27:15.882Z"
   },
   {
    "duration": 30,
    "start_time": "2022-02-17T17:27:15.890Z"
   },
   {
    "duration": 7,
    "start_time": "2022-02-17T17:27:15.921Z"
   },
   {
    "duration": 8,
    "start_time": "2022-02-17T17:27:15.930Z"
   },
   {
    "duration": 7,
    "start_time": "2022-02-17T17:27:15.940Z"
   },
   {
    "duration": 4,
    "start_time": "2022-02-17T17:27:15.949Z"
   },
   {
    "duration": 15,
    "start_time": "2022-02-17T17:27:15.955Z"
   },
   {
    "duration": 5,
    "start_time": "2022-02-17T17:27:15.971Z"
   },
   {
    "duration": 45,
    "start_time": "2022-02-17T17:27:15.978Z"
   },
   {
    "duration": 28,
    "start_time": "2022-02-17T17:27:16.025Z"
   },
   {
    "duration": 27,
    "start_time": "2022-02-17T17:27:16.055Z"
   },
   {
    "duration": 47,
    "start_time": "2022-02-17T17:27:16.083Z"
   },
   {
    "duration": 214,
    "start_time": "2022-02-17T17:27:16.133Z"
   },
   {
    "duration": 417,
    "start_time": "2022-02-17T17:27:16.349Z"
   },
   {
    "duration": 2,
    "start_time": "2022-02-17T17:27:16.767Z"
   },
   {
    "duration": 1149,
    "start_time": "2022-02-17T17:28:51.322Z"
   },
   {
    "duration": 17,
    "start_time": "2022-02-17T17:28:52.473Z"
   },
   {
    "duration": 53,
    "start_time": "2022-02-17T17:28:52.492Z"
   },
   {
    "duration": 32,
    "start_time": "2022-02-17T17:28:52.547Z"
   },
   {
    "duration": 5,
    "start_time": "2022-02-17T17:28:52.580Z"
   },
   {
    "duration": 6,
    "start_time": "2022-02-17T17:28:52.587Z"
   },
   {
    "duration": 46,
    "start_time": "2022-02-17T17:28:52.595Z"
   },
   {
    "duration": 5,
    "start_time": "2022-02-17T17:28:52.643Z"
   },
   {
    "duration": 27,
    "start_time": "2022-02-17T17:28:52.651Z"
   },
   {
    "duration": 6,
    "start_time": "2022-02-17T17:28:52.680Z"
   },
   {
    "duration": 36,
    "start_time": "2022-02-17T17:28:52.688Z"
   },
   {
    "duration": 7,
    "start_time": "2022-02-17T17:28:52.726Z"
   },
   {
    "duration": 5,
    "start_time": "2022-02-17T17:28:52.735Z"
   },
   {
    "duration": 9,
    "start_time": "2022-02-17T17:28:52.742Z"
   },
   {
    "duration": 7,
    "start_time": "2022-02-17T17:28:52.752Z"
   },
   {
    "duration": 4,
    "start_time": "2022-02-17T17:28:52.761Z"
   },
   {
    "duration": 54,
    "start_time": "2022-02-17T17:28:52.767Z"
   },
   {
    "duration": 5,
    "start_time": "2022-02-17T17:28:52.823Z"
   },
   {
    "duration": 6,
    "start_time": "2022-02-17T17:28:52.829Z"
   },
   {
    "duration": 30,
    "start_time": "2022-02-17T17:28:52.836Z"
   },
   {
    "duration": 55,
    "start_time": "2022-02-17T17:28:52.867Z"
   },
   {
    "duration": 19,
    "start_time": "2022-02-17T17:28:52.924Z"
   },
   {
    "duration": 136,
    "start_time": "2022-02-17T17:28:52.946Z"
   },
   {
    "duration": 482,
    "start_time": "2022-02-17T17:28:53.083Z"
   },
   {
    "duration": 2,
    "start_time": "2022-02-17T17:28:53.567Z"
   },
   {
    "duration": 16,
    "start_time": "2022-02-17T17:29:58.394Z"
   },
   {
    "duration": 1110,
    "start_time": "2022-02-17T17:30:04.337Z"
   },
   {
    "duration": 17,
    "start_time": "2022-02-17T17:30:05.449Z"
   },
   {
    "duration": 51,
    "start_time": "2022-02-17T17:30:05.469Z"
   },
   {
    "duration": 30,
    "start_time": "2022-02-17T17:30:05.522Z"
   },
   {
    "duration": 5,
    "start_time": "2022-02-17T17:30:05.554Z"
   },
   {
    "duration": 6,
    "start_time": "2022-02-17T17:30:05.560Z"
   },
   {
    "duration": 23,
    "start_time": "2022-02-17T17:30:05.567Z"
   },
   {
    "duration": 5,
    "start_time": "2022-02-17T17:30:05.619Z"
   },
   {
    "duration": 27,
    "start_time": "2022-02-17T17:30:05.627Z"
   },
   {
    "duration": 6,
    "start_time": "2022-02-17T17:30:05.656Z"
   },
   {
    "duration": 7,
    "start_time": "2022-02-17T17:30:05.664Z"
   },
   {
    "duration": 6,
    "start_time": "2022-02-17T17:30:05.673Z"
   },
   {
    "duration": 40,
    "start_time": "2022-02-17T17:30:05.681Z"
   },
   {
    "duration": 9,
    "start_time": "2022-02-17T17:30:05.723Z"
   },
   {
    "duration": 8,
    "start_time": "2022-02-17T17:30:05.733Z"
   },
   {
    "duration": 4,
    "start_time": "2022-02-17T17:30:05.743Z"
   },
   {
    "duration": 13,
    "start_time": "2022-02-17T17:30:05.749Z"
   },
   {
    "duration": 4,
    "start_time": "2022-02-17T17:30:05.764Z"
   },
   {
    "duration": 5,
    "start_time": "2022-02-17T17:30:05.770Z"
   },
   {
    "duration": 71,
    "start_time": "2022-02-17T17:30:05.776Z"
   },
   {
    "duration": 31,
    "start_time": "2022-02-17T17:30:05.849Z"
   },
   {
    "duration": 40,
    "start_time": "2022-02-17T17:30:05.881Z"
   },
   {
    "duration": 221,
    "start_time": "2022-02-17T17:30:05.923Z"
   },
   {
    "duration": 444,
    "start_time": "2022-02-17T17:30:06.146Z"
   },
   {
    "duration": 2,
    "start_time": "2022-02-17T17:30:06.592Z"
   },
   {
    "duration": 1607,
    "start_time": "2022-02-19T08:18:20.719Z"
   },
   {
    "duration": 24,
    "start_time": "2022-02-19T08:18:22.329Z"
   },
   {
    "duration": 84,
    "start_time": "2022-02-19T08:18:22.355Z"
   },
   {
    "duration": 43,
    "start_time": "2022-02-19T08:18:22.442Z"
   },
   {
    "duration": 25,
    "start_time": "2022-02-19T08:18:22.488Z"
   },
   {
    "duration": 12,
    "start_time": "2022-02-19T08:18:22.515Z"
   },
   {
    "duration": 35,
    "start_time": "2022-02-19T08:18:22.529Z"
   },
   {
    "duration": 6,
    "start_time": "2022-02-19T08:18:22.568Z"
   },
   {
    "duration": 41,
    "start_time": "2022-02-19T08:18:22.613Z"
   },
   {
    "duration": 8,
    "start_time": "2022-02-19T08:18:22.656Z"
   },
   {
    "duration": 10,
    "start_time": "2022-02-19T08:18:22.666Z"
   },
   {
    "duration": 11,
    "start_time": "2022-02-19T08:18:22.711Z"
   },
   {
    "duration": 10,
    "start_time": "2022-02-19T08:18:22.725Z"
   },
   {
    "duration": 11,
    "start_time": "2022-02-19T08:18:22.738Z"
   },
   {
    "duration": 10,
    "start_time": "2022-02-19T08:18:22.751Z"
   },
   {
    "duration": 51,
    "start_time": "2022-02-19T08:18:22.763Z"
   },
   {
    "duration": 18,
    "start_time": "2022-02-19T08:18:22.816Z"
   },
   {
    "duration": 6,
    "start_time": "2022-02-19T08:18:22.837Z"
   },
   {
    "duration": 6,
    "start_time": "2022-02-19T08:18:22.846Z"
   },
   {
    "duration": 84,
    "start_time": "2022-02-19T08:18:22.854Z"
   },
   {
    "duration": 42,
    "start_time": "2022-02-19T08:18:22.941Z"
   },
   {
    "duration": 49,
    "start_time": "2022-02-19T08:18:22.985Z"
   },
   {
    "duration": 332,
    "start_time": "2022-02-19T08:18:23.039Z"
   },
   {
    "duration": 614,
    "start_time": "2022-02-19T08:18:23.374Z"
   },
   {
    "duration": 4,
    "start_time": "2022-02-19T08:18:23.991Z"
   },
   {
    "duration": 1461,
    "start_time": "2022-02-19T08:36:21.755Z"
   },
   {
    "duration": 26,
    "start_time": "2022-02-19T08:36:23.218Z"
   },
   {
    "duration": 77,
    "start_time": "2022-02-19T08:36:23.247Z"
   },
   {
    "duration": 46,
    "start_time": "2022-02-19T08:36:23.326Z"
   },
   {
    "duration": 6,
    "start_time": "2022-02-19T08:36:23.375Z"
   },
   {
    "duration": 7,
    "start_time": "2022-02-19T08:36:23.411Z"
   },
   {
    "duration": 36,
    "start_time": "2022-02-19T08:36:23.421Z"
   },
   {
    "duration": 6,
    "start_time": "2022-02-19T08:36:23.460Z"
   },
   {
    "duration": 73,
    "start_time": "2022-02-19T08:36:23.470Z"
   },
   {
    "duration": 9,
    "start_time": "2022-02-19T08:36:23.545Z"
   },
   {
    "duration": 8,
    "start_time": "2022-02-19T08:36:23.556Z"
   },
   {
    "duration": 44,
    "start_time": "2022-02-19T08:36:23.566Z"
   },
   {
    "duration": 9,
    "start_time": "2022-02-19T08:36:23.613Z"
   },
   {
    "duration": 12,
    "start_time": "2022-02-19T08:36:23.624Z"
   },
   {
    "duration": 11,
    "start_time": "2022-02-19T08:36:23.638Z"
   },
   {
    "duration": 6,
    "start_time": "2022-02-19T08:36:23.651Z"
   },
   {
    "duration": 62,
    "start_time": "2022-02-19T08:36:23.660Z"
   },
   {
    "duration": 6,
    "start_time": "2022-02-19T08:36:23.725Z"
   },
   {
    "duration": 6,
    "start_time": "2022-02-19T08:36:23.733Z"
   },
   {
    "duration": 70,
    "start_time": "2022-02-19T08:36:23.742Z"
   },
   {
    "duration": 41,
    "start_time": "2022-02-19T08:36:23.815Z"
   },
   {
    "duration": 27,
    "start_time": "2022-02-19T08:36:23.858Z"
   },
   {
    "duration": 321,
    "start_time": "2022-02-19T08:36:23.912Z"
   },
   {
    "duration": 653,
    "start_time": "2022-02-19T08:36:24.235Z"
   },
   {
    "duration": 3,
    "start_time": "2022-02-19T08:36:24.890Z"
   },
   {
    "duration": 540,
    "start_time": "2022-02-19T11:42:51.737Z"
   },
   {
    "duration": 472,
    "start_time": "2022-02-19T11:43:02.500Z"
   },
   {
    "duration": 15,
    "start_time": "2022-02-19T11:43:10.538Z"
   },
   {
    "duration": 46,
    "start_time": "2022-02-19T11:43:30.971Z"
   },
   {
    "duration": 309,
    "start_time": "2022-02-19T11:54:03.310Z"
   },
   {
    "duration": 341,
    "start_time": "2022-02-19T11:54:14.933Z"
   },
   {
    "duration": 290,
    "start_time": "2022-02-19T11:55:08.883Z"
   },
   {
    "duration": 286,
    "start_time": "2022-02-19T11:55:59.767Z"
   },
   {
    "duration": 349,
    "start_time": "2022-02-19T11:56:59.678Z"
   },
   {
    "duration": 283,
    "start_time": "2022-02-19T11:57:33.441Z"
   },
   {
    "duration": 295,
    "start_time": "2022-02-19T11:57:48.195Z"
   },
   {
    "duration": 288,
    "start_time": "2022-02-19T11:58:26.565Z"
   },
   {
    "duration": 12,
    "start_time": "2022-02-19T11:58:51.440Z"
   },
   {
    "duration": 138,
    "start_time": "2022-02-19T12:01:11.535Z"
   },
   {
    "duration": 1024,
    "start_time": "2022-02-19T12:01:20.928Z"
   },
   {
    "duration": 285,
    "start_time": "2022-02-19T12:01:43.619Z"
   },
   {
    "duration": 8,
    "start_time": "2022-02-19T12:07:06.154Z"
   },
   {
    "duration": 8,
    "start_time": "2022-02-19T12:07:13.654Z"
   },
   {
    "duration": 8,
    "start_time": "2022-02-19T12:07:20.564Z"
   },
   {
    "duration": 10,
    "start_time": "2022-02-19T12:25:23.137Z"
   },
   {
    "duration": 8,
    "start_time": "2022-02-19T12:25:28.017Z"
   },
   {
    "duration": 8,
    "start_time": "2022-02-19T12:25:34.146Z"
   },
   {
    "duration": 8,
    "start_time": "2022-02-19T12:25:37.554Z"
   },
   {
    "duration": 8,
    "start_time": "2022-02-19T12:25:41.002Z"
   },
   {
    "duration": 7,
    "start_time": "2022-02-19T12:25:44.883Z"
   },
   {
    "duration": 8,
    "start_time": "2022-02-19T12:25:51.036Z"
   },
   {
    "duration": 8,
    "start_time": "2022-02-19T12:26:01.413Z"
   },
   {
    "duration": 7,
    "start_time": "2022-02-19T12:26:16.087Z"
   },
   {
    "duration": 8,
    "start_time": "2022-02-19T12:26:22.318Z"
   },
   {
    "duration": 134,
    "start_time": "2022-02-19T12:26:56.570Z"
   },
   {
    "duration": 405,
    "start_time": "2022-02-19T12:27:04.483Z"
   },
   {
    "duration": 392,
    "start_time": "2022-02-19T12:27:19.100Z"
   },
   {
    "duration": 7,
    "start_time": "2022-02-19T12:27:25.534Z"
   },
   {
    "duration": 9,
    "start_time": "2022-02-19T12:27:28.541Z"
   },
   {
    "duration": 8,
    "start_time": "2022-02-19T12:27:59.169Z"
   },
   {
    "duration": 8,
    "start_time": "2022-02-19T12:28:21.858Z"
   },
   {
    "duration": 9,
    "start_time": "2022-02-19T12:28:27.907Z"
   },
   {
    "duration": 7,
    "start_time": "2022-02-19T12:28:41.853Z"
   },
   {
    "duration": 8,
    "start_time": "2022-02-19T12:28:49.822Z"
   },
   {
    "duration": 10,
    "start_time": "2022-02-19T12:28:56.222Z"
   },
   {
    "duration": 8,
    "start_time": "2022-02-19T12:29:01.927Z"
   },
   {
    "duration": 9,
    "start_time": "2022-02-19T12:29:31.778Z"
   },
   {
    "duration": 61,
    "start_time": "2022-02-19T12:44:45.934Z"
   },
   {
    "duration": 37,
    "start_time": "2022-02-19T12:44:58.823Z"
   },
   {
    "duration": 791,
    "start_time": "2022-02-19T12:45:46.977Z"
   },
   {
    "duration": 817,
    "start_time": "2022-02-19T12:46:36.169Z"
   },
   {
    "duration": 60,
    "start_time": "2022-02-19T12:47:44.766Z"
   },
   {
    "duration": 766,
    "start_time": "2022-02-19T12:47:45.822Z"
   },
   {
    "duration": 96,
    "start_time": "2022-02-19T12:48:08.475Z"
   },
   {
    "duration": 891,
    "start_time": "2022-02-19T12:48:09.178Z"
   },
   {
    "duration": 29,
    "start_time": "2022-02-19T12:51:44.665Z"
   },
   {
    "duration": 54,
    "start_time": "2022-02-19T12:52:21.908Z"
   },
   {
    "duration": 788,
    "start_time": "2022-02-19T12:52:22.829Z"
   },
   {
    "duration": 136,
    "start_time": "2022-02-19T12:52:34.574Z"
   },
   {
    "duration": 816,
    "start_time": "2022-02-19T12:52:35.341Z"
   },
   {
    "duration": 196,
    "start_time": "2022-02-19T12:52:58.816Z"
   },
   {
    "duration": 806,
    "start_time": "2022-02-19T12:52:59.338Z"
   },
   {
    "duration": 55,
    "start_time": "2022-02-19T12:53:07.433Z"
   },
   {
    "duration": 800,
    "start_time": "2022-02-19T12:53:11.897Z"
   },
   {
    "duration": 34,
    "start_time": "2022-02-19T12:53:20.243Z"
   },
   {
    "duration": 779,
    "start_time": "2022-02-19T12:53:21.306Z"
   },
   {
    "duration": 54,
    "start_time": "2022-02-19T12:53:27.227Z"
   },
   {
    "duration": 1008,
    "start_time": "2022-02-19T12:53:27.771Z"
   },
   {
    "duration": 45,
    "start_time": "2022-02-19T12:55:26.437Z"
   },
   {
    "duration": 30,
    "start_time": "2022-02-19T13:07:00.430Z"
   },
   {
    "duration": 65,
    "start_time": "2022-02-19T13:07:09.769Z"
   },
   {
    "duration": 10,
    "start_time": "2022-02-19T13:17:19.266Z"
   },
   {
    "duration": 28,
    "start_time": "2022-02-19T13:19:09.902Z"
   },
   {
    "duration": 26,
    "start_time": "2022-02-19T13:20:39.232Z"
   },
   {
    "duration": 2095,
    "start_time": "2022-02-19T13:20:48.991Z"
   },
   {
    "duration": 28,
    "start_time": "2022-02-19T13:21:22.459Z"
   },
   {
    "duration": 44,
    "start_time": "2022-02-19T13:21:28.580Z"
   },
   {
    "duration": 830,
    "start_time": "2022-02-19T13:21:32.876Z"
   },
   {
    "duration": 43,
    "start_time": "2022-02-19T13:21:46.214Z"
   },
   {
    "duration": 257,
    "start_time": "2022-02-19T13:25:02.786Z"
   },
   {
    "duration": 151,
    "start_time": "2022-02-19T13:25:08.682Z"
   },
   {
    "duration": 27,
    "start_time": "2022-02-19T13:25:17.795Z"
   },
   {
    "duration": 56,
    "start_time": "2022-02-19T13:25:33.580Z"
   },
   {
    "duration": 29,
    "start_time": "2022-02-19T13:26:07.487Z"
   },
   {
    "duration": 56,
    "start_time": "2022-02-19T13:26:21.817Z"
   },
   {
    "duration": 2678,
    "start_time": "2022-02-19T13:27:47.881Z"
   },
   {
    "duration": 11,
    "start_time": "2022-02-19T13:28:20.150Z"
   },
   {
    "duration": 4164,
    "start_time": "2022-02-19T13:29:02.073Z"
   },
   {
    "duration": 7,
    "start_time": "2022-02-19T13:29:10.618Z"
   },
   {
    "duration": 8,
    "start_time": "2022-02-19T13:29:20.987Z"
   },
   {
    "duration": 7,
    "start_time": "2022-02-19T13:29:54.651Z"
   },
   {
    "duration": 32,
    "start_time": "2022-02-19T13:31:34.138Z"
   },
   {
    "duration": 2941,
    "start_time": "2022-02-19T13:32:04.643Z"
   },
   {
    "duration": 30,
    "start_time": "2022-02-19T13:32:59.489Z"
   },
   {
    "duration": 60,
    "start_time": "2022-02-19T13:33:08.795Z"
   },
   {
    "duration": 31,
    "start_time": "2022-02-19T13:34:25.235Z"
   },
   {
    "duration": 62,
    "start_time": "2022-02-19T13:34:32.426Z"
   },
   {
    "duration": 43,
    "start_time": "2022-02-19T13:34:54.661Z"
   },
   {
    "duration": 814,
    "start_time": "2022-02-19T13:35:29.136Z"
   },
   {
    "duration": 75,
    "start_time": "2022-02-19T13:36:12.094Z"
   },
   {
    "duration": 1059,
    "start_time": "2022-02-19T13:36:49.881Z"
   },
   {
    "duration": 64,
    "start_time": "2022-02-19T13:37:05.362Z"
   },
   {
    "duration": 780,
    "start_time": "2022-02-19T13:37:07.394Z"
   },
   {
    "duration": 51,
    "start_time": "2022-02-19T13:37:17.755Z"
   },
   {
    "duration": 749,
    "start_time": "2022-02-19T13:37:20.611Z"
   },
   {
    "duration": 53,
    "start_time": "2022-02-19T13:37:28.997Z"
   },
   {
    "duration": 806,
    "start_time": "2022-02-19T13:37:39.926Z"
   },
   {
    "duration": 31,
    "start_time": "2022-02-19T13:39:00.128Z"
   },
   {
    "duration": 44,
    "start_time": "2022-02-19T13:39:17.472Z"
   },
   {
    "duration": 7,
    "start_time": "2022-02-19T13:39:42.154Z"
   },
   {
    "duration": 32,
    "start_time": "2022-02-19T13:40:15.022Z"
   },
   {
    "duration": 46,
    "start_time": "2022-02-19T13:40:31.735Z"
   },
   {
    "duration": 7,
    "start_time": "2022-02-19T13:40:37.591Z"
   },
   {
    "duration": 921,
    "start_time": "2022-02-19T13:41:09.659Z"
   },
   {
    "duration": 59,
    "start_time": "2022-02-19T13:41:21.220Z"
   },
   {
    "duration": 7,
    "start_time": "2022-02-19T13:41:23.668Z"
   },
   {
    "duration": 764,
    "start_time": "2022-02-19T13:41:25.620Z"
   },
   {
    "duration": 374,
    "start_time": "2022-02-19T13:42:16.610Z"
   },
   {
    "duration": 325,
    "start_time": "2022-02-19T13:42:31.227Z"
   },
   {
    "duration": 8,
    "start_time": "2022-02-19T13:43:59.796Z"
   },
   {
    "duration": 40,
    "start_time": "2022-02-19T13:44:13.879Z"
   },
   {
    "duration": 126,
    "start_time": "2022-02-19T13:44:56.202Z"
   },
   {
    "duration": 838,
    "start_time": "2022-02-19T13:45:25.861Z"
   },
   {
    "duration": 9,
    "start_time": "2022-02-19T13:47:52.404Z"
   },
   {
    "duration": 9,
    "start_time": "2022-02-19T13:48:03.061Z"
   },
   {
    "duration": 50,
    "start_time": "2022-02-19T13:48:07.494Z"
   },
   {
    "duration": 877,
    "start_time": "2022-02-19T14:01:29.963Z"
   },
   {
    "duration": 886,
    "start_time": "2022-02-19T14:02:41.413Z"
   },
   {
    "duration": 1444,
    "start_time": "2022-02-20T10:34:53.410Z"
   },
   {
    "duration": 32,
    "start_time": "2022-02-20T10:34:54.858Z"
   },
   {
    "duration": 71,
    "start_time": "2022-02-20T10:34:54.894Z"
   },
   {
    "duration": 45,
    "start_time": "2022-02-20T10:34:54.968Z"
   },
   {
    "duration": 7,
    "start_time": "2022-02-20T10:34:55.016Z"
   },
   {
    "duration": 7,
    "start_time": "2022-02-20T10:34:55.061Z"
   },
   {
    "duration": 33,
    "start_time": "2022-02-20T10:34:55.071Z"
   },
   {
    "duration": 6,
    "start_time": "2022-02-20T10:34:55.106Z"
   },
   {
    "duration": 79,
    "start_time": "2022-02-20T10:34:55.116Z"
   },
   {
    "duration": 10,
    "start_time": "2022-02-20T10:34:55.199Z"
   },
   {
    "duration": 11,
    "start_time": "2022-02-20T10:34:55.212Z"
   },
   {
    "duration": 39,
    "start_time": "2022-02-20T10:34:55.226Z"
   },
   {
    "duration": 11,
    "start_time": "2022-02-20T10:34:55.267Z"
   },
   {
    "duration": 16,
    "start_time": "2022-02-20T10:34:55.281Z"
   },
   {
    "duration": 16,
    "start_time": "2022-02-20T10:34:55.300Z"
   },
   {
    "duration": 6,
    "start_time": "2022-02-20T10:34:55.361Z"
   },
   {
    "duration": 20,
    "start_time": "2022-02-20T10:34:55.370Z"
   },
   {
    "duration": 6,
    "start_time": "2022-02-20T10:34:55.393Z"
   },
   {
    "duration": 9,
    "start_time": "2022-02-20T10:34:55.401Z"
   },
   {
    "duration": 83,
    "start_time": "2022-02-20T10:34:55.412Z"
   },
   {
    "duration": 64,
    "start_time": "2022-02-20T10:34:55.497Z"
   },
   {
    "duration": 30,
    "start_time": "2022-02-20T10:34:55.564Z"
   },
   {
    "duration": 334,
    "start_time": "2022-02-20T10:34:55.597Z"
   },
   {
    "duration": 134,
    "start_time": "2022-02-20T10:34:55.934Z"
   },
   {
    "duration": 6,
    "start_time": "2022-02-20T10:34:56.070Z"
   },
   {
    "duration": 957,
    "start_time": "2022-02-20T10:34:56.078Z"
   },
   {
    "duration": 285,
    "start_time": "2022-02-20T10:34:57.040Z"
   },
   {
    "duration": 7,
    "start_time": "2022-02-20T10:34:57.328Z"
   },
   {
    "duration": 28,
    "start_time": "2022-02-20T10:34:57.338Z"
   },
   {
    "duration": 11,
    "start_time": "2022-02-20T10:34:57.369Z"
   },
   {
    "duration": 78,
    "start_time": "2022-02-20T10:34:57.383Z"
   },
   {
    "duration": 3,
    "start_time": "2022-02-20T10:34:57.465Z"
   },
   {
    "duration": 40,
    "start_time": "2022-02-20T10:35:05.348Z"
   },
   {
    "duration": 42,
    "start_time": "2022-02-20T10:39:28.822Z"
   },
   {
    "duration": 339,
    "start_time": "2022-02-20T12:30:54.759Z"
   },
   {
    "duration": 461,
    "start_time": "2022-02-20T12:32:39.056Z"
   },
   {
    "duration": 446,
    "start_time": "2022-02-20T12:32:45.824Z"
   },
   {
    "duration": 549,
    "start_time": "2022-02-20T12:32:53.858Z"
   },
   {
    "duration": 910,
    "start_time": "2022-02-20T12:33:14.780Z"
   },
   {
    "duration": 647,
    "start_time": "2022-02-20T12:33:32.229Z"
   },
   {
    "duration": 808,
    "start_time": "2022-02-20T14:50:39.383Z"
   },
   {
    "duration": 827,
    "start_time": "2022-02-20T14:50:51.104Z"
   },
   {
    "duration": 1506,
    "start_time": "2022-02-20T14:51:12.041Z"
   },
   {
    "duration": 1026,
    "start_time": "2022-02-20T14:51:33.427Z"
   },
   {
    "duration": 1295,
    "start_time": "2022-02-20T14:51:43.125Z"
   },
   {
    "duration": 850,
    "start_time": "2022-02-20T14:52:43.082Z"
   },
   {
    "duration": 851,
    "start_time": "2022-02-20T14:52:51.067Z"
   },
   {
    "duration": 860,
    "start_time": "2022-02-20T14:53:24.575Z"
   },
   {
    "duration": 35,
    "start_time": "2022-02-20T14:55:02.631Z"
   },
   {
    "duration": 83,
    "start_time": "2022-02-20T14:55:12.374Z"
   },
   {
    "duration": 59,
    "start_time": "2022-02-20T14:55:32.021Z"
   },
   {
    "duration": 42,
    "start_time": "2022-02-20T14:55:36.757Z"
   },
   {
    "duration": 43,
    "start_time": "2022-02-20T14:55:48.578Z"
   },
   {
    "duration": 49,
    "start_time": "2022-02-20T14:55:53.024Z"
   },
   {
    "duration": 853,
    "start_time": "2022-02-20T14:55:58.045Z"
   },
   {
    "duration": 6,
    "start_time": "2022-02-20T14:56:26.040Z"
   },
   {
    "duration": 880,
    "start_time": "2022-02-20T14:56:34.585Z"
   },
   {
    "duration": 7,
    "start_time": "2022-02-20T15:07:21.290Z"
   },
   {
    "duration": 759,
    "start_time": "2022-02-20T15:07:28.073Z"
   },
   {
    "duration": 1542,
    "start_time": "2022-02-20T15:12:39.952Z"
   },
   {
    "duration": 31,
    "start_time": "2022-02-20T15:12:41.497Z"
   },
   {
    "duration": 79,
    "start_time": "2022-02-20T15:12:41.532Z"
   },
   {
    "duration": 69,
    "start_time": "2022-02-20T15:12:41.615Z"
   },
   {
    "duration": 8,
    "start_time": "2022-02-20T15:12:41.687Z"
   },
   {
    "duration": 7,
    "start_time": "2022-02-20T15:12:41.698Z"
   },
   {
    "duration": 80,
    "start_time": "2022-02-20T15:12:41.708Z"
   },
   {
    "duration": 7,
    "start_time": "2022-02-20T15:12:41.793Z"
   },
   {
    "duration": 61,
    "start_time": "2022-02-20T15:12:41.804Z"
   },
   {
    "duration": 14,
    "start_time": "2022-02-20T15:12:41.869Z"
   },
   {
    "duration": 13,
    "start_time": "2022-02-20T15:12:41.888Z"
   },
   {
    "duration": 9,
    "start_time": "2022-02-20T15:12:41.903Z"
   },
   {
    "duration": 58,
    "start_time": "2022-02-20T15:12:41.915Z"
   },
   {
    "duration": 16,
    "start_time": "2022-02-20T15:12:41.976Z"
   },
   {
    "duration": 11,
    "start_time": "2022-02-20T15:12:41.994Z"
   },
   {
    "duration": 9,
    "start_time": "2022-02-20T15:12:42.007Z"
   },
   {
    "duration": 59,
    "start_time": "2022-02-20T15:12:42.019Z"
   },
   {
    "duration": 8,
    "start_time": "2022-02-20T15:12:42.081Z"
   },
   {
    "duration": 10,
    "start_time": "2022-02-20T15:12:42.091Z"
   },
   {
    "duration": 76,
    "start_time": "2022-02-20T15:12:42.104Z"
   },
   {
    "duration": 43,
    "start_time": "2022-02-20T15:12:42.182Z"
   },
   {
    "duration": 55,
    "start_time": "2022-02-20T15:12:42.228Z"
   },
   {
    "duration": 381,
    "start_time": "2022-02-20T15:12:42.289Z"
   },
   {
    "duration": 141,
    "start_time": "2022-02-20T15:12:42.674Z"
   },
   {
    "duration": 7,
    "start_time": "2022-02-20T15:12:42.817Z"
   },
   {
    "duration": 920,
    "start_time": "2022-02-20T15:12:42.827Z"
   },
   {
    "duration": 304,
    "start_time": "2022-02-20T15:12:43.749Z"
   },
   {
    "duration": 15,
    "start_time": "2022-02-20T15:12:44.062Z"
   },
   {
    "duration": 9,
    "start_time": "2022-02-20T15:12:44.080Z"
   },
   {
    "duration": 11,
    "start_time": "2022-02-20T15:12:44.092Z"
   },
   {
    "duration": 85,
    "start_time": "2022-02-20T15:12:44.106Z"
   },
   {
    "duration": 3,
    "start_time": "2022-02-20T15:12:44.194Z"
   },
   {
    "duration": 66,
    "start_time": "2022-02-20T15:12:44.200Z"
   },
   {
    "duration": 811,
    "start_time": "2022-02-20T15:12:44.270Z"
   },
   {
    "duration": 11,
    "start_time": "2022-02-20T15:12:45.083Z"
   },
   {
    "duration": 71,
    "start_time": "2022-02-20T15:14:58.422Z"
   },
   {
    "duration": 1468,
    "start_time": "2022-02-20T15:15:21.802Z"
   },
   {
    "duration": 30,
    "start_time": "2022-02-20T15:15:23.274Z"
   },
   {
    "duration": 90,
    "start_time": "2022-02-20T15:15:23.307Z"
   },
   {
    "duration": 41,
    "start_time": "2022-02-20T15:15:23.400Z"
   },
   {
    "duration": 9,
    "start_time": "2022-02-20T15:15:23.463Z"
   },
   {
    "duration": 12,
    "start_time": "2022-02-20T15:15:23.476Z"
   },
   {
    "duration": 36,
    "start_time": "2022-02-20T15:15:23.491Z"
   },
   {
    "duration": 37,
    "start_time": "2022-02-20T15:15:23.529Z"
   },
   {
    "duration": 48,
    "start_time": "2022-02-20T15:15:23.573Z"
   },
   {
    "duration": 42,
    "start_time": "2022-02-20T15:15:23.625Z"
   },
   {
    "duration": 11,
    "start_time": "2022-02-20T15:15:23.671Z"
   },
   {
    "duration": 11,
    "start_time": "2022-02-20T15:15:23.685Z"
   },
   {
    "duration": 9,
    "start_time": "2022-02-20T15:15:23.699Z"
   },
   {
    "duration": 53,
    "start_time": "2022-02-20T15:15:23.710Z"
   },
   {
    "duration": 17,
    "start_time": "2022-02-20T15:15:23.766Z"
   },
   {
    "duration": 5,
    "start_time": "2022-02-20T15:15:23.786Z"
   },
   {
    "duration": 20,
    "start_time": "2022-02-20T15:15:23.794Z"
   },
   {
    "duration": 48,
    "start_time": "2022-02-20T15:15:23.817Z"
   },
   {
    "duration": 18,
    "start_time": "2022-02-20T15:15:23.868Z"
   },
   {
    "duration": 41,
    "start_time": "2022-02-20T15:15:23.889Z"
   },
   {
    "duration": 70,
    "start_time": "2022-02-20T15:15:23.932Z"
   },
   {
    "duration": 28,
    "start_time": "2022-02-20T15:15:24.004Z"
   },
   {
    "duration": 371,
    "start_time": "2022-02-20T15:15:24.034Z"
   },
   {
    "duration": 135,
    "start_time": "2022-02-20T15:15:24.408Z"
   },
   {
    "duration": 6,
    "start_time": "2022-02-20T15:15:24.546Z"
   },
   {
    "duration": 894,
    "start_time": "2022-02-20T15:15:24.562Z"
   },
   {
    "duration": 304,
    "start_time": "2022-02-20T15:15:25.465Z"
   },
   {
    "duration": 10,
    "start_time": "2022-02-20T15:15:25.773Z"
   },
   {
    "duration": 9,
    "start_time": "2022-02-20T15:15:25.785Z"
   },
   {
    "duration": 12,
    "start_time": "2022-02-20T15:15:25.796Z"
   },
   {
    "duration": 93,
    "start_time": "2022-02-20T15:15:25.810Z"
   },
   {
    "duration": 3,
    "start_time": "2022-02-20T15:15:25.906Z"
   },
   {
    "duration": 70,
    "start_time": "2022-02-20T15:15:25.911Z"
   },
   {
    "duration": 761,
    "start_time": "2022-02-20T15:15:25.984Z"
   },
   {
    "duration": 3,
    "start_time": "2022-02-20T15:15:26.747Z"
   },
   {
    "duration": 10,
    "start_time": "2022-02-20T15:15:26.763Z"
   },
   {
    "duration": 591546,
    "start_time": "2022-02-20T15:15:34.336Z"
   },
   {
    "duration": 7,
    "start_time": "2022-02-20T15:31:40.850Z"
   },
   {
    "duration": 92,
    "start_time": "2022-02-20T15:32:08.420Z"
   },
   {
    "duration": 44,
    "start_time": "2022-02-20T15:33:21.698Z"
   },
   {
    "duration": 20,
    "start_time": "2022-02-20T15:33:26.068Z"
   },
   {
    "duration": 10698,
    "start_time": "2022-02-20T15:33:54.590Z"
   },
   {
    "duration": 11,
    "start_time": "2022-02-20T15:34:31.841Z"
   },
   {
    "duration": 8,
    "start_time": "2022-02-20T15:47:09.730Z"
   },
   {
    "duration": 22,
    "start_time": "2022-02-20T15:47:27.067Z"
   },
   {
    "duration": 9,
    "start_time": "2022-02-20T15:48:38.312Z"
   },
   {
    "duration": 12,
    "start_time": "2022-02-20T20:01:17.809Z"
   },
   {
    "duration": 13,
    "start_time": "2022-02-20T20:01:48.682Z"
   },
   {
    "duration": 12,
    "start_time": "2022-02-20T20:02:03.116Z"
   },
   {
    "duration": 285,
    "start_time": "2022-02-20T20:04:23.626Z"
   },
   {
    "duration": 19,
    "start_time": "2022-02-20T20:04:34.556Z"
   },
   {
    "duration": 17,
    "start_time": "2022-02-20T20:05:13.944Z"
   },
   {
    "duration": 300,
    "start_time": "2022-02-20T20:08:10.681Z"
   },
   {
    "duration": 268,
    "start_time": "2022-02-20T20:08:19.482Z"
   },
   {
    "duration": 326,
    "start_time": "2022-02-20T20:09:13.992Z"
   },
   {
    "duration": 18,
    "start_time": "2022-02-20T20:09:33.074Z"
   },
   {
    "duration": 22,
    "start_time": "2022-02-20T20:10:29.983Z"
   },
   {
    "duration": 95,
    "start_time": "2022-02-20T20:13:12.424Z"
   },
   {
    "duration": 390,
    "start_time": "2022-02-20T20:13:23.505Z"
   },
   {
    "duration": 21,
    "start_time": "2022-02-20T20:13:45.683Z"
   },
   {
    "duration": 334,
    "start_time": "2022-02-21T07:08:51.364Z"
   },
   {
    "duration": 1613,
    "start_time": "2022-02-21T07:09:00.850Z"
   },
   {
    "duration": 30,
    "start_time": "2022-02-21T07:09:02.466Z"
   },
   {
    "duration": 104,
    "start_time": "2022-02-21T07:09:02.499Z"
   },
   {
    "duration": 46,
    "start_time": "2022-02-21T07:09:02.606Z"
   },
   {
    "duration": 6,
    "start_time": "2022-02-21T07:09:02.655Z"
   },
   {
    "duration": 20,
    "start_time": "2022-02-21T07:09:02.663Z"
   },
   {
    "duration": 54,
    "start_time": "2022-02-21T07:09:02.686Z"
   },
   {
    "duration": 7,
    "start_time": "2022-02-21T07:09:02.743Z"
   },
   {
    "duration": 46,
    "start_time": "2022-02-21T07:09:02.754Z"
   },
   {
    "duration": 30,
    "start_time": "2022-02-21T07:09:02.803Z"
   },
   {
    "duration": 19,
    "start_time": "2022-02-21T07:09:02.836Z"
   },
   {
    "duration": 18,
    "start_time": "2022-02-21T07:09:02.857Z"
   },
   {
    "duration": 12,
    "start_time": "2022-02-21T07:09:02.878Z"
   },
   {
    "duration": 36,
    "start_time": "2022-02-21T07:09:02.893Z"
   },
   {
    "duration": 11,
    "start_time": "2022-02-21T07:09:02.931Z"
   },
   {
    "duration": 19,
    "start_time": "2022-02-21T07:09:02.944Z"
   },
   {
    "duration": 36,
    "start_time": "2022-02-21T07:09:02.966Z"
   },
   {
    "duration": 15,
    "start_time": "2022-02-21T07:09:03.005Z"
   },
   {
    "duration": 21,
    "start_time": "2022-02-21T07:09:03.026Z"
   },
   {
    "duration": 57,
    "start_time": "2022-02-21T07:09:03.050Z"
   },
   {
    "duration": 43,
    "start_time": "2022-02-21T07:09:03.109Z"
   },
   {
    "duration": 29,
    "start_time": "2022-02-21T07:09:03.154Z"
   },
   {
    "duration": 366,
    "start_time": "2022-02-21T07:09:03.186Z"
   },
   {
    "duration": 147,
    "start_time": "2022-02-21T07:09:03.555Z"
   },
   {
    "duration": 8,
    "start_time": "2022-02-21T07:09:03.706Z"
   },
   {
    "duration": 842,
    "start_time": "2022-02-21T07:09:03.728Z"
   },
   {
    "duration": 286,
    "start_time": "2022-02-21T07:09:04.575Z"
   },
   {
    "duration": 7,
    "start_time": "2022-02-21T07:09:04.863Z"
   },
   {
    "duration": 10,
    "start_time": "2022-02-21T07:09:04.872Z"
   },
   {
    "duration": 42,
    "start_time": "2022-02-21T07:09:04.884Z"
   },
   {
    "duration": 45,
    "start_time": "2022-02-21T07:09:04.929Z"
   },
   {
    "duration": 3,
    "start_time": "2022-02-21T07:09:04.976Z"
   },
   {
    "duration": 68,
    "start_time": "2022-02-21T07:09:04.981Z"
   },
   {
    "duration": 710,
    "start_time": "2022-02-21T07:09:05.051Z"
   },
   {
    "duration": 22,
    "start_time": "2022-02-21T07:09:05.764Z"
   },
   {
    "duration": 51,
    "start_time": "2022-02-21T07:09:05.788Z"
   },
   {
    "duration": 392,
    "start_time": "2022-02-21T07:09:05.841Z"
   },
   {
    "duration": -528,
    "start_time": "2022-02-21T07:09:06.763Z"
   },
   {
    "duration": -529,
    "start_time": "2022-02-21T07:09:06.765Z"
   },
   {
    "duration": 277,
    "start_time": "2022-02-21T07:09:43.432Z"
   },
   {
    "duration": 94,
    "start_time": "2022-02-21T07:09:49.713Z"
   },
   {
    "duration": 13,
    "start_time": "2022-02-21T07:09:58.113Z"
   },
   {
    "duration": 11,
    "start_time": "2022-02-21T07:10:11.163Z"
   },
   {
    "duration": 312,
    "start_time": "2022-02-21T07:13:16.294Z"
   },
   {
    "duration": 380,
    "start_time": "2022-02-21T07:13:39.239Z"
   },
   {
    "duration": 280,
    "start_time": "2022-02-21T07:14:12.051Z"
   },
   {
    "duration": 308,
    "start_time": "2022-02-21T07:14:36.326Z"
   },
   {
    "duration": 341,
    "start_time": "2022-02-21T07:16:02.342Z"
   },
   {
    "duration": 21,
    "start_time": "2022-02-21T07:16:51.851Z"
   },
   {
    "duration": 33631,
    "start_time": "2022-02-21T07:17:01.412Z"
   },
   {
    "duration": 340,
    "start_time": "2022-02-21T07:18:02.971Z"
   },
   {
    "duration": 400,
    "start_time": "2022-02-21T07:19:28.891Z"
   },
   {
    "duration": 267,
    "start_time": "2022-02-21T07:20:05.679Z"
   },
   {
    "duration": 382,
    "start_time": "2022-02-21T07:20:24.272Z"
   },
   {
    "duration": 345,
    "start_time": "2022-02-21T07:20:26.648Z"
   },
   {
    "duration": 382,
    "start_time": "2022-02-21T07:21:08.188Z"
   },
   {
    "duration": 74,
    "start_time": "2022-02-21T07:37:29.151Z"
   },
   {
    "duration": 43,
    "start_time": "2022-02-21T07:37:58.554Z"
   },
   {
    "duration": 378,
    "start_time": "2022-02-21T07:39:03.881Z"
   },
   {
    "duration": 498,
    "start_time": "2022-02-21T07:39:33.396Z"
   },
   {
    "duration": 47,
    "start_time": "2022-02-21T07:40:03.511Z"
   },
   {
    "duration": 46,
    "start_time": "2022-02-21T07:46:26.502Z"
   },
   {
    "duration": 34,
    "start_time": "2022-02-21T07:46:41.807Z"
   },
   {
    "duration": 304,
    "start_time": "2022-02-21T07:46:59.577Z"
   },
   {
    "duration": 292,
    "start_time": "2022-02-21T07:47:14.114Z"
   },
   {
    "duration": 34,
    "start_time": "2022-02-21T07:47:33.196Z"
   },
   {
    "duration": 36,
    "start_time": "2022-02-21T07:47:57.038Z"
   },
   {
    "duration": 48,
    "start_time": "2022-02-21T07:48:27.561Z"
   },
   {
    "duration": 51,
    "start_time": "2022-02-21T07:48:38.915Z"
   },
   {
    "duration": 47,
    "start_time": "2022-02-21T07:49:30.752Z"
   },
   {
    "duration": 51,
    "start_time": "2022-02-21T07:50:42.440Z"
   },
   {
    "duration": 44,
    "start_time": "2022-02-21T07:50:49.002Z"
   },
   {
    "duration": 315,
    "start_time": "2022-02-21T07:51:07.187Z"
   },
   {
    "duration": 304,
    "start_time": "2022-02-21T07:51:12.667Z"
   },
   {
    "duration": 64,
    "start_time": "2022-02-21T07:51:25.260Z"
   },
   {
    "duration": 47,
    "start_time": "2022-02-21T07:51:38.885Z"
   },
   {
    "duration": 42,
    "start_time": "2022-02-21T07:52:13.145Z"
   },
   {
    "duration": 43,
    "start_time": "2022-02-21T07:52:18.586Z"
   },
   {
    "duration": 44,
    "start_time": "2022-02-21T07:52:29.746Z"
   },
   {
    "duration": 44,
    "start_time": "2022-02-21T07:52:36.939Z"
   },
   {
    "duration": 48,
    "start_time": "2022-02-21T07:52:54.086Z"
   },
   {
    "duration": 41,
    "start_time": "2022-02-21T07:53:02.998Z"
   },
   {
    "duration": 38,
    "start_time": "2022-02-21T07:53:16.607Z"
   },
   {
    "duration": 43,
    "start_time": "2022-02-21T07:53:30.016Z"
   },
   {
    "duration": 45,
    "start_time": "2022-02-21T07:53:38.810Z"
   },
   {
    "duration": 40,
    "start_time": "2022-02-21T07:53:42.874Z"
   },
   {
    "duration": 40,
    "start_time": "2022-02-21T07:53:56.964Z"
   },
   {
    "duration": 44,
    "start_time": "2022-02-21T07:54:47.305Z"
   },
   {
    "duration": 45,
    "start_time": "2022-02-21T07:54:51.521Z"
   },
   {
    "duration": 44,
    "start_time": "2022-02-21T07:55:03.218Z"
   },
   {
    "duration": 42,
    "start_time": "2022-02-21T07:55:06.834Z"
   },
   {
    "duration": 42,
    "start_time": "2022-02-21T07:55:10.491Z"
   },
   {
    "duration": 42,
    "start_time": "2022-02-21T07:55:22.508Z"
   },
   {
    "duration": 346,
    "start_time": "2022-02-21T07:56:03.969Z"
   },
   {
    "duration": 31,
    "start_time": "2022-02-21T07:56:14.089Z"
   },
   {
    "duration": 42,
    "start_time": "2022-02-21T07:56:24.546Z"
   },
   {
    "duration": 40,
    "start_time": "2022-02-21T07:57:20.664Z"
   },
   {
    "duration": 42,
    "start_time": "2022-02-21T07:57:35.842Z"
   },
   {
    "duration": 41,
    "start_time": "2022-02-21T07:57:50.436Z"
   },
   {
    "duration": 46,
    "start_time": "2022-02-21T07:58:12.165Z"
   },
   {
    "duration": 39,
    "start_time": "2022-02-21T07:58:26.311Z"
   },
   {
    "duration": 327,
    "start_time": "2022-02-21T07:58:40.800Z"
   },
   {
    "duration": 47,
    "start_time": "2022-02-21T07:58:48.297Z"
   },
   {
    "duration": 41,
    "start_time": "2022-02-21T07:59:03.019Z"
   },
   {
    "duration": 42,
    "start_time": "2022-02-21T07:59:15.820Z"
   },
   {
    "duration": 49,
    "start_time": "2022-02-21T07:59:24.893Z"
   },
   {
    "duration": 43,
    "start_time": "2022-02-21T07:59:31.662Z"
   },
   {
    "duration": 45,
    "start_time": "2022-02-21T07:59:40.919Z"
   },
   {
    "duration": 45,
    "start_time": "2022-02-21T07:59:53.800Z"
   },
   {
    "duration": 42,
    "start_time": "2022-02-21T08:00:41.989Z"
   },
   {
    "duration": 331,
    "start_time": "2022-02-21T08:00:59.167Z"
   },
   {
    "duration": 43,
    "start_time": "2022-02-21T08:01:08.391Z"
   },
   {
    "duration": 41,
    "start_time": "2022-02-21T08:01:17.248Z"
   },
   {
    "duration": 324,
    "start_time": "2022-02-21T08:01:44.979Z"
   },
   {
    "duration": 316,
    "start_time": "2022-02-21T08:01:54.757Z"
   },
   {
    "duration": 40,
    "start_time": "2022-02-21T08:02:09.670Z"
   },
   {
    "duration": 53,
    "start_time": "2022-02-21T08:02:23.335Z"
   },
   {
    "duration": 294,
    "start_time": "2022-02-21T08:02:41.905Z"
   },
   {
    "duration": 43,
    "start_time": "2022-02-21T08:02:58.440Z"
   },
   {
    "duration": 43,
    "start_time": "2022-02-21T08:03:07.972Z"
   },
   {
    "duration": 1166,
    "start_time": "2022-02-21T08:04:46.558Z"
   },
   {
    "duration": 32,
    "start_time": "2022-02-21T08:04:55.223Z"
   },
   {
    "duration": 45,
    "start_time": "2022-02-21T08:05:07.735Z"
   },
   {
    "duration": 47,
    "start_time": "2022-02-21T08:05:22.274Z"
   },
   {
    "duration": 325,
    "start_time": "2022-02-21T08:09:41.588Z"
   },
   {
    "duration": 44,
    "start_time": "2022-02-21T08:11:26.550Z"
   },
   {
    "duration": 6241,
    "start_time": "2022-02-21T08:12:13.931Z"
   },
   {
    "duration": 530,
    "start_time": "2022-02-21T08:14:18.304Z"
   },
   {
    "duration": 392,
    "start_time": "2022-02-21T08:14:32.697Z"
   },
   {
    "duration": 329,
    "start_time": "2022-02-21T08:15:04.485Z"
   },
   {
    "duration": 544,
    "start_time": "2022-02-21T08:16:30.973Z"
   },
   {
    "duration": 326,
    "start_time": "2022-02-21T08:22:31.162Z"
   },
   {
    "duration": 502,
    "start_time": "2022-02-21T08:23:02.540Z"
   },
   {
    "duration": 45,
    "start_time": "2022-02-21T08:23:25.239Z"
   },
   {
    "duration": 46,
    "start_time": "2022-02-21T08:23:39.232Z"
   },
   {
    "duration": 1485,
    "start_time": "2022-02-21T08:23:50.841Z"
   },
   {
    "duration": 43,
    "start_time": "2022-02-21T08:24:01.259Z"
   },
   {
    "duration": 67,
    "start_time": "2022-02-21T08:24:27.509Z"
   },
   {
    "duration": 322,
    "start_time": "2022-02-21T08:24:35.446Z"
   },
   {
    "duration": 46,
    "start_time": "2022-02-21T08:24:49.904Z"
   },
   {
    "duration": 57,
    "start_time": "2022-02-21T08:25:17.090Z"
   },
   {
    "duration": 466,
    "start_time": "2022-02-21T08:25:24.795Z"
   },
   {
    "duration": 618,
    "start_time": "2022-02-21T08:26:01.975Z"
   },
   {
    "duration": 465,
    "start_time": "2022-02-21T08:28:03.907Z"
   },
   {
    "duration": 540,
    "start_time": "2022-02-21T08:28:28.510Z"
   },
   {
    "duration": 555,
    "start_time": "2022-02-21T08:28:42.175Z"
   },
   {
    "duration": 1108,
    "start_time": "2022-02-21T08:32:36.742Z"
   },
   {
    "duration": 1768,
    "start_time": "2022-02-21T08:32:47.648Z"
   },
   {
    "duration": 640,
    "start_time": "2022-02-21T08:32:57.923Z"
   },
   {
    "duration": 685,
    "start_time": "2022-02-21T08:33:28.380Z"
   },
   {
    "duration": 755,
    "start_time": "2022-02-21T08:33:34.381Z"
   },
   {
    "duration": 831,
    "start_time": "2022-02-21T08:41:39.358Z"
   },
   {
    "duration": 7,
    "start_time": "2022-02-21T08:42:03.423Z"
   },
   {
    "duration": 831,
    "start_time": "2022-02-21T08:42:16.112Z"
   },
   {
    "duration": 638,
    "start_time": "2022-02-21T08:42:40.780Z"
   },
   {
    "duration": 757,
    "start_time": "2022-02-21T08:43:34.433Z"
   },
   {
    "duration": 858,
    "start_time": "2022-02-21T09:06:18.041Z"
   },
   {
    "duration": 120,
    "start_time": "2022-02-21T09:16:43.655Z"
   },
   {
    "duration": 562,
    "start_time": "2022-02-21T09:18:08.664Z"
   },
   {
    "duration": 888,
    "start_time": "2022-02-21T09:21:16.652Z"
   },
   {
    "duration": 7,
    "start_time": "2022-02-21T09:21:47.253Z"
   },
   {
    "duration": 965,
    "start_time": "2022-02-21T09:22:15.393Z"
   },
   {
    "duration": 116,
    "start_time": "2022-02-21T09:22:26.354Z"
   },
   {
    "duration": 7,
    "start_time": "2022-02-21T09:22:30.323Z"
   },
   {
    "duration": 11,
    "start_time": "2022-02-21T09:22:51.804Z"
   },
   {
    "duration": 390,
    "start_time": "2022-02-21T09:23:48.658Z"
   },
   {
    "duration": 13,
    "start_time": "2022-02-21T09:25:09.115Z"
   },
   {
    "duration": 195,
    "start_time": "2022-02-21T09:25:24.229Z"
   },
   {
    "duration": 8,
    "start_time": "2022-02-21T09:25:27.844Z"
   },
   {
    "duration": 8,
    "start_time": "2022-02-21T09:25:45.670Z"
   },
   {
    "duration": 554,
    "start_time": "2022-02-21T09:26:53.822Z"
   },
   {
    "duration": 545,
    "start_time": "2022-02-21T09:27:18.224Z"
   },
   {
    "duration": 564,
    "start_time": "2022-02-21T09:27:28.777Z"
   },
   {
    "duration": 623,
    "start_time": "2022-02-21T09:27:38.747Z"
   },
   {
    "duration": 88,
    "start_time": "2022-02-21T09:27:56.052Z"
   },
   {
    "duration": 83,
    "start_time": "2022-02-21T09:28:03.364Z"
   },
   {
    "duration": 579,
    "start_time": "2022-02-21T09:28:13.181Z"
   },
   {
    "duration": 559,
    "start_time": "2022-02-21T09:28:29.919Z"
   },
   {
    "duration": 593,
    "start_time": "2022-02-21T09:28:41.265Z"
   },
   {
    "duration": 572,
    "start_time": "2022-02-21T09:29:10.939Z"
   },
   {
    "duration": 620,
    "start_time": "2022-02-21T09:29:56.408Z"
   },
   {
    "duration": 805,
    "start_time": "2022-02-21T09:30:16.738Z"
   },
   {
    "duration": 671,
    "start_time": "2022-02-21T09:30:22.610Z"
   },
   {
    "duration": 663,
    "start_time": "2022-02-21T09:30:28.259Z"
   },
   {
    "duration": 639,
    "start_time": "2022-02-21T09:30:43.845Z"
   },
   {
    "duration": 2057,
    "start_time": "2022-02-21T09:38:25.627Z"
   },
   {
    "duration": 925,
    "start_time": "2022-02-21T09:38:41.125Z"
   },
   {
    "duration": 280,
    "start_time": "2022-02-21T09:38:53.183Z"
   },
   {
    "duration": 896,
    "start_time": "2022-02-21T09:39:04.856Z"
   },
   {
    "duration": 621,
    "start_time": "2022-02-21T09:40:22.688Z"
   },
   {
    "duration": 1483,
    "start_time": "2022-02-21T09:41:35.111Z"
   },
   {
    "duration": 1623,
    "start_time": "2022-02-21T09:42:01.234Z"
   },
   {
    "duration": 1587,
    "start_time": "2022-02-21T09:42:48.183Z"
   },
   {
    "duration": 1629,
    "start_time": "2022-02-21T09:42:57.751Z"
   },
   {
    "duration": 1661,
    "start_time": "2022-02-21T09:43:49.509Z"
   },
   {
    "duration": 1065,
    "start_time": "2022-02-21T09:44:21.897Z"
   },
   {
    "duration": 1582,
    "start_time": "2022-02-21T09:44:32.305Z"
   },
   {
    "duration": 1083,
    "start_time": "2022-02-21T09:44:41.170Z"
   },
   {
    "duration": 1400,
    "start_time": "2022-02-21T09:45:42.209Z"
   },
   {
    "duration": 98,
    "start_time": "2022-02-21T09:49:25.991Z"
   },
   {
    "duration": 91,
    "start_time": "2022-02-21T09:49:52.209Z"
   },
   {
    "duration": 98,
    "start_time": "2022-02-21T09:50:11.268Z"
   },
   {
    "duration": 1431,
    "start_time": "2022-02-21T09:51:20.114Z"
   },
   {
    "duration": 895,
    "start_time": "2022-02-21T09:51:30.876Z"
   },
   {
    "duration": 755,
    "start_time": "2022-02-21T09:51:36.908Z"
   },
   {
    "duration": 1227,
    "start_time": "2022-02-21T09:51:41.501Z"
   },
   {
    "duration": 1139,
    "start_time": "2022-02-21T09:52:12.832Z"
   },
   {
    "duration": 15,
    "start_time": "2022-02-21T09:53:55.554Z"
   },
   {
    "duration": 9,
    "start_time": "2022-02-21T09:54:37.302Z"
   },
   {
    "duration": 1129,
    "start_time": "2022-02-21T09:54:41.305Z"
   },
   {
    "duration": 297,
    "start_time": "2022-02-21T09:55:11.386Z"
   },
   {
    "duration": 713,
    "start_time": "2022-02-21T09:55:39.917Z"
   },
   {
    "duration": 1183,
    "start_time": "2022-02-21T09:56:18.329Z"
   },
   {
    "duration": 1330,
    "start_time": "2022-02-21T09:57:23.360Z"
   },
   {
    "duration": 1375,
    "start_time": "2022-02-21T09:57:42.058Z"
   },
   {
    "duration": 1292,
    "start_time": "2022-02-21T09:57:52.995Z"
   },
   {
    "duration": 1362,
    "start_time": "2022-02-21T09:58:06.644Z"
   },
   {
    "duration": 1568,
    "start_time": "2022-02-21T09:58:22.366Z"
   },
   {
    "duration": 1335,
    "start_time": "2022-02-21T09:59:01.442Z"
   },
   {
    "duration": 1483,
    "start_time": "2022-02-21T09:59:11.483Z"
   },
   {
    "duration": 1903,
    "start_time": "2022-02-21T10:04:02.402Z"
   },
   {
    "duration": 1900,
    "start_time": "2022-02-21T10:06:47.930Z"
   },
   {
    "duration": 703,
    "start_time": "2022-02-21T10:07:07.274Z"
   },
   {
    "duration": 644,
    "start_time": "2022-02-21T10:10:49.584Z"
   },
   {
    "duration": 656,
    "start_time": "2022-02-21T10:11:06.347Z"
   },
   {
    "duration": 630,
    "start_time": "2022-02-21T10:11:21.284Z"
   },
   {
    "duration": 95,
    "start_time": "2022-02-21T10:11:42.647Z"
   },
   {
    "duration": 508,
    "start_time": "2022-02-21T10:11:48.094Z"
   },
   {
    "duration": 524,
    "start_time": "2022-02-21T10:12:05.705Z"
   },
   {
    "duration": 632,
    "start_time": "2022-02-21T10:12:13.073Z"
   },
   {
    "duration": 807,
    "start_time": "2022-02-21T10:12:17.722Z"
   },
   {
    "duration": 722,
    "start_time": "2022-02-21T10:13:14.272Z"
   },
   {
    "duration": 13,
    "start_time": "2022-02-21T10:16:21.547Z"
   },
   {
    "duration": 15,
    "start_time": "2022-02-21T10:16:49.629Z"
   },
   {
    "duration": 6719,
    "start_time": "2022-02-21T10:17:08.919Z"
   },
   {
    "duration": 16,
    "start_time": "2022-02-21T10:17:56.251Z"
   },
   {
    "duration": 11,
    "start_time": "2022-02-21T10:18:29.863Z"
   },
   {
    "duration": 17,
    "start_time": "2022-02-21T10:18:39.280Z"
   },
   {
    "duration": 10,
    "start_time": "2022-02-21T10:19:05.891Z"
   },
   {
    "duration": 13,
    "start_time": "2022-02-21T10:19:24.133Z"
   },
   {
    "duration": 325,
    "start_time": "2022-02-21T10:19:31.670Z"
   },
   {
    "duration": 282,
    "start_time": "2022-02-21T10:19:38.086Z"
   },
   {
    "duration": 286,
    "start_time": "2022-02-21T10:19:41.631Z"
   },
   {
    "duration": 14,
    "start_time": "2022-02-21T10:20:02.577Z"
   },
   {
    "duration": 15,
    "start_time": "2022-02-21T10:20:06.825Z"
   },
   {
    "duration": 11,
    "start_time": "2022-02-21T10:20:15.962Z"
   },
   {
    "duration": 101,
    "start_time": "2022-02-21T10:20:27.731Z"
   },
   {
    "duration": 11,
    "start_time": "2022-02-21T10:20:35.884Z"
   },
   {
    "duration": 104,
    "start_time": "2022-02-21T10:20:48.877Z"
   },
   {
    "duration": 13,
    "start_time": "2022-02-21T10:21:16.456Z"
   },
   {
    "duration": 15,
    "start_time": "2022-02-21T10:22:27.015Z"
   },
   {
    "duration": 14,
    "start_time": "2022-02-21T10:22:31.648Z"
   },
   {
    "duration": 14,
    "start_time": "2022-02-21T10:23:00.459Z"
   },
   {
    "duration": -782,
    "start_time": "2022-02-21T10:30:38.735Z"
   },
   {
    "duration": 40,
    "start_time": "2022-02-21T10:30:46.025Z"
   },
   {
    "duration": 10,
    "start_time": "2022-02-21T10:31:15.910Z"
   },
   {
    "duration": 10,
    "start_time": "2022-02-21T10:31:28.997Z"
   },
   {
    "duration": 251,
    "start_time": "2022-02-21T10:31:38.807Z"
   },
   {
    "duration": 564,
    "start_time": "2022-02-21T10:31:49.929Z"
   },
   {
    "duration": 336,
    "start_time": "2022-02-21T10:32:04.082Z"
   },
   {
    "duration": 331,
    "start_time": "2022-02-21T10:32:36.478Z"
   },
   {
    "duration": 336,
    "start_time": "2022-02-21T10:32:51.199Z"
   },
   {
    "duration": 18,
    "start_time": "2022-02-21T10:34:51.498Z"
   },
   {
    "duration": 331,
    "start_time": "2022-02-21T10:35:01.148Z"
   },
   {
    "duration": 19,
    "start_time": "2022-02-21T10:35:20.758Z"
   },
   {
    "duration": 469,
    "start_time": "2022-02-21T10:37:46.956Z"
   },
   {
    "duration": 20,
    "start_time": "2022-02-21T11:08:05.642Z"
   },
   {
    "duration": 324,
    "start_time": "2022-02-21T11:09:27.241Z"
   },
   {
    "duration": 16,
    "start_time": "2022-02-21T11:10:27.136Z"
   },
   {
    "duration": 16,
    "start_time": "2022-02-21T11:10:41.482Z"
   },
   {
    "duration": 520,
    "start_time": "2022-02-21T11:12:32.053Z"
   },
   {
    "duration": 290,
    "start_time": "2022-02-21T11:12:42.750Z"
   },
   {
    "duration": 19,
    "start_time": "2022-02-21T11:12:57.353Z"
   },
   {
    "duration": 17,
    "start_time": "2022-02-21T11:13:06.528Z"
   },
   {
    "duration": 15,
    "start_time": "2022-02-21T11:13:57.780Z"
   },
   {
    "duration": 11,
    "start_time": "2022-02-21T11:14:34.617Z"
   },
   {
    "duration": 14,
    "start_time": "2022-02-21T11:14:43.433Z"
   },
   {
    "duration": 23,
    "start_time": "2022-02-21T11:14:48.394Z"
   },
   {
    "duration": 36,
    "start_time": "2022-02-21T11:21:53.024Z"
   },
   {
    "duration": 34,
    "start_time": "2022-02-21T11:23:08.952Z"
   },
   {
    "duration": 20,
    "start_time": "2022-02-21T11:24:20.944Z"
   },
   {
    "duration": 18,
    "start_time": "2022-02-21T11:24:30.936Z"
   },
   {
    "duration": 42,
    "start_time": "2022-02-21T11:24:39.394Z"
   },
   {
    "duration": 34,
    "start_time": "2022-02-21T11:25:41.857Z"
   },
   {
    "duration": 37,
    "start_time": "2022-02-21T11:26:03.904Z"
   },
   {
    "duration": 29,
    "start_time": "2022-02-21T11:27:10.945Z"
   },
   {
    "duration": 27,
    "start_time": "2022-02-21T11:27:17.618Z"
   },
   {
    "duration": 30,
    "start_time": "2022-02-21T11:27:22.841Z"
   },
   {
    "duration": 282,
    "start_time": "2022-02-21T11:28:44.922Z"
   },
   {
    "duration": 29,
    "start_time": "2022-02-21T11:28:53.003Z"
   },
   {
    "duration": 23,
    "start_time": "2022-02-21T12:38:29.496Z"
   },
   {
    "duration": 9,
    "start_time": "2022-02-21T12:46:27.256Z"
   },
   {
    "duration": 1165,
    "start_time": "2022-02-21T12:48:13.586Z"
   },
   {
    "duration": 5300,
    "start_time": "2022-02-21T12:50:11.446Z"
   },
   {
    "duration": 57809,
    "start_time": "2022-02-21T12:50:48.833Z"
   },
   {
    "duration": 256,
    "start_time": "2022-02-21T12:51:57.704Z"
   },
   {
    "duration": 324,
    "start_time": "2022-02-21T12:52:05.849Z"
   },
   {
    "duration": 272,
    "start_time": "2022-02-21T12:52:20.315Z"
   },
   {
    "duration": 8,
    "start_time": "2022-02-21T12:52:29.716Z"
   },
   {
    "duration": 258,
    "start_time": "2022-02-21T12:52:33.613Z"
   },
   {
    "duration": 252,
    "start_time": "2022-02-21T12:53:15.640Z"
   },
   {
    "duration": 88,
    "start_time": "2022-02-21T12:53:49.076Z"
   },
   {
    "duration": 148,
    "start_time": "2022-02-21T12:53:56.819Z"
   },
   {
    "duration": 125,
    "start_time": "2022-02-21T12:54:07.101Z"
   },
   {
    "duration": 442,
    "start_time": "2022-02-21T12:54:11.390Z"
   },
   {
    "duration": 618,
    "start_time": "2022-02-21T12:54:24.831Z"
   },
   {
    "duration": 630,
    "start_time": "2022-02-21T12:55:26.958Z"
   },
   {
    "duration": 43,
    "start_time": "2022-02-21T12:56:09.695Z"
   },
   {
    "duration": 29,
    "start_time": "2022-02-21T12:56:26.996Z"
   },
   {
    "duration": 30,
    "start_time": "2022-02-21T12:56:55.695Z"
   },
   {
    "duration": 290,
    "start_time": "2022-02-21T12:57:52.877Z"
   },
   {
    "duration": 412,
    "start_time": "2022-02-21T12:57:58.629Z"
   },
   {
    "duration": 9,
    "start_time": "2022-02-21T12:58:34.363Z"
   },
   {
    "duration": 2504,
    "start_time": "2022-02-21T13:00:18.883Z"
   },
   {
    "duration": 36,
    "start_time": "2022-02-21T13:33:31.605Z"
   },
   {
    "duration": 34,
    "start_time": "2022-02-21T13:36:24.839Z"
   },
   {
    "duration": 24,
    "start_time": "2022-02-21T13:36:45.184Z"
   },
   {
    "duration": 34,
    "start_time": "2022-02-21T13:37:44.519Z"
   },
   {
    "duration": 22,
    "start_time": "2022-02-21T13:37:49.775Z"
   },
   {
    "duration": 35,
    "start_time": "2022-02-21T13:39:26.593Z"
   },
   {
    "duration": 29,
    "start_time": "2022-02-21T13:39:31.377Z"
   },
   {
    "duration": 34,
    "start_time": "2022-02-21T13:40:14.873Z"
   },
   {
    "duration": 533,
    "start_time": "2022-02-21T13:40:22.615Z"
   },
   {
    "duration": 36,
    "start_time": "2022-02-21T13:41:17.981Z"
   },
   {
    "duration": 25,
    "start_time": "2022-02-21T13:41:23.012Z"
   },
   {
    "duration": 23,
    "start_time": "2022-02-21T13:41:45.174Z"
   },
   {
    "duration": 404,
    "start_time": "2022-02-21T13:42:02.560Z"
   },
   {
    "duration": 24,
    "start_time": "2022-02-21T13:42:31.564Z"
   },
   {
    "duration": 405,
    "start_time": "2022-02-21T13:42:51.197Z"
   },
   {
    "duration": 425,
    "start_time": "2022-02-21T13:43:02.031Z"
   },
   {
    "duration": 12,
    "start_time": "2022-02-21T13:46:29.195Z"
   },
   {
    "duration": 14,
    "start_time": "2022-02-21T13:46:41.348Z"
   },
   {
    "duration": 12,
    "start_time": "2022-02-21T13:46:52.565Z"
   },
   {
    "duration": 363,
    "start_time": "2022-02-21T13:47:15.176Z"
   },
   {
    "duration": 350,
    "start_time": "2022-02-21T13:47:20.088Z"
   },
   {
    "duration": 11,
    "start_time": "2022-02-21T13:47:31.906Z"
   },
   {
    "duration": 263,
    "start_time": "2022-02-21T13:47:38.698Z"
   },
   {
    "duration": 10,
    "start_time": "2022-02-21T13:49:40.662Z"
   },
   {
    "duration": 301,
    "start_time": "2022-02-21T13:49:57.264Z"
   },
   {
    "duration": 10,
    "start_time": "2022-02-21T13:50:06.201Z"
   },
   {
    "duration": 13,
    "start_time": "2022-02-21T13:50:21.010Z"
   },
   {
    "duration": 11,
    "start_time": "2022-02-21T13:50:28.187Z"
   },
   {
    "duration": 35,
    "start_time": "2022-02-21T13:52:01.222Z"
   },
   {
    "duration": 634,
    "start_time": "2022-02-21T13:52:21.943Z"
   },
   {
    "duration": 33,
    "start_time": "2022-02-21T13:53:32.830Z"
   },
   {
    "duration": 582,
    "start_time": "2022-02-21T13:54:02.506Z"
   },
   {
    "duration": 33,
    "start_time": "2022-02-21T13:54:36.517Z"
   },
   {
    "duration": 535,
    "start_time": "2022-02-21T13:54:45.317Z"
   },
   {
    "duration": 42,
    "start_time": "2022-02-21T13:55:07.400Z"
   },
   {
    "duration": 35,
    "start_time": "2022-02-21T13:55:12.176Z"
   },
   {
    "duration": 7434,
    "start_time": "2022-02-21T13:55:18.498Z"
   },
   {
    "duration": 350,
    "start_time": "2022-02-21T13:58:26.308Z"
   },
   {
    "duration": 292,
    "start_time": "2022-02-21T13:58:32.357Z"
   },
   {
    "duration": 10,
    "start_time": "2022-02-21T13:58:50.704Z"
   },
   {
    "duration": 54,
    "start_time": "2022-02-21T14:00:36.369Z"
   },
   {
    "duration": 35,
    "start_time": "2022-02-21T14:01:09.980Z"
   },
   {
    "duration": 7609,
    "start_time": "2022-02-21T14:01:15.997Z"
   },
   {
    "duration": 35,
    "start_time": "2022-02-21T14:01:27.262Z"
   },
   {
    "duration": 51,
    "start_time": "2022-02-21T14:01:39.040Z"
   },
   {
    "duration": 7212,
    "start_time": "2022-02-21T14:01:43.760Z"
   },
   {
    "duration": 34,
    "start_time": "2022-02-21T14:02:24.068Z"
   },
   {
    "duration": 39,
    "start_time": "2022-02-21T14:02:28.989Z"
   },
   {
    "duration": 34,
    "start_time": "2022-02-21T14:03:41.787Z"
   },
   {
    "duration": 591,
    "start_time": "2022-02-21T14:03:50.542Z"
   },
   {
    "duration": 34,
    "start_time": "2022-02-21T14:04:02.638Z"
   },
   {
    "duration": 32,
    "start_time": "2022-02-21T14:04:08.199Z"
   },
   {
    "duration": 35,
    "start_time": "2022-02-21T14:05:35.631Z"
   },
   {
    "duration": 8570,
    "start_time": "2022-02-21T14:05:58.074Z"
   },
   {
    "duration": 55,
    "start_time": "2022-02-21T14:06:27.509Z"
   },
   {
    "duration": 29,
    "start_time": "2022-02-21T14:06:35.870Z"
   },
   {
    "duration": 408,
    "start_time": "2022-02-21T14:07:33.643Z"
   },
   {
    "duration": 447,
    "start_time": "2022-02-21T14:07:38.341Z"
   },
   {
    "duration": 410,
    "start_time": "2022-02-21T14:07:54.052Z"
   },
   {
    "duration": 429,
    "start_time": "2022-02-21T14:08:02.919Z"
   },
   {
    "duration": 398,
    "start_time": "2022-02-21T14:08:15.032Z"
   },
   {
    "duration": 412,
    "start_time": "2022-02-21T14:08:24.168Z"
   },
   {
    "duration": 621,
    "start_time": "2022-02-21T14:12:11.567Z"
   },
   {
    "duration": 390,
    "start_time": "2022-02-21T14:12:33.981Z"
   },
   {
    "duration": 35,
    "start_time": "2022-02-21T14:14:29.941Z"
   },
   {
    "duration": 457,
    "start_time": "2022-02-21T14:14:56.154Z"
   },
   {
    "duration": 49,
    "start_time": "2022-02-21T14:17:54.173Z"
   },
   {
    "duration": 96,
    "start_time": "2022-02-21T14:18:22.717Z"
   },
   {
    "duration": 652,
    "start_time": "2022-02-21T14:18:26.197Z"
   },
   {
    "duration": 449,
    "start_time": "2022-02-21T14:18:33.439Z"
   },
   {
    "duration": 377,
    "start_time": "2022-02-21T14:18:44.776Z"
   },
   {
    "duration": 388,
    "start_time": "2022-02-21T14:19:29.212Z"
   },
   {
    "duration": 78,
    "start_time": "2022-02-21T14:20:57.919Z"
   },
   {
    "duration": 28,
    "start_time": "2022-02-21T14:21:01.590Z"
   },
   {
    "duration": 1508,
    "start_time": "2022-02-21T15:07:40.335Z"
   },
   {
    "duration": 37,
    "start_time": "2022-02-21T15:07:41.846Z"
   },
   {
    "duration": 82,
    "start_time": "2022-02-21T15:07:41.887Z"
   },
   {
    "duration": 68,
    "start_time": "2022-02-21T15:07:41.973Z"
   },
   {
    "duration": 7,
    "start_time": "2022-02-21T15:07:42.043Z"
   },
   {
    "duration": 10,
    "start_time": "2022-02-21T15:07:42.052Z"
   },
   {
    "duration": 76,
    "start_time": "2022-02-21T15:07:42.064Z"
   },
   {
    "duration": 7,
    "start_time": "2022-02-21T15:07:42.143Z"
   },
   {
    "duration": 73,
    "start_time": "2022-02-21T15:07:42.154Z"
   },
   {
    "duration": 9,
    "start_time": "2022-02-21T15:07:42.231Z"
   },
   {
    "duration": 8,
    "start_time": "2022-02-21T15:07:42.242Z"
   },
   {
    "duration": 8,
    "start_time": "2022-02-21T15:07:42.253Z"
   },
   {
    "duration": 63,
    "start_time": "2022-02-21T15:07:42.263Z"
   },
   {
    "duration": 12,
    "start_time": "2022-02-21T15:07:42.329Z"
   },
   {
    "duration": 11,
    "start_time": "2022-02-21T15:07:42.344Z"
   },
   {
    "duration": 7,
    "start_time": "2022-02-21T15:07:42.357Z"
   },
   {
    "duration": 67,
    "start_time": "2022-02-21T15:07:42.367Z"
   },
   {
    "duration": 7,
    "start_time": "2022-02-21T15:07:42.436Z"
   },
   {
    "duration": 13,
    "start_time": "2022-02-21T15:07:42.445Z"
   },
   {
    "duration": 73,
    "start_time": "2022-02-21T15:07:42.460Z"
   },
   {
    "duration": 44,
    "start_time": "2022-02-21T15:07:42.535Z"
   },
   {
    "duration": 56,
    "start_time": "2022-02-21T15:07:42.581Z"
   },
   {
    "duration": 339,
    "start_time": "2022-02-21T15:07:42.639Z"
   },
   {
    "duration": 202,
    "start_time": "2022-02-21T15:07:42.980Z"
   },
   {
    "duration": 7,
    "start_time": "2022-02-21T15:07:43.184Z"
   },
   {
    "duration": 952,
    "start_time": "2022-02-21T15:07:43.194Z"
   },
   {
    "duration": 297,
    "start_time": "2022-02-21T15:07:44.152Z"
   },
   {
    "duration": 9,
    "start_time": "2022-02-21T15:07:44.452Z"
   },
   {
    "duration": 9,
    "start_time": "2022-02-21T15:07:44.463Z"
   },
   {
    "duration": 12,
    "start_time": "2022-02-21T15:07:44.474Z"
   },
   {
    "duration": 53,
    "start_time": "2022-02-21T15:07:44.526Z"
   },
   {
    "duration": 4,
    "start_time": "2022-02-21T15:07:44.582Z"
   },
   {
    "duration": 82,
    "start_time": "2022-02-21T15:07:44.589Z"
   },
   {
    "duration": 764,
    "start_time": "2022-02-21T15:07:44.674Z"
   },
   {
    "duration": 20,
    "start_time": "2022-02-21T15:07:45.440Z"
   },
   {
    "duration": 21,
    "start_time": "2022-02-21T15:07:45.463Z"
   },
   {
    "duration": 405,
    "start_time": "2022-02-21T15:07:45.494Z"
   },
   {
    "duration": 445,
    "start_time": "2022-02-21T15:07:45.902Z"
   },
   {
    "duration": 369,
    "start_time": "2022-02-21T15:07:46.349Z"
   },
   {
    "duration": 48,
    "start_time": "2022-02-21T15:07:46.720Z"
   },
   {
    "duration": 797,
    "start_time": "2022-02-21T15:07:46.770Z"
   },
   {
    "duration": 940,
    "start_time": "2022-02-21T15:07:47.570Z"
   },
   {
    "duration": 55,
    "start_time": "2022-02-21T15:07:48.513Z"
   },
   {
    "duration": 1414,
    "start_time": "2022-02-21T15:07:48.570Z"
   },
   {
    "duration": 715,
    "start_time": "2022-02-21T15:07:49.987Z"
   },
   {
    "duration": 28,
    "start_time": "2022-02-21T15:07:50.705Z"
   },
   {
    "duration": 11,
    "start_time": "2022-02-21T15:07:50.735Z"
   },
   {
    "duration": 360,
    "start_time": "2022-02-21T15:07:50.749Z"
   },
   {
    "duration": 376,
    "start_time": "2022-02-21T15:07:51.111Z"
   },
   {
    "duration": 16,
    "start_time": "2022-02-21T15:07:51.490Z"
   },
   {
    "duration": 46,
    "start_time": "2022-02-21T15:07:51.508Z"
   },
   {
    "duration": 432,
    "start_time": "2022-02-21T15:07:51.556Z"
   },
   {
    "duration": 512,
    "start_time": "2022-02-21T15:07:51.991Z"
   },
   {
    "duration": 411,
    "start_time": "2022-02-21T15:07:52.505Z"
   },
   {
    "duration": 88,
    "start_time": "2022-02-21T15:07:52.926Z"
   },
   {
    "duration": 33,
    "start_time": "2022-02-21T15:25:49.952Z"
   },
   {
    "duration": 83,
    "start_time": "2022-02-21T15:29:20.261Z"
   },
   {
    "duration": 107,
    "start_time": "2022-02-21T15:29:27.061Z"
   },
   {
    "duration": 87,
    "start_time": "2022-02-21T15:29:32.598Z"
   },
   {
    "duration": 14,
    "start_time": "2022-02-21T15:29:40.342Z"
   },
   {
    "duration": 15,
    "start_time": "2022-02-21T15:29:45.647Z"
   },
   {
    "duration": 17,
    "start_time": "2022-02-21T15:30:00.873Z"
   },
   {
    "duration": 3828,
    "start_time": "2022-02-21T15:31:47.356Z"
   },
   {
    "duration": 17,
    "start_time": "2022-02-21T15:32:00.301Z"
   },
   {
    "duration": 1860,
    "start_time": "2022-02-21T15:32:18.447Z"
   },
   {
    "duration": 11,
    "start_time": "2022-02-21T15:32:26.232Z"
   },
   {
    "duration": 15,
    "start_time": "2022-02-21T15:32:47.778Z"
   },
   {
    "duration": 15,
    "start_time": "2022-02-21T15:33:06.684Z"
   },
   {
    "duration": 29,
    "start_time": "2022-02-21T15:33:10.744Z"
   },
   {
    "duration": 15,
    "start_time": "2022-02-21T15:33:14.916Z"
   },
   {
    "duration": 13,
    "start_time": "2022-02-21T15:33:33.079Z"
   },
   {
    "duration": 44,
    "start_time": "2022-02-21T15:34:09.562Z"
   },
   {
    "duration": 364,
    "start_time": "2022-02-21T15:37:15.651Z"
   },
   {
    "duration": 35,
    "start_time": "2022-02-21T15:37:20.635Z"
   },
   {
    "duration": 32,
    "start_time": "2022-02-21T15:37:25.281Z"
   },
   {
    "duration": 35,
    "start_time": "2022-02-21T15:37:45.192Z"
   },
   {
    "duration": 35,
    "start_time": "2022-02-21T15:37:55.710Z"
   },
   {
    "duration": 32,
    "start_time": "2022-02-21T15:38:12.685Z"
   },
   {
    "duration": 27,
    "start_time": "2022-02-21T15:38:32.837Z"
   },
   {
    "duration": 38,
    "start_time": "2022-02-21T15:38:45.006Z"
   },
   {
    "duration": 36,
    "start_time": "2022-02-21T15:39:15.722Z"
   },
   {
    "duration": 36,
    "start_time": "2022-02-21T15:39:24.819Z"
   },
   {
    "duration": 30,
    "start_time": "2022-02-21T15:40:16.984Z"
   },
   {
    "duration": 34,
    "start_time": "2022-02-21T15:40:24.648Z"
   },
   {
    "duration": 32,
    "start_time": "2022-02-21T15:40:31.194Z"
   },
   {
    "duration": 14,
    "start_time": "2022-02-21T15:42:00.731Z"
   },
   {
    "duration": 12,
    "start_time": "2022-02-21T15:59:42.383Z"
   },
   {
    "duration": 81,
    "start_time": "2022-02-21T16:04:17.315Z"
   },
   {
    "duration": 7,
    "start_time": "2022-02-21T16:12:12.794Z"
   },
   {
    "duration": 7,
    "start_time": "2022-02-21T16:21:36.755Z"
   },
   {
    "duration": 11,
    "start_time": "2022-02-21T16:22:32.377Z"
   },
   {
    "duration": 10,
    "start_time": "2022-02-21T16:25:46.519Z"
   },
   {
    "duration": 11,
    "start_time": "2022-02-21T16:27:07.110Z"
   },
   {
    "duration": 9,
    "start_time": "2022-02-21T16:27:10.663Z"
   },
   {
    "duration": 8,
    "start_time": "2022-02-21T16:28:06.571Z"
   },
   {
    "duration": 6,
    "start_time": "2022-02-21T16:28:28.246Z"
   },
   {
    "duration": 11,
    "start_time": "2022-02-21T16:29:47.198Z"
   },
   {
    "duration": 7,
    "start_time": "2022-02-21T16:29:53.566Z"
   },
   {
    "duration": 7,
    "start_time": "2022-02-21T16:34:05.215Z"
   },
   {
    "duration": 6,
    "start_time": "2022-02-21T16:34:18.217Z"
   },
   {
    "duration": 12,
    "start_time": "2022-02-21T16:35:31.920Z"
   },
   {
    "duration": 17,
    "start_time": "2022-02-21T16:35:42.721Z"
   },
   {
    "duration": 6,
    "start_time": "2022-02-21T16:35:48.402Z"
   },
   {
    "duration": 6,
    "start_time": "2022-02-21T16:35:49.956Z"
   },
   {
    "duration": 7,
    "start_time": "2022-02-21T16:35:51.579Z"
   },
   {
    "duration": 12,
    "start_time": "2022-02-21T16:36:18.678Z"
   },
   {
    "duration": 6,
    "start_time": "2022-02-21T16:36:21.350Z"
   },
   {
    "duration": 6,
    "start_time": "2022-02-21T16:36:27.054Z"
   },
   {
    "duration": 6,
    "start_time": "2022-02-21T16:37:49.735Z"
   },
   {
    "duration": 7,
    "start_time": "2022-02-21T16:37:55.599Z"
   },
   {
    "duration": 8,
    "start_time": "2022-02-21T16:38:08.824Z"
   },
   {
    "duration": 9,
    "start_time": "2022-02-21T16:38:21.217Z"
   },
   {
    "duration": 8,
    "start_time": "2022-02-21T16:38:42.328Z"
   },
   {
    "duration": 7,
    "start_time": "2022-02-21T16:38:46.140Z"
   },
   {
    "duration": 7,
    "start_time": "2022-02-21T16:39:37.519Z"
   },
   {
    "duration": 8,
    "start_time": "2022-02-21T16:39:50.050Z"
   },
   {
    "duration": 251,
    "start_time": "2022-02-21T16:44:55.097Z"
   },
   {
    "duration": 5,
    "start_time": "2022-02-21T16:45:07.339Z"
   },
   {
    "duration": 7,
    "start_time": "2022-02-21T16:45:24.589Z"
   },
   {
    "duration": 7,
    "start_time": "2022-02-21T16:45:27.892Z"
   },
   {
    "duration": 6,
    "start_time": "2022-02-21T16:45:44.288Z"
   },
   {
    "duration": 8,
    "start_time": "2022-02-21T16:45:58.521Z"
   },
   {
    "duration": 6,
    "start_time": "2022-02-21T16:46:22.043Z"
   },
   {
    "duration": 6,
    "start_time": "2022-02-21T16:46:45.287Z"
   },
   {
    "duration": 6,
    "start_time": "2022-02-21T16:47:22.961Z"
   },
   {
    "duration": 7,
    "start_time": "2022-02-21T16:52:20.429Z"
   },
   {
    "duration": 7,
    "start_time": "2022-02-21T16:57:38.758Z"
   },
   {
    "duration": 12,
    "start_time": "2022-02-21T17:00:56.442Z"
   },
   {
    "duration": 6,
    "start_time": "2022-02-21T17:00:57.521Z"
   },
   {
    "duration": 7,
    "start_time": "2022-02-21T17:00:58.544Z"
   },
   {
    "duration": 7,
    "start_time": "2022-02-21T17:01:05.377Z"
   },
   {
    "duration": 7,
    "start_time": "2022-02-21T17:01:06.758Z"
   },
   {
    "duration": 7,
    "start_time": "2022-02-21T17:01:16.242Z"
   },
   {
    "duration": 4,
    "start_time": "2022-02-21T17:07:00.041Z"
   },
   {
    "duration": 36,
    "start_time": "2022-02-21T17:08:07.598Z"
   },
   {
    "duration": 94,
    "start_time": "2022-02-21T17:13:10.573Z"
   },
   {
    "duration": 92,
    "start_time": "2022-02-21T17:17:39.216Z"
   },
   {
    "duration": 43,
    "start_time": "2022-02-21T17:24:15.282Z"
   },
   {
    "duration": 9,
    "start_time": "2022-02-21T17:40:47.062Z"
   },
   {
    "duration": 254,
    "start_time": "2022-02-21T17:43:49.772Z"
   },
   {
    "duration": 46,
    "start_time": "2022-02-21T17:44:02.694Z"
   },
   {
    "duration": 267,
    "start_time": "2022-02-21T17:44:24.297Z"
   },
   {
    "duration": 11,
    "start_time": "2022-02-21T17:44:30.472Z"
   },
   {
    "duration": 57,
    "start_time": "2022-02-21T17:48:52.467Z"
   },
   {
    "duration": 34,
    "start_time": "2022-02-21T17:50:22.443Z"
   },
   {
    "duration": 276,
    "start_time": "2022-02-21T17:55:59.429Z"
   },
   {
    "duration": 258,
    "start_time": "2022-02-21T17:57:18.022Z"
   },
   {
    "duration": 288,
    "start_time": "2022-02-21T17:57:41.649Z"
   },
   {
    "duration": 14,
    "start_time": "2022-02-21T17:58:11.766Z"
   },
   {
    "duration": 52,
    "start_time": "2022-02-21T18:00:28.366Z"
   },
   {
    "duration": 3,
    "start_time": "2022-02-21T18:04:44.470Z"
   },
   {
    "duration": 4,
    "start_time": "2022-02-21T18:12:02.018Z"
   },
   {
    "duration": 1617,
    "start_time": "2022-02-21T18:18:13.929Z"
   },
   {
    "duration": 33,
    "start_time": "2022-02-21T18:18:15.549Z"
   },
   {
    "duration": 82,
    "start_time": "2022-02-21T18:18:15.585Z"
   },
   {
    "duration": 65,
    "start_time": "2022-02-21T18:18:15.670Z"
   },
   {
    "duration": 7,
    "start_time": "2022-02-21T18:18:15.737Z"
   },
   {
    "duration": 10,
    "start_time": "2022-02-21T18:18:15.747Z"
   },
   {
    "duration": 78,
    "start_time": "2022-02-21T18:18:15.760Z"
   },
   {
    "duration": 14,
    "start_time": "2022-02-21T18:18:15.843Z"
   },
   {
    "duration": 66,
    "start_time": "2022-02-21T18:18:15.861Z"
   },
   {
    "duration": 12,
    "start_time": "2022-02-21T18:18:15.930Z"
   },
   {
    "duration": 13,
    "start_time": "2022-02-21T18:18:15.945Z"
   },
   {
    "duration": 65,
    "start_time": "2022-02-21T18:18:15.961Z"
   },
   {
    "duration": 9,
    "start_time": "2022-02-21T18:18:16.028Z"
   },
   {
    "duration": 16,
    "start_time": "2022-02-21T18:18:16.039Z"
   },
   {
    "duration": 11,
    "start_time": "2022-02-21T18:18:16.057Z"
   },
   {
    "duration": 11,
    "start_time": "2022-02-21T18:18:16.071Z"
   },
   {
    "duration": 19,
    "start_time": "2022-02-21T18:18:16.127Z"
   },
   {
    "duration": 6,
    "start_time": "2022-02-21T18:18:16.149Z"
   },
   {
    "duration": 7,
    "start_time": "2022-02-21T18:18:16.158Z"
   },
   {
    "duration": 89,
    "start_time": "2022-02-21T18:18:16.167Z"
   },
   {
    "duration": 42,
    "start_time": "2022-02-21T18:18:16.258Z"
   },
   {
    "duration": 804,
    "start_time": "2022-02-21T18:18:16.327Z"
   },
   {
    "duration": -890,
    "start_time": "2022-02-21T18:18:18.028Z"
   },
   {
    "duration": -893,
    "start_time": "2022-02-21T18:18:18.032Z"
   },
   {
    "duration": -898,
    "start_time": "2022-02-21T18:18:18.040Z"
   },
   {
    "duration": -923,
    "start_time": "2022-02-21T18:18:18.067Z"
   },
   {
    "duration": -925,
    "start_time": "2022-02-21T18:18:18.071Z"
   },
   {
    "duration": -930,
    "start_time": "2022-02-21T18:18:18.078Z"
   },
   {
    "duration": -931,
    "start_time": "2022-02-21T18:18:18.082Z"
   },
   {
    "duration": -932,
    "start_time": "2022-02-21T18:18:18.085Z"
   },
   {
    "duration": -962,
    "start_time": "2022-02-21T18:18:18.117Z"
   },
   {
    "duration": -963,
    "start_time": "2022-02-21T18:18:18.121Z"
   },
   {
    "duration": -980,
    "start_time": "2022-02-21T18:18:18.140Z"
   },
   {
    "duration": -1000,
    "start_time": "2022-02-21T18:18:18.162Z"
   },
   {
    "duration": -1015,
    "start_time": "2022-02-21T18:18:18.179Z"
   },
   {
    "duration": -1021,
    "start_time": "2022-02-21T18:18:18.187Z"
   },
   {
    "duration": -1022,
    "start_time": "2022-02-21T18:18:18.190Z"
   },
   {
    "duration": -1028,
    "start_time": "2022-02-21T18:18:18.198Z"
   },
   {
    "duration": -1029,
    "start_time": "2022-02-21T18:18:18.202Z"
   },
   {
    "duration": -979,
    "start_time": "2022-02-21T18:18:18.205Z"
   },
   {
    "duration": -998,
    "start_time": "2022-02-21T18:18:18.227Z"
   },
   {
    "duration": -1000,
    "start_time": "2022-02-21T18:18:18.231Z"
   },
   {
    "duration": -1006,
    "start_time": "2022-02-21T18:18:18.239Z"
   },
   {
    "duration": -1007,
    "start_time": "2022-02-21T18:18:18.242Z"
   },
   {
    "duration": -1022,
    "start_time": "2022-02-21T18:18:18.258Z"
   },
   {
    "duration": -1027,
    "start_time": "2022-02-21T18:18:18.265Z"
   },
   {
    "duration": -1042,
    "start_time": "2022-02-21T18:18:18.281Z"
   },
   {
    "duration": -1045,
    "start_time": "2022-02-21T18:18:18.286Z"
   },
   {
    "duration": -1052,
    "start_time": "2022-02-21T18:18:18.294Z"
   },
   {
    "duration": -1065,
    "start_time": "2022-02-21T18:18:18.309Z"
   },
   {
    "duration": -1068,
    "start_time": "2022-02-21T18:18:18.313Z"
   },
   {
    "duration": -1073,
    "start_time": "2022-02-21T18:18:18.320Z"
   },
   {
    "duration": -1075,
    "start_time": "2022-02-21T18:18:18.323Z"
   },
   {
    "duration": -1082,
    "start_time": "2022-02-21T18:18:18.331Z"
   },
   {
    "duration": -1085,
    "start_time": "2022-02-21T18:18:18.336Z"
   },
   {
    "duration": -1092,
    "start_time": "2022-02-21T18:18:18.345Z"
   },
   {
    "duration": -1095,
    "start_time": "2022-02-21T18:18:18.349Z"
   },
   {
    "duration": -1097,
    "start_time": "2022-02-21T18:18:18.353Z"
   },
   {
    "duration": -1103,
    "start_time": "2022-02-21T18:18:18.360Z"
   },
   {
    "duration": -1107,
    "start_time": "2022-02-21T18:18:18.365Z"
   },
   {
    "duration": -1112,
    "start_time": "2022-02-21T18:18:18.372Z"
   },
   {
    "duration": -1115,
    "start_time": "2022-02-21T18:18:18.376Z"
   },
   {
    "duration": -1118,
    "start_time": "2022-02-21T18:18:18.380Z"
   },
   {
    "duration": -1131,
    "start_time": "2022-02-21T18:18:18.394Z"
   },
   {
    "duration": -1136,
    "start_time": "2022-02-21T18:18:18.401Z"
   },
   {
    "duration": -1079,
    "start_time": "2022-02-21T18:18:18.405Z"
   },
   {
    "duration": -1084,
    "start_time": "2022-02-21T18:18:18.412Z"
   },
   {
    "duration": -1087,
    "start_time": "2022-02-21T18:18:18.416Z"
   },
   {
    "duration": 342,
    "start_time": "2022-02-21T18:20:22.685Z"
   },
   {
    "duration": 1551,
    "start_time": "2022-02-21T18:20:38.901Z"
   },
   {
    "duration": 34,
    "start_time": "2022-02-21T18:20:40.455Z"
   },
   {
    "duration": 82,
    "start_time": "2022-02-21T18:20:40.492Z"
   },
   {
    "duration": 66,
    "start_time": "2022-02-21T18:20:40.577Z"
   },
   {
    "duration": 6,
    "start_time": "2022-02-21T18:20:40.645Z"
   },
   {
    "duration": 11,
    "start_time": "2022-02-21T18:20:40.654Z"
   },
   {
    "duration": 73,
    "start_time": "2022-02-21T18:20:40.668Z"
   },
   {
    "duration": 7,
    "start_time": "2022-02-21T18:20:40.745Z"
   },
   {
    "duration": 76,
    "start_time": "2022-02-21T18:20:40.755Z"
   },
   {
    "duration": 9,
    "start_time": "2022-02-21T18:20:40.834Z"
   },
   {
    "duration": 9,
    "start_time": "2022-02-21T18:20:40.845Z"
   },
   {
    "duration": 8,
    "start_time": "2022-02-21T18:20:40.857Z"
   },
   {
    "duration": 59,
    "start_time": "2022-02-21T18:20:40.868Z"
   },
   {
    "duration": 13,
    "start_time": "2022-02-21T18:20:40.930Z"
   },
   {
    "duration": 11,
    "start_time": "2022-02-21T18:20:40.945Z"
   },
   {
    "duration": 7,
    "start_time": "2022-02-21T18:20:40.958Z"
   },
   {
    "duration": 70,
    "start_time": "2022-02-21T18:20:40.967Z"
   },
   {
    "duration": 7,
    "start_time": "2022-02-21T18:20:41.040Z"
   },
   {
    "duration": 7,
    "start_time": "2022-02-21T18:20:41.049Z"
   },
   {
    "duration": 80,
    "start_time": "2022-02-21T18:20:41.059Z"
   },
   {
    "duration": 43,
    "start_time": "2022-02-21T18:20:41.142Z"
   },
   {
    "duration": 367,
    "start_time": "2022-02-21T18:20:41.188Z"
   },
   {
    "duration": 204,
    "start_time": "2022-02-21T18:20:41.561Z"
   },
   {
    "duration": 6,
    "start_time": "2022-02-21T18:20:41.770Z"
   },
   {
    "duration": 1031,
    "start_time": "2022-02-21T18:20:41.779Z"
   },
   {
    "duration": 295,
    "start_time": "2022-02-21T18:20:42.813Z"
   },
   {
    "duration": 24,
    "start_time": "2022-02-21T18:20:43.110Z"
   },
   {
    "duration": 10,
    "start_time": "2022-02-21T18:20:43.136Z"
   },
   {
    "duration": 9,
    "start_time": "2022-02-21T18:20:43.149Z"
   },
   {
    "duration": 73,
    "start_time": "2022-02-21T18:20:43.160Z"
   },
   {
    "duration": 12,
    "start_time": "2022-02-21T18:20:43.235Z"
   },
   {
    "duration": 79,
    "start_time": "2022-02-21T18:20:43.250Z"
   },
   {
    "duration": 754,
    "start_time": "2022-02-21T18:20:43.332Z"
   },
   {
    "duration": 66,
    "start_time": "2022-02-21T18:20:44.089Z"
   },
   {
    "duration": 17,
    "start_time": "2022-02-21T18:20:44.157Z"
   },
   {
    "duration": 49,
    "start_time": "2022-02-21T18:20:44.177Z"
   },
   {
    "duration": 353,
    "start_time": "2022-02-21T18:20:44.229Z"
   },
   {
    "duration": 439,
    "start_time": "2022-02-21T18:20:44.584Z"
   },
   {
    "duration": 358,
    "start_time": "2022-02-21T18:20:45.027Z"
   },
   {
    "duration": 99,
    "start_time": "2022-02-21T18:20:45.388Z"
   },
   {
    "duration": 875,
    "start_time": "2022-02-21T18:20:45.489Z"
   },
   {
    "duration": 812,
    "start_time": "2022-02-21T18:20:46.367Z"
   },
   {
    "duration": 73,
    "start_time": "2022-02-21T18:20:47.182Z"
   },
   {
    "duration": 1512,
    "start_time": "2022-02-21T18:20:47.257Z"
   },
   {
    "duration": 739,
    "start_time": "2022-02-21T18:20:48.772Z"
   },
   {
    "duration": 24,
    "start_time": "2022-02-21T18:20:49.514Z"
   },
   {
    "duration": 8,
    "start_time": "2022-02-21T18:20:49.541Z"
   },
   {
    "duration": 366,
    "start_time": "2022-02-21T18:20:49.552Z"
   },
   {
    "duration": 382,
    "start_time": "2022-02-21T18:20:49.921Z"
   },
   {
    "duration": 42,
    "start_time": "2022-02-21T18:20:50.306Z"
   },
   {
    "duration": 436,
    "start_time": "2022-02-21T18:20:50.352Z"
   },
   {
    "duration": 498,
    "start_time": "2022-02-21T18:20:50.790Z"
   },
   {
    "duration": 424,
    "start_time": "2022-02-21T18:20:51.291Z"
   },
   {
    "duration": 17,
    "start_time": "2022-02-21T18:20:51.718Z"
   },
   {
    "duration": 31,
    "start_time": "2022-02-21T18:20:51.738Z"
   },
   {
    "duration": 11,
    "start_time": "2022-02-21T18:20:51.772Z"
   },
   {
    "duration": 46,
    "start_time": "2022-02-21T18:20:51.785Z"
   },
   {
    "duration": 9,
    "start_time": "2022-02-21T18:20:51.834Z"
   },
   {
    "duration": 9,
    "start_time": "2022-02-21T18:20:51.845Z"
   },
   {
    "duration": 7,
    "start_time": "2022-02-21T18:20:51.856Z"
   },
   {
    "duration": 7,
    "start_time": "2022-02-21T18:20:51.865Z"
   },
   {
    "duration": 9,
    "start_time": "2022-02-21T18:20:51.927Z"
   },
   {
    "duration": 9,
    "start_time": "2022-02-21T18:20:51.938Z"
   },
   {
    "duration": 10,
    "start_time": "2022-02-21T18:20:51.950Z"
   },
   {
    "duration": 7,
    "start_time": "2022-02-21T18:20:51.962Z"
   },
   {
    "duration": 7,
    "start_time": "2022-02-21T18:20:51.971Z"
   },
   {
    "duration": 5,
    "start_time": "2022-02-21T18:20:52.027Z"
   },
   {
    "duration": 6,
    "start_time": "2022-02-21T18:20:52.039Z"
   },
   {
    "duration": 14,
    "start_time": "2022-02-21T18:23:23.442Z"
   },
   {
    "duration": 50,
    "start_time": "2022-02-21T18:23:27.367Z"
   },
   {
    "duration": 16,
    "start_time": "2022-02-21T18:24:09.527Z"
   },
   {
    "duration": 53,
    "start_time": "2022-02-21T18:24:11.920Z"
   },
   {
    "duration": 15,
    "start_time": "2022-02-21T18:24:33.393Z"
   },
   {
    "duration": 56,
    "start_time": "2022-02-21T18:24:35.738Z"
   },
   {
    "duration": 1569,
    "start_time": "2022-02-21T18:24:42.188Z"
   },
   {
    "duration": 34,
    "start_time": "2022-02-21T18:24:43.759Z"
   },
   {
    "duration": 79,
    "start_time": "2022-02-21T18:24:43.796Z"
   },
   {
    "duration": 63,
    "start_time": "2022-02-21T18:24:43.877Z"
   },
   {
    "duration": 7,
    "start_time": "2022-02-21T18:24:43.942Z"
   },
   {
    "duration": 8,
    "start_time": "2022-02-21T18:24:43.951Z"
   },
   {
    "duration": 71,
    "start_time": "2022-02-21T18:24:43.962Z"
   },
   {
    "duration": 7,
    "start_time": "2022-02-21T18:24:44.036Z"
   },
   {
    "duration": 43,
    "start_time": "2022-02-21T18:24:44.045Z"
   },
   {
    "duration": 43,
    "start_time": "2022-02-21T18:24:44.090Z"
   },
   {
    "duration": 9,
    "start_time": "2022-02-21T18:24:44.136Z"
   },
   {
    "duration": 8,
    "start_time": "2022-02-21T18:24:44.147Z"
   },
   {
    "duration": 9,
    "start_time": "2022-02-21T18:24:44.157Z"
   },
   {
    "duration": 65,
    "start_time": "2022-02-21T18:24:44.169Z"
   },
   {
    "duration": 10,
    "start_time": "2022-02-21T18:24:44.237Z"
   },
   {
    "duration": 6,
    "start_time": "2022-02-21T18:24:44.250Z"
   },
   {
    "duration": 20,
    "start_time": "2022-02-21T18:24:44.259Z"
   },
   {
    "duration": 47,
    "start_time": "2022-02-21T18:24:44.282Z"
   },
   {
    "duration": 20,
    "start_time": "2022-02-21T18:24:44.332Z"
   },
   {
    "duration": 73,
    "start_time": "2022-02-21T18:24:44.354Z"
   },
   {
    "duration": 41,
    "start_time": "2022-02-21T18:24:44.430Z"
   },
   {
    "duration": 354,
    "start_time": "2022-02-21T18:24:44.473Z"
   },
   {
    "duration": 193,
    "start_time": "2022-02-21T18:24:44.833Z"
   },
   {
    "duration": 6,
    "start_time": "2022-02-21T18:24:45.031Z"
   },
   {
    "duration": 946,
    "start_time": "2022-02-21T18:24:45.039Z"
   },
   {
    "duration": 291,
    "start_time": "2022-02-21T18:24:45.989Z"
   },
   {
    "duration": 12,
    "start_time": "2022-02-21T18:24:46.283Z"
   },
   {
    "duration": 34,
    "start_time": "2022-02-21T18:24:46.297Z"
   },
   {
    "duration": 12,
    "start_time": "2022-02-21T18:24:46.334Z"
   },
   {
    "duration": 34,
    "start_time": "2022-02-21T18:24:46.349Z"
   },
   {
    "duration": 22,
    "start_time": "2022-02-21T18:24:46.426Z"
   },
   {
    "duration": 93,
    "start_time": "2022-02-21T18:24:46.451Z"
   },
   {
    "duration": 732,
    "start_time": "2022-02-21T18:24:46.547Z"
   },
   {
    "duration": 59,
    "start_time": "2022-02-21T18:24:47.282Z"
   },
   {
    "duration": 17,
    "start_time": "2022-02-21T18:24:47.344Z"
   },
   {
    "duration": 18,
    "start_time": "2022-02-21T18:24:47.363Z"
   },
   {
    "duration": 382,
    "start_time": "2022-02-21T18:24:47.384Z"
   },
   {
    "duration": 446,
    "start_time": "2022-02-21T18:24:47.769Z"
   },
   {
    "duration": 358,
    "start_time": "2022-02-21T18:24:48.217Z"
   },
   {
    "duration": 65,
    "start_time": "2022-02-21T18:24:48.578Z"
   },
   {
    "duration": 765,
    "start_time": "2022-02-21T18:24:48.645Z"
   },
   {
    "duration": 814,
    "start_time": "2022-02-21T18:24:49.412Z"
   },
   {
    "duration": 51,
    "start_time": "2022-02-21T18:24:50.229Z"
   },
   {
    "duration": 1521,
    "start_time": "2022-02-21T18:24:50.283Z"
   },
   {
    "duration": 700,
    "start_time": "2022-02-21T18:24:51.807Z"
   },
   {
    "duration": 22,
    "start_time": "2022-02-21T18:24:52.510Z"
   },
   {
    "duration": 15,
    "start_time": "2022-02-21T18:24:52.535Z"
   },
   {
    "duration": 373,
    "start_time": "2022-02-21T18:24:52.553Z"
   },
   {
    "duration": 393,
    "start_time": "2022-02-21T18:24:52.929Z"
   },
   {
    "duration": 30,
    "start_time": "2022-02-21T18:24:53.324Z"
   },
   {
    "duration": 436,
    "start_time": "2022-02-21T18:24:53.356Z"
   },
   {
    "duration": 522,
    "start_time": "2022-02-21T18:24:53.795Z"
   },
   {
    "duration": 410,
    "start_time": "2022-02-21T18:24:54.319Z"
   },
   {
    "duration": 13,
    "start_time": "2022-02-21T18:24:54.731Z"
   },
   {
    "duration": 31,
    "start_time": "2022-02-21T18:24:54.746Z"
   },
   {
    "duration": 52,
    "start_time": "2022-02-21T18:24:54.781Z"
   },
   {
    "duration": 10,
    "start_time": "2022-02-21T18:24:54.835Z"
   },
   {
    "duration": 6,
    "start_time": "2022-02-21T18:24:54.848Z"
   },
   {
    "duration": 9,
    "start_time": "2022-02-21T18:24:54.856Z"
   },
   {
    "duration": 9,
    "start_time": "2022-02-21T18:24:54.868Z"
   },
   {
    "duration": 5,
    "start_time": "2022-02-21T18:24:54.927Z"
   },
   {
    "duration": 13,
    "start_time": "2022-02-21T18:24:54.935Z"
   },
   {
    "duration": 15,
    "start_time": "2022-02-21T18:24:54.951Z"
   },
   {
    "duration": 6,
    "start_time": "2022-02-21T18:24:54.969Z"
   },
   {
    "duration": 53,
    "start_time": "2022-02-21T18:24:54.978Z"
   },
   {
    "duration": 10,
    "start_time": "2022-02-21T18:24:55.034Z"
   },
   {
    "duration": 6,
    "start_time": "2022-02-21T18:24:55.047Z"
   },
   {
    "duration": 7,
    "start_time": "2022-02-21T18:24:55.060Z"
   },
   {
    "duration": 29,
    "start_time": "2022-02-21T18:26:37.584Z"
   },
   {
    "duration": 47,
    "start_time": "2022-02-21T18:30:59.618Z"
   },
   {
    "duration": 277,
    "start_time": "2022-02-21T20:17:42.482Z"
   },
   {
    "duration": 48,
    "start_time": "2022-02-21T20:20:19.610Z"
   },
   {
    "duration": 403,
    "start_time": "2022-02-21T20:21:28.448Z"
   },
   {
    "duration": 27,
    "start_time": "2022-02-21T20:21:32.793Z"
   },
   {
    "duration": 6,
    "start_time": "2022-02-21T20:21:58.084Z"
   },
   {
    "duration": 986,
    "start_time": "2022-02-21T20:22:52.522Z"
   },
   {
    "duration": 840,
    "start_time": "2022-02-21T20:23:05.115Z"
   },
   {
    "duration": 45,
    "start_time": "2022-02-21T20:23:09.979Z"
   },
   {
    "duration": 1075,
    "start_time": "2022-02-23T05:49:06.190Z"
   },
   {
    "duration": 22,
    "start_time": "2022-02-23T05:49:07.267Z"
   },
   {
    "duration": 54,
    "start_time": "2022-02-23T05:49:07.291Z"
   },
   {
    "duration": 27,
    "start_time": "2022-02-23T05:49:07.347Z"
   },
   {
    "duration": 4,
    "start_time": "2022-02-23T05:49:07.375Z"
   },
   {
    "duration": 6,
    "start_time": "2022-02-23T05:49:07.380Z"
   },
   {
    "duration": 50,
    "start_time": "2022-02-23T05:49:07.388Z"
   },
   {
    "duration": 4,
    "start_time": "2022-02-23T05:49:07.441Z"
   },
   {
    "duration": 29,
    "start_time": "2022-02-23T05:49:07.447Z"
   },
   {
    "duration": 6,
    "start_time": "2022-02-23T05:49:07.478Z"
   },
   {
    "duration": 11,
    "start_time": "2022-02-23T05:49:07.485Z"
   },
   {
    "duration": 6,
    "start_time": "2022-02-23T05:49:07.498Z"
   },
   {
    "duration": 29,
    "start_time": "2022-02-23T05:49:07.505Z"
   },
   {
    "duration": 8,
    "start_time": "2022-02-23T05:49:07.536Z"
   },
   {
    "duration": 7,
    "start_time": "2022-02-23T05:49:07.545Z"
   },
   {
    "duration": 4,
    "start_time": "2022-02-23T05:49:07.554Z"
   },
   {
    "duration": 16,
    "start_time": "2022-02-23T05:49:07.559Z"
   },
   {
    "duration": 5,
    "start_time": "2022-02-23T05:49:07.576Z"
   },
   {
    "duration": 5,
    "start_time": "2022-02-23T05:49:07.582Z"
   },
   {
    "duration": 63,
    "start_time": "2022-02-23T05:49:07.588Z"
   },
   {
    "duration": 26,
    "start_time": "2022-02-23T05:49:07.652Z"
   },
   {
    "duration": 206,
    "start_time": "2022-02-23T05:49:07.680Z"
   },
   {
    "duration": 111,
    "start_time": "2022-02-23T05:49:07.890Z"
   },
   {
    "duration": 5,
    "start_time": "2022-02-23T05:49:08.003Z"
   },
   {
    "duration": 603,
    "start_time": "2022-02-23T05:49:08.009Z"
   },
   {
    "duration": 171,
    "start_time": "2022-02-23T05:49:08.614Z"
   },
   {
    "duration": 10,
    "start_time": "2022-02-23T05:49:08.787Z"
   },
   {
    "duration": 8,
    "start_time": "2022-02-23T05:49:08.799Z"
   },
   {
    "duration": 6,
    "start_time": "2022-02-23T05:49:08.831Z"
   },
   {
    "duration": 21,
    "start_time": "2022-02-23T05:49:08.838Z"
   },
   {
    "duration": 11,
    "start_time": "2022-02-23T05:49:08.861Z"
   },
   {
    "duration": 56,
    "start_time": "2022-02-23T05:49:08.874Z"
   },
   {
    "duration": 421,
    "start_time": "2022-02-23T05:49:08.932Z"
   },
   {
    "duration": 20,
    "start_time": "2022-02-23T05:49:09.354Z"
   },
   {
    "duration": 12,
    "start_time": "2022-02-23T05:49:09.375Z"
   },
   {
    "duration": 201,
    "start_time": "2022-02-23T05:49:09.388Z"
   },
   {
    "duration": 298,
    "start_time": "2022-02-23T05:49:09.590Z"
   },
   {
    "duration": 206,
    "start_time": "2022-02-23T05:49:09.889Z"
   },
   {
    "duration": 197,
    "start_time": "2022-02-23T05:49:10.097Z"
   },
   {
    "duration": 202,
    "start_time": "2022-02-23T05:49:10.296Z"
   },
   {
    "duration": 55,
    "start_time": "2022-02-23T05:49:10.500Z"
   },
   {
    "duration": 491,
    "start_time": "2022-02-23T05:49:10.556Z"
   },
   {
    "duration": 422,
    "start_time": "2022-02-23T05:49:11.049Z"
   },
   {
    "duration": 27,
    "start_time": "2022-02-23T05:49:11.472Z"
   },
   {
    "duration": 921,
    "start_time": "2022-02-23T05:49:11.501Z"
   },
   {
    "duration": 457,
    "start_time": "2022-02-23T05:49:12.424Z"
   },
   {
    "duration": 11,
    "start_time": "2022-02-23T05:49:12.883Z"
   },
   {
    "duration": 8,
    "start_time": "2022-02-23T05:49:12.896Z"
   },
   {
    "duration": 213,
    "start_time": "2022-02-23T05:49:12.905Z"
   },
   {
    "duration": 278,
    "start_time": "2022-02-23T05:49:13.120Z"
   },
   {
    "duration": 18,
    "start_time": "2022-02-23T05:49:13.400Z"
   },
   {
    "duration": 238,
    "start_time": "2022-02-23T05:49:13.430Z"
   },
   {
    "duration": 238,
    "start_time": "2022-02-23T05:49:13.670Z"
   },
   {
    "duration": 230,
    "start_time": "2022-02-23T05:49:13.910Z"
   },
   {
    "duration": 9,
    "start_time": "2022-02-23T05:49:14.141Z"
   },
   {
    "duration": 20,
    "start_time": "2022-02-23T05:49:14.152Z"
   },
   {
    "duration": 7,
    "start_time": "2022-02-23T05:49:14.173Z"
   },
   {
    "duration": 9,
    "start_time": "2022-02-23T05:49:14.182Z"
   },
   {
    "duration": 4,
    "start_time": "2022-02-23T05:49:14.192Z"
   },
   {
    "duration": 35,
    "start_time": "2022-02-23T05:49:14.197Z"
   },
   {
    "duration": 4,
    "start_time": "2022-02-23T05:49:14.234Z"
   },
   {
    "duration": 5,
    "start_time": "2022-02-23T05:49:14.239Z"
   },
   {
    "duration": 4,
    "start_time": "2022-02-23T05:49:14.246Z"
   },
   {
    "duration": 11,
    "start_time": "2022-02-23T05:49:14.252Z"
   },
   {
    "duration": 4,
    "start_time": "2022-02-23T05:49:14.264Z"
   },
   {
    "duration": 10,
    "start_time": "2022-02-23T05:49:14.270Z"
   },
   {
    "duration": 5,
    "start_time": "2022-02-23T05:49:14.282Z"
   },
   {
    "duration": 38,
    "start_time": "2022-02-23T05:49:14.292Z"
   },
   {
    "duration": 5,
    "start_time": "2022-02-23T05:49:14.332Z"
   },
   {
    "duration": 13,
    "start_time": "2022-02-23T05:49:47.651Z"
   },
   {
    "duration": 162,
    "start_time": "2022-02-23T05:49:57.309Z"
   },
   {
    "duration": 271,
    "start_time": "2022-02-23T05:50:07.438Z"
   },
   {
    "duration": 201,
    "start_time": "2022-02-23T05:50:23.151Z"
   },
   {
    "duration": 199,
    "start_time": "2022-02-23T05:50:55.177Z"
   },
   {
    "duration": 14,
    "start_time": "2022-02-23T05:52:19.380Z"
   },
   {
    "duration": 6,
    "start_time": "2022-02-23T05:54:41.858Z"
   },
   {
    "duration": 12,
    "start_time": "2022-02-23T05:55:01.468Z"
   },
   {
    "duration": 6,
    "start_time": "2022-02-23T05:55:04.220Z"
   },
   {
    "duration": 199,
    "start_time": "2022-02-23T06:00:47.199Z"
   },
   {
    "duration": 4,
    "start_time": "2022-02-23T06:01:04.327Z"
   },
   {
    "duration": 3,
    "start_time": "2022-02-23T06:01:11.561Z"
   },
   {
    "duration": 11,
    "start_time": "2022-02-23T06:01:22.258Z"
   },
   {
    "duration": 7,
    "start_time": "2022-02-23T06:02:00.009Z"
   },
   {
    "duration": 2809,
    "start_time": "2022-02-23T06:03:15.421Z"
   },
   {
    "duration": -115,
    "start_time": "2022-02-23T06:03:34.230Z"
   },
   {
    "duration": 8,
    "start_time": "2022-02-23T06:03:42.903Z"
   },
   {
    "duration": -115,
    "start_time": "2022-02-23T06:04:03.521Z"
   },
   {
    "duration": 1098,
    "start_time": "2022-02-23T06:04:12.038Z"
   },
   {
    "duration": 20,
    "start_time": "2022-02-23T06:04:13.137Z"
   },
   {
    "duration": 49,
    "start_time": "2022-02-23T06:04:13.161Z"
   },
   {
    "duration": 36,
    "start_time": "2022-02-23T06:04:13.212Z"
   },
   {
    "duration": 4,
    "start_time": "2022-02-23T06:04:13.249Z"
   },
   {
    "duration": 6,
    "start_time": "2022-02-23T06:04:13.255Z"
   },
   {
    "duration": 22,
    "start_time": "2022-02-23T06:04:13.263Z"
   },
   {
    "duration": 4,
    "start_time": "2022-02-23T06:04:13.287Z"
   },
   {
    "duration": 52,
    "start_time": "2022-02-23T06:04:13.292Z"
   },
   {
    "duration": 6,
    "start_time": "2022-02-23T06:04:13.345Z"
   },
   {
    "duration": 6,
    "start_time": "2022-02-23T06:04:13.352Z"
   },
   {
    "duration": 6,
    "start_time": "2022-02-23T06:04:13.359Z"
   },
   {
    "duration": 5,
    "start_time": "2022-02-23T06:04:13.367Z"
   },
   {
    "duration": 8,
    "start_time": "2022-02-23T06:04:13.373Z"
   },
   {
    "duration": 7,
    "start_time": "2022-02-23T06:04:13.382Z"
   },
   {
    "duration": 40,
    "start_time": "2022-02-23T06:04:13.390Z"
   },
   {
    "duration": 13,
    "start_time": "2022-02-23T06:04:13.432Z"
   },
   {
    "duration": 4,
    "start_time": "2022-02-23T06:04:13.447Z"
   },
   {
    "duration": 6,
    "start_time": "2022-02-23T06:04:13.452Z"
   },
   {
    "duration": 26,
    "start_time": "2022-02-23T06:04:13.459Z"
   },
   {
    "duration": 55,
    "start_time": "2022-02-23T06:04:13.486Z"
   },
   {
    "duration": 192,
    "start_time": "2022-02-23T06:04:13.544Z"
   },
   {
    "duration": 114,
    "start_time": "2022-02-23T06:04:13.738Z"
   },
   {
    "duration": 4,
    "start_time": "2022-02-23T06:04:13.854Z"
   },
   {
    "duration": 594,
    "start_time": "2022-02-23T06:04:13.860Z"
   },
   {
    "duration": 161,
    "start_time": "2022-02-23T06:04:14.456Z"
   },
   {
    "duration": 12,
    "start_time": "2022-02-23T06:04:14.619Z"
   },
   {
    "duration": 8,
    "start_time": "2022-02-23T06:04:14.633Z"
   },
   {
    "duration": 7,
    "start_time": "2022-02-23T06:04:14.642Z"
   },
   {
    "duration": 21,
    "start_time": "2022-02-23T06:04:14.650Z"
   },
   {
    "duration": 12,
    "start_time": "2022-02-23T06:04:14.672Z"
   },
   {
    "duration": 70,
    "start_time": "2022-02-23T06:04:14.686Z"
   },
   {
    "duration": 433,
    "start_time": "2022-02-23T06:04:14.758Z"
   },
   {
    "duration": 21,
    "start_time": "2022-02-23T06:04:15.193Z"
   },
   {
    "duration": 382,
    "start_time": "2022-02-23T06:04:15.216Z"
   },
   {
    "duration": -75,
    "start_time": "2022-02-23T06:04:15.676Z"
   },
   {
    "duration": -82,
    "start_time": "2022-02-23T06:04:15.684Z"
   },
   {
    "duration": -84,
    "start_time": "2022-02-23T06:04:15.687Z"
   },
   {
    "duration": -89,
    "start_time": "2022-02-23T06:04:15.693Z"
   },
   {
    "duration": -92,
    "start_time": "2022-02-23T06:04:15.697Z"
   },
   {
    "duration": -95,
    "start_time": "2022-02-23T06:04:15.701Z"
   },
   {
    "duration": -99,
    "start_time": "2022-02-23T06:04:15.706Z"
   },
   {
    "duration": -102,
    "start_time": "2022-02-23T06:04:15.710Z"
   },
   {
    "duration": -104,
    "start_time": "2022-02-23T06:04:15.713Z"
   },
   {
    "duration": -110,
    "start_time": "2022-02-23T06:04:15.721Z"
   },
   {
    "duration": -112,
    "start_time": "2022-02-23T06:04:15.724Z"
   },
   {
    "duration": -115,
    "start_time": "2022-02-23T06:04:15.728Z"
   },
   {
    "duration": -121,
    "start_time": "2022-02-23T06:04:15.735Z"
   },
   {
    "duration": -123,
    "start_time": "2022-02-23T06:04:15.738Z"
   },
   {
    "duration": -126,
    "start_time": "2022-02-23T06:04:15.742Z"
   },
   {
    "duration": -132,
    "start_time": "2022-02-23T06:04:15.749Z"
   },
   {
    "duration": -134,
    "start_time": "2022-02-23T06:04:15.752Z"
   },
   {
    "duration": -136,
    "start_time": "2022-02-23T06:04:15.755Z"
   },
   {
    "duration": -143,
    "start_time": "2022-02-23T06:04:15.763Z"
   },
   {
    "duration": -145,
    "start_time": "2022-02-23T06:04:15.766Z"
   },
   {
    "duration": -148,
    "start_time": "2022-02-23T06:04:15.769Z"
   },
   {
    "duration": -154,
    "start_time": "2022-02-23T06:04:15.776Z"
   },
   {
    "duration": -156,
    "start_time": "2022-02-23T06:04:15.779Z"
   },
   {
    "duration": -159,
    "start_time": "2022-02-23T06:04:15.783Z"
   },
   {
    "duration": -165,
    "start_time": "2022-02-23T06:04:15.790Z"
   },
   {
    "duration": -167,
    "start_time": "2022-02-23T06:04:15.793Z"
   },
   {
    "duration": -169,
    "start_time": "2022-02-23T06:04:15.796Z"
   },
   {
    "duration": -175,
    "start_time": "2022-02-23T06:04:15.803Z"
   },
   {
    "duration": -178,
    "start_time": "2022-02-23T06:04:15.807Z"
   },
   {
    "duration": -183,
    "start_time": "2022-02-23T06:04:15.813Z"
   },
   {
    "duration": -187,
    "start_time": "2022-02-23T06:04:15.817Z"
   },
   {
    "duration": -188,
    "start_time": "2022-02-23T06:04:15.819Z"
   },
   {
    "duration": -195,
    "start_time": "2022-02-23T06:04:15.827Z"
   },
   {
    "duration": -197,
    "start_time": "2022-02-23T06:04:15.830Z"
   },
   {
    "duration": -200,
    "start_time": "2022-02-23T06:04:15.834Z"
   },
   {
    "duration": -206,
    "start_time": "2022-02-23T06:04:15.841Z"
   },
   {
    "duration": -209,
    "start_time": "2022-02-23T06:04:15.845Z"
   },
   {
    "duration": -211,
    "start_time": "2022-02-23T06:04:15.848Z"
   },
   {
    "duration": 13,
    "start_time": "2022-02-23T06:04:39.324Z"
   },
   {
    "duration": 7,
    "start_time": "2022-02-23T06:04:42.443Z"
   },
   {
    "duration": 5321,
    "start_time": "2022-02-23T06:04:45.988Z"
   },
   {
    "duration": 7,
    "start_time": "2022-02-23T06:05:06.007Z"
   },
   {
    "duration": 5,
    "start_time": "2022-02-23T06:05:16.015Z"
   },
   {
    "duration": 230,
    "start_time": "2022-02-23T06:06:10.261Z"
   },
   {
    "duration": 11,
    "start_time": "2022-02-23T06:06:18.046Z"
   },
   {
    "duration": 201,
    "start_time": "2022-02-23T06:06:29.526Z"
   },
   {
    "duration": 3,
    "start_time": "2022-02-23T06:06:39.720Z"
   },
   {
    "duration": 6,
    "start_time": "2022-02-23T06:06:45.250Z"
   },
   {
    "duration": 5,
    "start_time": "2022-02-23T06:06:54.905Z"
   },
   {
    "duration": 4,
    "start_time": "2022-02-23T06:07:07.298Z"
   },
   {
    "duration": 13,
    "start_time": "2022-02-23T06:07:26.229Z"
   },
   {
    "duration": 16,
    "start_time": "2022-02-23T06:08:12.129Z"
   },
   {
    "duration": 191,
    "start_time": "2022-02-23T06:08:36.555Z"
   },
   {
    "duration": 264,
    "start_time": "2022-02-23T06:08:50.613Z"
   },
   {
    "duration": 185,
    "start_time": "2022-02-23T06:11:13.771Z"
   },
   {
    "duration": 197,
    "start_time": "2022-02-23T06:11:29.173Z"
   },
   {
    "duration": 181,
    "start_time": "2022-02-23T06:11:44.598Z"
   },
   {
    "duration": 176,
    "start_time": "2022-02-23T06:15:30.230Z"
   },
   {
    "duration": 58,
    "start_time": "2022-02-23T06:15:46.144Z"
   },
   {
    "duration": 194,
    "start_time": "2022-02-23T06:15:49.311Z"
   },
   {
    "duration": 187,
    "start_time": "2022-02-23T06:16:25.763Z"
   },
   {
    "duration": 337,
    "start_time": "2022-02-23T06:17:23.817Z"
   },
   {
    "duration": 396,
    "start_time": "2022-02-23T06:18:09.926Z"
   },
   {
    "duration": 185,
    "start_time": "2022-02-23T06:18:30.360Z"
   },
   {
    "duration": 190,
    "start_time": "2022-02-23T06:18:51.465Z"
   },
   {
    "duration": 322,
    "start_time": "2022-02-23T06:19:03.019Z"
   },
   {
    "duration": 203,
    "start_time": "2022-02-23T06:19:23.829Z"
   },
   {
    "duration": 184,
    "start_time": "2022-02-23T06:19:38.198Z"
   },
   {
    "duration": 63,
    "start_time": "2022-02-23T06:19:54.704Z"
   },
   {
    "duration": 201,
    "start_time": "2022-02-23T06:20:00.249Z"
   },
   {
    "duration": 179,
    "start_time": "2022-02-23T06:21:03.759Z"
   },
   {
    "duration": 201,
    "start_time": "2022-02-23T06:21:47.819Z"
   },
   {
    "duration": 11,
    "start_time": "2022-02-23T06:22:22.831Z"
   },
   {
    "duration": 12,
    "start_time": "2022-02-23T06:22:36.345Z"
   },
   {
    "duration": 15,
    "start_time": "2022-02-23T06:23:05.516Z"
   },
   {
    "duration": 14,
    "start_time": "2022-02-23T06:23:07.708Z"
   },
   {
    "duration": 196,
    "start_time": "2022-02-23T06:23:10.655Z"
   },
   {
    "duration": 189,
    "start_time": "2022-02-23T06:23:39.742Z"
   },
   {
    "duration": 169,
    "start_time": "2022-02-23T06:23:55.512Z"
   },
   {
    "duration": 153,
    "start_time": "2022-02-23T06:24:50.349Z"
   },
   {
    "duration": 179,
    "start_time": "2022-02-23T06:25:31.561Z"
   },
   {
    "duration": 211,
    "start_time": "2022-02-23T06:25:43.003Z"
   },
   {
    "duration": 175,
    "start_time": "2022-02-23T06:25:52.596Z"
   },
   {
    "duration": 167,
    "start_time": "2022-02-23T06:26:11.110Z"
   },
   {
    "duration": 254,
    "start_time": "2022-02-23T06:26:49.082Z"
   },
   {
    "duration": 25,
    "start_time": "2022-02-23T06:31:36.606Z"
   },
   {
    "duration": 169,
    "start_time": "2022-02-23T06:33:22.593Z"
   },
   {
    "duration": 187,
    "start_time": "2022-02-23T06:33:32.346Z"
   },
   {
    "duration": 181,
    "start_time": "2022-02-23T06:33:46.044Z"
   },
   {
    "duration": 192,
    "start_time": "2022-02-23T06:34:02.478Z"
   },
   {
    "duration": 261,
    "start_time": "2022-02-23T06:34:10.406Z"
   },
   {
    "duration": 166,
    "start_time": "2022-02-23T06:34:23.688Z"
   },
   {
    "duration": 174,
    "start_time": "2022-02-23T06:34:33.312Z"
   },
   {
    "duration": 186,
    "start_time": "2022-02-23T06:34:37.144Z"
   },
   {
    "duration": 167,
    "start_time": "2022-02-23T06:35:18.253Z"
   },
   {
    "duration": 419,
    "start_time": "2022-02-23T06:37:10.248Z"
   },
   {
    "duration": 1107,
    "start_time": "2022-02-23T07:14:03.856Z"
   },
   {
    "duration": 23,
    "start_time": "2022-02-23T07:14:04.965Z"
   },
   {
    "duration": 55,
    "start_time": "2022-02-23T07:14:04.990Z"
   },
   {
    "duration": 32,
    "start_time": "2022-02-23T07:14:05.047Z"
   },
   {
    "duration": 5,
    "start_time": "2022-02-23T07:14:05.081Z"
   },
   {
    "duration": 6,
    "start_time": "2022-02-23T07:14:05.088Z"
   },
   {
    "duration": 48,
    "start_time": "2022-02-23T07:14:05.096Z"
   },
   {
    "duration": 5,
    "start_time": "2022-02-23T07:14:05.148Z"
   },
   {
    "duration": 32,
    "start_time": "2022-02-23T07:14:05.155Z"
   },
   {
    "duration": 6,
    "start_time": "2022-02-23T07:14:05.189Z"
   },
   {
    "duration": 33,
    "start_time": "2022-02-23T07:14:05.197Z"
   },
   {
    "duration": 11,
    "start_time": "2022-02-23T07:14:05.232Z"
   },
   {
    "duration": 24,
    "start_time": "2022-02-23T07:14:05.244Z"
   },
   {
    "duration": 8,
    "start_time": "2022-02-23T07:14:05.270Z"
   },
   {
    "duration": 9,
    "start_time": "2022-02-23T07:14:05.280Z"
   },
   {
    "duration": 6,
    "start_time": "2022-02-23T07:14:05.291Z"
   },
   {
    "duration": 33,
    "start_time": "2022-02-23T07:14:05.299Z"
   },
   {
    "duration": 5,
    "start_time": "2022-02-23T07:14:05.334Z"
   },
   {
    "duration": 6,
    "start_time": "2022-02-23T07:14:05.341Z"
   },
   {
    "duration": 29,
    "start_time": "2022-02-23T07:14:05.349Z"
   },
   {
    "duration": 55,
    "start_time": "2022-02-23T07:14:05.380Z"
   },
   {
    "duration": 206,
    "start_time": "2022-02-23T07:14:05.437Z"
   },
   {
    "duration": 119,
    "start_time": "2022-02-23T07:14:05.646Z"
   },
   {
    "duration": 4,
    "start_time": "2022-02-23T07:14:05.768Z"
   },
   {
    "duration": 615,
    "start_time": "2022-02-23T07:14:05.774Z"
   },
   {
    "duration": 169,
    "start_time": "2022-02-23T07:14:06.391Z"
   },
   {
    "duration": 11,
    "start_time": "2022-02-23T07:14:06.563Z"
   },
   {
    "duration": 9,
    "start_time": "2022-02-23T07:14:06.576Z"
   },
   {
    "duration": 7,
    "start_time": "2022-02-23T07:14:06.587Z"
   },
   {
    "duration": 56,
    "start_time": "2022-02-23T07:14:06.596Z"
   },
   {
    "duration": 17,
    "start_time": "2022-02-23T07:14:06.654Z"
   },
   {
    "duration": 32,
    "start_time": "2022-02-23T07:14:06.674Z"
   },
   {
    "duration": 432,
    "start_time": "2022-02-23T07:14:06.708Z"
   },
   {
    "duration": 19,
    "start_time": "2022-02-23T07:14:07.142Z"
   },
   {
    "duration": 10,
    "start_time": "2022-02-23T07:14:07.163Z"
   },
   {
    "duration": 14,
    "start_time": "2022-02-23T07:14:07.175Z"
   },
   {
    "duration": 227,
    "start_time": "2022-02-23T07:14:07.191Z"
   },
   {
    "duration": 272,
    "start_time": "2022-02-23T07:14:07.420Z"
   },
   {
    "duration": 197,
    "start_time": "2022-02-23T07:14:07.693Z"
   },
   {
    "duration": 191,
    "start_time": "2022-02-23T07:14:07.892Z"
   },
   {
    "duration": 181,
    "start_time": "2022-02-23T07:14:08.085Z"
   },
   {
    "duration": 176,
    "start_time": "2022-02-23T07:14:08.268Z"
   },
   {
    "duration": 184,
    "start_time": "2022-02-23T07:14:08.446Z"
   },
   {
    "duration": 28,
    "start_time": "2022-02-23T07:14:08.632Z"
   },
   {
    "duration": 479,
    "start_time": "2022-02-23T07:14:08.662Z"
   },
   {
    "duration": 429,
    "start_time": "2022-02-23T07:14:09.143Z"
   },
   {
    "duration": 29,
    "start_time": "2022-02-23T07:14:09.573Z"
   },
   {
    "duration": 933,
    "start_time": "2022-02-23T07:14:09.603Z"
   },
   {
    "duration": 546,
    "start_time": "2022-02-23T07:14:10.537Z"
   },
   {
    "duration": 11,
    "start_time": "2022-02-23T07:14:11.085Z"
   },
   {
    "duration": 7,
    "start_time": "2022-02-23T07:14:11.098Z"
   },
   {
    "duration": 203,
    "start_time": "2022-02-23T07:14:11.107Z"
   },
   {
    "duration": 213,
    "start_time": "2022-02-23T07:14:11.311Z"
   },
   {
    "duration": 21,
    "start_time": "2022-02-23T07:14:11.526Z"
   },
   {
    "duration": 245,
    "start_time": "2022-02-23T07:14:11.549Z"
   },
   {
    "duration": 240,
    "start_time": "2022-02-23T07:14:11.795Z"
   },
   {
    "duration": 232,
    "start_time": "2022-02-23T07:14:12.037Z"
   },
   {
    "duration": 8,
    "start_time": "2022-02-23T07:14:12.271Z"
   },
   {
    "duration": 20,
    "start_time": "2022-02-23T07:14:12.281Z"
   },
   {
    "duration": 27,
    "start_time": "2022-02-23T07:14:12.303Z"
   },
   {
    "duration": 8,
    "start_time": "2022-02-23T07:14:12.332Z"
   },
   {
    "duration": 5,
    "start_time": "2022-02-23T07:14:12.342Z"
   },
   {
    "duration": 4,
    "start_time": "2022-02-23T07:14:12.349Z"
   },
   {
    "duration": 7,
    "start_time": "2022-02-23T07:14:12.355Z"
   },
   {
    "duration": 7,
    "start_time": "2022-02-23T07:14:12.364Z"
   },
   {
    "duration": 8,
    "start_time": "2022-02-23T07:14:12.373Z"
   },
   {
    "duration": 11,
    "start_time": "2022-02-23T07:14:12.382Z"
   },
   {
    "duration": 5,
    "start_time": "2022-02-23T07:14:12.430Z"
   },
   {
    "duration": 11,
    "start_time": "2022-02-23T07:14:12.438Z"
   },
   {
    "duration": 5,
    "start_time": "2022-02-23T07:14:12.451Z"
   },
   {
    "duration": 6,
    "start_time": "2022-02-23T07:14:12.458Z"
   },
   {
    "duration": 7,
    "start_time": "2022-02-23T07:14:12.466Z"
   },
   {
    "duration": 58,
    "start_time": "2022-02-23T17:01:18.291Z"
   },
   {
    "duration": 1267,
    "start_time": "2022-02-23T17:30:49.134Z"
   },
   {
    "duration": 545,
    "start_time": "2022-02-23T17:31:21.249Z"
   },
   {
    "duration": 353,
    "start_time": "2022-02-23T17:32:07.790Z"
   },
   {
    "duration": 10,
    "start_time": "2022-02-23T17:32:23.095Z"
   },
   {
    "duration": 888,
    "start_time": "2022-02-23T17:56:55.369Z"
   },
   {
    "duration": 1062,
    "start_time": "2022-02-23T17:57:09.503Z"
   },
   {
    "duration": 760,
    "start_time": "2022-02-23T17:57:57.195Z"
   },
   {
    "duration": 585,
    "start_time": "2022-02-23T17:58:11.293Z"
   },
   {
    "duration": 627,
    "start_time": "2022-02-23T17:58:18.383Z"
   },
   {
    "duration": 493,
    "start_time": "2022-02-23T17:58:48.329Z"
   },
   {
    "duration": 502,
    "start_time": "2022-02-23T17:59:04.130Z"
   },
   {
    "duration": 934,
    "start_time": "2022-02-23T17:59:14.323Z"
   },
   {
    "duration": 738,
    "start_time": "2022-02-23T17:59:30.297Z"
   },
   {
    "duration": 661,
    "start_time": "2022-02-23T17:59:36.141Z"
   },
   {
    "duration": 733,
    "start_time": "2022-02-23T17:59:46.735Z"
   },
   {
    "duration": 612,
    "start_time": "2022-02-23T17:59:57.488Z"
   },
   {
    "duration": 683,
    "start_time": "2022-02-23T18:00:11.769Z"
   },
   {
    "duration": 706,
    "start_time": "2022-02-23T18:00:18.218Z"
   },
   {
    "duration": 1069,
    "start_time": "2022-02-23T18:01:21.632Z"
   },
   {
    "duration": 783,
    "start_time": "2022-02-23T18:02:05.709Z"
   },
   {
    "duration": 748,
    "start_time": "2022-02-23T18:02:34.856Z"
   },
   {
    "duration": 866,
    "start_time": "2022-02-23T18:02:50.000Z"
   },
   {
    "duration": 13,
    "start_time": "2022-02-23T18:03:48.977Z"
   },
   {
    "duration": 179,
    "start_time": "2022-02-23T18:12:28.032Z"
   },
   {
    "duration": 5,
    "start_time": "2022-02-23T18:15:23.866Z"
   },
   {
    "duration": 443,
    "start_time": "2022-02-23T18:17:28.797Z"
   },
   {
    "duration": 782,
    "start_time": "2022-02-23T18:19:17.923Z"
   },
   {
    "duration": 14,
    "start_time": "2022-02-23T18:19:46.982Z"
   },
   {
    "duration": 2,
    "start_time": "2022-02-23T18:45:15.553Z"
   },
   {
    "duration": 3,
    "start_time": "2022-02-23T18:46:41.857Z"
   },
   {
    "duration": 20,
    "start_time": "2022-02-23T18:47:59.773Z"
   },
   {
    "duration": 64,
    "start_time": "2022-02-23T18:49:44.556Z"
   },
   {
    "duration": 51,
    "start_time": "2022-02-23T19:25:57.735Z"
   },
   {
    "duration": 60,
    "start_time": "2022-02-23T19:46:44.572Z"
   },
   {
    "duration": 65,
    "start_time": "2022-02-23T20:06:06.643Z"
   },
   {
    "duration": 2,
    "start_time": "2022-02-23T20:10:00.970Z"
   },
   {
    "duration": 2,
    "start_time": "2022-02-23T20:10:07.388Z"
   },
   {
    "duration": 1232,
    "start_time": "2022-02-23T20:30:46.243Z"
   },
   {
    "duration": 23,
    "start_time": "2022-02-23T20:30:47.477Z"
   },
   {
    "duration": 78,
    "start_time": "2022-02-23T20:30:47.503Z"
   },
   {
    "duration": 33,
    "start_time": "2022-02-23T20:30:47.583Z"
   },
   {
    "duration": 5,
    "start_time": "2022-02-23T20:30:47.630Z"
   },
   {
    "duration": 6,
    "start_time": "2022-02-23T20:30:47.636Z"
   },
   {
    "duration": 23,
    "start_time": "2022-02-23T20:30:47.644Z"
   },
   {
    "duration": 5,
    "start_time": "2022-02-23T20:30:47.669Z"
   },
   {
    "duration": 59,
    "start_time": "2022-02-23T20:30:47.677Z"
   },
   {
    "duration": 7,
    "start_time": "2022-02-23T20:30:47.738Z"
   },
   {
    "duration": 6,
    "start_time": "2022-02-23T20:30:47.747Z"
   },
   {
    "duration": 10,
    "start_time": "2022-02-23T20:30:47.755Z"
   },
   {
    "duration": 6,
    "start_time": "2022-02-23T20:30:47.767Z"
   },
   {
    "duration": 9,
    "start_time": "2022-02-23T20:30:47.775Z"
   },
   {
    "duration": 8,
    "start_time": "2022-02-23T20:30:47.830Z"
   },
   {
    "duration": 6,
    "start_time": "2022-02-23T20:30:47.839Z"
   },
   {
    "duration": 14,
    "start_time": "2022-02-23T20:30:47.847Z"
   },
   {
    "duration": 8,
    "start_time": "2022-02-23T20:30:47.863Z"
   },
   {
    "duration": 6,
    "start_time": "2022-02-23T20:30:47.872Z"
   },
   {
    "duration": 67,
    "start_time": "2022-02-23T20:30:47.880Z"
   },
   {
    "duration": 29,
    "start_time": "2022-02-23T20:30:47.948Z"
   },
   {
    "duration": 224,
    "start_time": "2022-02-23T20:30:47.979Z"
   },
   {
    "duration": 129,
    "start_time": "2022-02-23T20:30:48.207Z"
   },
   {
    "duration": 5,
    "start_time": "2022-02-23T20:30:48.338Z"
   },
   {
    "duration": 601,
    "start_time": "2022-02-23T20:30:48.344Z"
   },
   {
    "duration": 173,
    "start_time": "2022-02-23T20:30:48.946Z"
   },
   {
    "duration": 15,
    "start_time": "2022-02-23T20:30:49.121Z"
   },
   {
    "duration": 7,
    "start_time": "2022-02-23T20:30:49.138Z"
   },
   {
    "duration": 8,
    "start_time": "2022-02-23T20:30:49.147Z"
   },
   {
    "duration": 24,
    "start_time": "2022-02-23T20:30:49.157Z"
   },
   {
    "duration": 51,
    "start_time": "2022-02-23T20:30:49.183Z"
   },
   {
    "duration": 43,
    "start_time": "2022-02-23T20:30:49.236Z"
   },
   {
    "duration": 443,
    "start_time": "2022-02-23T20:30:49.281Z"
   },
   {
    "duration": 22,
    "start_time": "2022-02-23T20:30:49.730Z"
   },
   {
    "duration": 11,
    "start_time": "2022-02-23T20:30:49.754Z"
   },
   {
    "duration": 15,
    "start_time": "2022-02-23T20:30:49.767Z"
   },
   {
    "duration": 241,
    "start_time": "2022-02-23T20:30:49.784Z"
   },
   {
    "duration": 296,
    "start_time": "2022-02-23T20:30:50.031Z"
   },
   {
    "duration": 218,
    "start_time": "2022-02-23T20:30:50.329Z"
   },
   {
    "duration": 206,
    "start_time": "2022-02-23T20:30:50.550Z"
   },
   {
    "duration": 181,
    "start_time": "2022-02-23T20:30:50.758Z"
   },
   {
    "duration": 184,
    "start_time": "2022-02-23T20:30:50.941Z"
   },
   {
    "duration": 187,
    "start_time": "2022-02-23T20:30:51.130Z"
   },
   {
    "duration": 33,
    "start_time": "2022-02-23T20:30:51.319Z"
   },
   {
    "duration": 468,
    "start_time": "2022-02-23T20:30:51.353Z"
   },
   {
    "duration": 447,
    "start_time": "2022-02-23T20:30:51.831Z"
   },
   {
    "duration": 31,
    "start_time": "2022-02-23T20:30:52.281Z"
   },
   {
    "duration": 456,
    "start_time": "2022-02-23T20:30:52.330Z"
   },
   {
    "duration": 444,
    "start_time": "2022-02-23T20:30:52.789Z"
   },
   {
    "duration": 10,
    "start_time": "2022-02-23T20:30:53.235Z"
   },
   {
    "duration": 680,
    "start_time": "2022-02-23T20:30:53.247Z"
   },
   {
    "duration": 11,
    "start_time": "2022-02-23T20:30:53.930Z"
   },
   {
    "duration": 217,
    "start_time": "2022-02-23T20:30:53.943Z"
   },
   {
    "duration": 8,
    "start_time": "2022-02-23T20:30:54.163Z"
   },
   {
    "duration": 231,
    "start_time": "2022-02-23T20:30:54.172Z"
   },
   {
    "duration": 31,
    "start_time": "2022-02-23T20:30:54.405Z"
   },
   {
    "duration": 254,
    "start_time": "2022-02-23T20:30:54.438Z"
   },
   {
    "duration": 254,
    "start_time": "2022-02-23T20:30:54.695Z"
   },
   {
    "duration": 255,
    "start_time": "2022-02-23T20:30:54.951Z"
   },
   {
    "duration": 10,
    "start_time": "2022-02-23T20:30:55.207Z"
   },
   {
    "duration": 23,
    "start_time": "2022-02-23T20:30:55.230Z"
   },
   {
    "duration": 9,
    "start_time": "2022-02-23T20:30:55.254Z"
   },
   {
    "duration": 10,
    "start_time": "2022-02-23T20:30:55.264Z"
   },
   {
    "duration": 8,
    "start_time": "2022-02-23T20:30:55.276Z"
   },
   {
    "duration": 5,
    "start_time": "2022-02-23T20:30:55.285Z"
   },
   {
    "duration": 5,
    "start_time": "2022-02-23T20:30:55.292Z"
   },
   {
    "duration": 5,
    "start_time": "2022-02-23T20:30:55.330Z"
   },
   {
    "duration": 5,
    "start_time": "2022-02-23T20:30:55.341Z"
   },
   {
    "duration": 8,
    "start_time": "2022-02-23T20:30:55.348Z"
   },
   {
    "duration": 7,
    "start_time": "2022-02-23T20:30:55.358Z"
   },
   {
    "duration": 6,
    "start_time": "2022-02-23T20:30:55.367Z"
   },
   {
    "duration": 5,
    "start_time": "2022-02-23T20:30:55.375Z"
   },
   {
    "duration": 4,
    "start_time": "2022-02-23T20:30:55.382Z"
   },
   {
    "duration": 46,
    "start_time": "2022-02-23T20:30:55.388Z"
   },
   {
    "duration": 4,
    "start_time": "2022-02-23T20:31:51.017Z"
   },
   {
    "duration": 1227,
    "start_time": "2022-02-23T20:31:55.555Z"
   },
   {
    "duration": 45,
    "start_time": "2022-02-23T20:31:56.785Z"
   },
   {
    "duration": 52,
    "start_time": "2022-02-23T20:31:56.833Z"
   },
   {
    "duration": 45,
    "start_time": "2022-02-23T20:31:56.888Z"
   },
   {
    "duration": 5,
    "start_time": "2022-02-23T20:31:56.935Z"
   },
   {
    "duration": 6,
    "start_time": "2022-02-23T20:31:56.941Z"
   },
   {
    "duration": 26,
    "start_time": "2022-02-23T20:31:56.949Z"
   },
   {
    "duration": 6,
    "start_time": "2022-02-23T20:31:56.977Z"
   },
   {
    "duration": 68,
    "start_time": "2022-02-23T20:31:56.985Z"
   },
   {
    "duration": 8,
    "start_time": "2022-02-23T20:31:57.054Z"
   },
   {
    "duration": 6,
    "start_time": "2022-02-23T20:31:57.064Z"
   },
   {
    "duration": 7,
    "start_time": "2022-02-23T20:31:57.072Z"
   },
   {
    "duration": 8,
    "start_time": "2022-02-23T20:31:57.081Z"
   },
   {
    "duration": 10,
    "start_time": "2022-02-23T20:31:57.131Z"
   },
   {
    "duration": 8,
    "start_time": "2022-02-23T20:31:57.144Z"
   },
   {
    "duration": 6,
    "start_time": "2022-02-23T20:31:57.154Z"
   },
   {
    "duration": 16,
    "start_time": "2022-02-23T20:31:57.162Z"
   },
   {
    "duration": 5,
    "start_time": "2022-02-23T20:31:57.180Z"
   },
   {
    "duration": 5,
    "start_time": "2022-02-23T20:31:57.187Z"
   },
   {
    "duration": 28,
    "start_time": "2022-02-23T20:31:57.230Z"
   },
   {
    "duration": 31,
    "start_time": "2022-02-23T20:31:57.260Z"
   },
   {
    "duration": 239,
    "start_time": "2022-02-23T20:31:57.293Z"
   },
   {
    "duration": 123,
    "start_time": "2022-02-23T20:31:57.535Z"
   },
   {
    "duration": 5,
    "start_time": "2022-02-23T20:31:57.661Z"
   },
   {
    "duration": 628,
    "start_time": "2022-02-23T20:31:57.668Z"
   },
   {
    "duration": 181,
    "start_time": "2022-02-23T20:31:58.299Z"
   },
   {
    "duration": 10,
    "start_time": "2022-02-23T20:31:58.482Z"
   },
   {
    "duration": 8,
    "start_time": "2022-02-23T20:31:58.493Z"
   },
   {
    "duration": 27,
    "start_time": "2022-02-23T20:31:58.503Z"
   },
   {
    "duration": 25,
    "start_time": "2022-02-23T20:31:58.532Z"
   },
   {
    "duration": 13,
    "start_time": "2022-02-23T20:31:58.559Z"
   },
   {
    "duration": 58,
    "start_time": "2022-02-23T20:31:58.573Z"
   },
   {
    "duration": 438,
    "start_time": "2022-02-23T20:31:58.633Z"
   },
   {
    "duration": 22,
    "start_time": "2022-02-23T20:31:59.072Z"
   },
   {
    "duration": 12,
    "start_time": "2022-02-23T20:31:59.095Z"
   },
   {
    "duration": 35,
    "start_time": "2022-02-23T20:31:59.109Z"
   },
   {
    "duration": 232,
    "start_time": "2022-02-23T20:31:59.146Z"
   },
   {
    "duration": 299,
    "start_time": "2022-02-23T20:31:59.380Z"
   },
   {
    "duration": 210,
    "start_time": "2022-02-23T20:31:59.681Z"
   },
   {
    "duration": 209,
    "start_time": "2022-02-23T20:31:59.893Z"
   },
   {
    "duration": 189,
    "start_time": "2022-02-23T20:32:00.104Z"
   },
   {
    "duration": 182,
    "start_time": "2022-02-23T20:32:00.295Z"
   },
   {
    "duration": 180,
    "start_time": "2022-02-23T20:32:00.479Z"
   },
   {
    "duration": 27,
    "start_time": "2022-02-23T20:32:00.661Z"
   },
   {
    "duration": 477,
    "start_time": "2022-02-23T20:32:00.689Z"
   },
   {
    "duration": 462,
    "start_time": "2022-02-23T20:32:01.168Z"
   },
   {
    "duration": 32,
    "start_time": "2022-02-23T20:32:01.633Z"
   },
   {
    "duration": 446,
    "start_time": "2022-02-23T20:32:01.667Z"
   },
   {
    "duration": 461,
    "start_time": "2022-02-23T20:32:02.116Z"
   },
   {
    "duration": 9,
    "start_time": "2022-02-23T20:32:02.579Z"
   },
   {
    "duration": 627,
    "start_time": "2022-02-23T20:32:02.590Z"
   },
   {
    "duration": 15,
    "start_time": "2022-02-23T20:32:03.219Z"
   },
   {
    "duration": 198,
    "start_time": "2022-02-23T20:32:03.236Z"
   },
   {
    "duration": 9,
    "start_time": "2022-02-23T20:32:03.436Z"
   },
   {
    "duration": 360,
    "start_time": "2022-02-23T20:32:03.447Z"
   },
   {
    "duration": 40,
    "start_time": "2022-02-23T20:32:03.810Z"
   },
   {
    "duration": 392,
    "start_time": "2022-02-23T20:32:03.853Z"
   },
   {
    "duration": 400,
    "start_time": "2022-02-23T20:32:04.247Z"
   },
   {
    "duration": 383,
    "start_time": "2022-02-23T20:32:04.649Z"
   },
   {
    "duration": 13,
    "start_time": "2022-02-23T20:32:05.034Z"
   },
   {
    "duration": 32,
    "start_time": "2022-02-23T20:32:05.050Z"
   },
   {
    "duration": 12,
    "start_time": "2022-02-23T20:32:05.084Z"
   },
   {
    "duration": 10,
    "start_time": "2022-02-23T20:32:05.098Z"
   },
   {
    "duration": 4,
    "start_time": "2022-02-23T20:32:05.110Z"
   },
   {
    "duration": 17,
    "start_time": "2022-02-23T20:32:05.116Z"
   },
   {
    "duration": 5,
    "start_time": "2022-02-23T20:32:05.134Z"
   },
   {
    "duration": 5,
    "start_time": "2022-02-23T20:32:05.140Z"
   },
   {
    "duration": 5,
    "start_time": "2022-02-23T20:32:05.150Z"
   },
   {
    "duration": 8,
    "start_time": "2022-02-23T20:32:05.156Z"
   },
   {
    "duration": 4,
    "start_time": "2022-02-23T20:32:05.166Z"
   },
   {
    "duration": 9,
    "start_time": "2022-02-23T20:32:05.172Z"
   },
   {
    "duration": 5,
    "start_time": "2022-02-23T20:32:05.183Z"
   },
   {
    "duration": 6,
    "start_time": "2022-02-23T20:32:05.190Z"
   },
   {
    "duration": 8,
    "start_time": "2022-02-23T20:32:05.197Z"
   },
   {
    "duration": 271,
    "start_time": "2022-03-06T13:28:33.064Z"
   },
   {
    "duration": 1121,
    "start_time": "2022-03-06T13:28:36.900Z"
   },
   {
    "duration": 23,
    "start_time": "2022-03-06T13:28:38.023Z"
   },
   {
    "duration": 61,
    "start_time": "2022-03-06T13:28:38.048Z"
   },
   {
    "duration": 31,
    "start_time": "2022-03-06T13:28:38.112Z"
   },
   {
    "duration": 4,
    "start_time": "2022-03-06T13:28:38.145Z"
   },
   {
    "duration": 27,
    "start_time": "2022-03-06T13:28:38.151Z"
   },
   {
    "duration": 27,
    "start_time": "2022-03-06T13:28:38.180Z"
   },
   {
    "duration": 4,
    "start_time": "2022-03-06T13:28:38.210Z"
   },
   {
    "duration": 34,
    "start_time": "2022-03-06T13:28:38.216Z"
   },
   {
    "duration": 28,
    "start_time": "2022-03-06T13:28:38.252Z"
   },
   {
    "duration": 7,
    "start_time": "2022-03-06T13:28:38.282Z"
   },
   {
    "duration": 6,
    "start_time": "2022-03-06T13:28:38.291Z"
   },
   {
    "duration": 7,
    "start_time": "2022-03-06T13:28:38.298Z"
   },
   {
    "duration": 9,
    "start_time": "2022-03-06T13:28:38.307Z"
   },
   {
    "duration": 7,
    "start_time": "2022-03-06T13:28:38.317Z"
   },
   {
    "duration": 6,
    "start_time": "2022-03-06T13:28:38.326Z"
   },
   {
    "duration": 53,
    "start_time": "2022-03-06T13:28:38.333Z"
   },
   {
    "duration": 5,
    "start_time": "2022-03-06T13:28:38.387Z"
   },
   {
    "duration": 7,
    "start_time": "2022-03-06T13:28:38.393Z"
   },
   {
    "duration": 29,
    "start_time": "2022-03-06T13:28:38.402Z"
   },
   {
    "duration": 56,
    "start_time": "2022-03-06T13:28:38.433Z"
   },
   {
    "duration": 208,
    "start_time": "2022-03-06T13:28:38.490Z"
   },
   {
    "duration": 117,
    "start_time": "2022-03-06T13:28:42.425Z"
   },
   {
    "duration": 69,
    "start_time": "2022-03-06T13:32:45.687Z"
   },
   {
    "duration": 4,
    "start_time": "2022-03-06T13:37:03.814Z"
   },
   {
    "duration": 27,
    "start_time": "2022-03-06T13:37:03.821Z"
   },
   {
    "duration": 55,
    "start_time": "2022-03-06T13:37:03.850Z"
   },
   {
    "duration": 29,
    "start_time": "2022-03-06T13:37:03.908Z"
   },
   {
    "duration": 5,
    "start_time": "2022-03-06T13:37:03.938Z"
   },
   {
    "duration": 33,
    "start_time": "2022-03-06T13:37:03.945Z"
   },
   {
    "duration": 25,
    "start_time": "2022-03-06T13:37:03.981Z"
   },
   {
    "duration": 5,
    "start_time": "2022-03-06T13:37:04.009Z"
   },
   {
    "duration": 31,
    "start_time": "2022-03-06T13:37:04.016Z"
   },
   {
    "duration": 8,
    "start_time": "2022-03-06T13:37:04.079Z"
   },
   {
    "duration": 9,
    "start_time": "2022-03-06T13:37:04.089Z"
   },
   {
    "duration": 9,
    "start_time": "2022-03-06T13:37:04.100Z"
   },
   {
    "duration": 8,
    "start_time": "2022-03-06T13:37:04.111Z"
   },
   {
    "duration": 10,
    "start_time": "2022-03-06T13:37:04.121Z"
   },
   {
    "duration": 48,
    "start_time": "2022-03-06T13:37:04.133Z"
   },
   {
    "duration": 7,
    "start_time": "2022-03-06T13:37:04.183Z"
   },
   {
    "duration": 17,
    "start_time": "2022-03-06T13:37:04.191Z"
   },
   {
    "duration": 10,
    "start_time": "2022-03-06T13:37:04.210Z"
   },
   {
    "duration": 8,
    "start_time": "2022-03-06T13:37:04.223Z"
   },
   {
    "duration": 50,
    "start_time": "2022-03-06T13:37:04.233Z"
   },
   {
    "duration": 29,
    "start_time": "2022-03-06T13:37:04.285Z"
   },
   {
    "duration": 219,
    "start_time": "2022-03-06T13:37:04.316Z"
   },
   {
    "duration": 128,
    "start_time": "2022-03-06T13:37:04.536Z"
   },
   {
    "duration": 13,
    "start_time": "2022-03-06T13:37:04.665Z"
   },
   {
    "duration": 679,
    "start_time": "2022-03-06T13:37:04.680Z"
   },
   {
    "duration": 194,
    "start_time": "2022-03-06T13:37:05.361Z"
   },
   {
    "duration": 20,
    "start_time": "2022-03-06T13:37:05.558Z"
   },
   {
    "duration": 9,
    "start_time": "2022-03-06T13:37:05.580Z"
   },
   {
    "duration": 15,
    "start_time": "2022-03-06T13:37:05.591Z"
   },
   {
    "duration": 28,
    "start_time": "2022-03-06T13:37:05.607Z"
   },
   {
    "duration": 13,
    "start_time": "2022-03-06T13:37:05.637Z"
   },
   {
    "duration": 57,
    "start_time": "2022-03-06T13:37:05.652Z"
   },
   {
    "duration": 523,
    "start_time": "2022-03-06T13:37:05.711Z"
   },
   {
    "duration": 27,
    "start_time": "2022-03-06T13:37:14.500Z"
   },
   {
    "duration": 23,
    "start_time": "2022-03-06T13:37:35.380Z"
   },
   {
    "duration": 27,
    "start_time": "2022-03-06T13:37:40.447Z"
   },
   {
    "duration": 1193,
    "start_time": "2022-03-06T15:54:49.169Z"
   },
   {
    "duration": 24,
    "start_time": "2022-03-06T15:54:50.365Z"
   },
   {
    "duration": 57,
    "start_time": "2022-03-06T15:54:50.391Z"
   },
   {
    "duration": 31,
    "start_time": "2022-03-06T15:54:50.449Z"
   },
   {
    "duration": 5,
    "start_time": "2022-03-06T15:54:50.482Z"
   },
   {
    "duration": 7,
    "start_time": "2022-03-06T15:54:50.488Z"
   },
   {
    "duration": 27,
    "start_time": "2022-03-06T15:54:50.497Z"
   },
   {
    "duration": 5,
    "start_time": "2022-03-06T15:54:50.527Z"
   },
   {
    "duration": 36,
    "start_time": "2022-03-06T15:54:50.534Z"
   },
   {
    "duration": 6,
    "start_time": "2022-03-06T15:54:50.572Z"
   },
   {
    "duration": 7,
    "start_time": "2022-03-06T15:54:50.580Z"
   },
   {
    "duration": 10,
    "start_time": "2022-03-06T15:54:50.588Z"
   },
   {
    "duration": 6,
    "start_time": "2022-03-06T15:54:50.600Z"
   },
   {
    "duration": 11,
    "start_time": "2022-03-06T15:54:50.607Z"
   },
   {
    "duration": 8,
    "start_time": "2022-03-06T15:54:50.620Z"
   },
   {
    "duration": 6,
    "start_time": "2022-03-06T15:54:50.630Z"
   },
   {
    "duration": 20,
    "start_time": "2022-03-06T15:54:50.637Z"
   },
   {
    "duration": 6,
    "start_time": "2022-03-06T15:54:50.659Z"
   },
   {
    "duration": 9,
    "start_time": "2022-03-06T15:54:50.666Z"
   },
   {
    "duration": 36,
    "start_time": "2022-03-06T15:54:50.677Z"
   },
   {
    "duration": 31,
    "start_time": "2022-03-06T15:54:50.715Z"
   },
   {
    "duration": 4,
    "start_time": "2022-03-06T15:54:50.748Z"
   },
   {
    "duration": 111,
    "start_time": "2022-03-06T15:54:50.756Z"
   },
   {
    "duration": 7,
    "start_time": "2022-03-06T15:54:50.870Z"
   },
   {
    "duration": 920,
    "start_time": "2022-03-06T15:54:50.878Z"
   },
   {
    "duration": 287,
    "start_time": "2022-03-06T15:54:51.800Z"
   },
   {
    "duration": 9,
    "start_time": "2022-03-06T15:54:52.089Z"
   },
   {
    "duration": 7,
    "start_time": "2022-03-06T15:54:52.100Z"
   },
   {
    "duration": 2,
    "start_time": "2022-03-06T15:54:52.109Z"
   },
   {
    "duration": 26,
    "start_time": "2022-03-06T15:54:52.113Z"
   },
   {
    "duration": 45,
    "start_time": "2022-03-06T15:54:52.142Z"
   },
   {
    "duration": 32,
    "start_time": "2022-03-06T15:54:52.189Z"
   },
   {
    "duration": 498,
    "start_time": "2022-03-06T15:54:52.223Z"
   },
   {
    "duration": 22,
    "start_time": "2022-03-06T15:54:52.723Z"
   },
   {
    "duration": 31,
    "start_time": "2022-03-06T15:54:52.746Z"
   },
   {
    "duration": 14,
    "start_time": "2022-03-06T15:54:52.779Z"
   },
   {
    "duration": 259,
    "start_time": "2022-03-06T15:54:52.795Z"
   },
   {
    "duration": 304,
    "start_time": "2022-03-06T15:54:53.056Z"
   },
   {
    "duration": 244,
    "start_time": "2022-03-06T15:54:53.362Z"
   },
   {
    "duration": 224,
    "start_time": "2022-03-06T15:54:53.608Z"
   },
   {
    "duration": 221,
    "start_time": "2022-03-06T15:54:53.834Z"
   },
   {
    "duration": 217,
    "start_time": "2022-03-06T15:54:54.057Z"
   },
   {
    "duration": 204,
    "start_time": "2022-03-06T15:54:54.276Z"
   },
   {
    "duration": 30,
    "start_time": "2022-03-06T15:54:54.482Z"
   },
   {
    "duration": 1137,
    "start_time": "2022-03-06T15:54:54.514Z"
   },
   {
    "duration": 470,
    "start_time": "2022-03-06T15:54:55.184Z"
   },
   {
    "duration": 464,
    "start_time": "2022-03-06T15:54:55.191Z"
   },
   {
    "duration": 460,
    "start_time": "2022-03-06T15:54:55.196Z"
   },
   {
    "duration": 454,
    "start_time": "2022-03-06T15:54:55.203Z"
   },
   {
    "duration": 450,
    "start_time": "2022-03-06T15:54:55.208Z"
   },
   {
    "duration": 445,
    "start_time": "2022-03-06T15:54:55.215Z"
   },
   {
    "duration": 441,
    "start_time": "2022-03-06T15:54:55.220Z"
   },
   {
    "duration": 435,
    "start_time": "2022-03-06T15:54:55.227Z"
   },
   {
    "duration": 431,
    "start_time": "2022-03-06T15:54:55.232Z"
   },
   {
    "duration": 427,
    "start_time": "2022-03-06T15:54:55.237Z"
   },
   {
    "duration": 421,
    "start_time": "2022-03-06T15:54:55.244Z"
   },
   {
    "duration": 417,
    "start_time": "2022-03-06T15:54:55.249Z"
   },
   {
    "duration": 412,
    "start_time": "2022-03-06T15:54:55.255Z"
   },
   {
    "duration": 409,
    "start_time": "2022-03-06T15:54:55.260Z"
   },
   {
    "duration": 403,
    "start_time": "2022-03-06T15:54:55.267Z"
   },
   {
    "duration": 399,
    "start_time": "2022-03-06T15:54:55.272Z"
   },
   {
    "duration": 395,
    "start_time": "2022-03-06T15:54:55.277Z"
   },
   {
    "duration": 389,
    "start_time": "2022-03-06T15:54:55.284Z"
   },
   {
    "duration": 370,
    "start_time": "2022-03-06T15:54:55.304Z"
   },
   {
    "duration": 363,
    "start_time": "2022-03-06T15:54:55.312Z"
   },
   {
    "duration": 360,
    "start_time": "2022-03-06T15:54:55.317Z"
   },
   {
    "duration": 355,
    "start_time": "2022-03-06T15:54:55.323Z"
   },
   {
    "duration": 351,
    "start_time": "2022-03-06T15:54:55.328Z"
   },
   {
    "duration": 345,
    "start_time": "2022-03-06T15:54:55.335Z"
   },
   {
    "duration": 341,
    "start_time": "2022-03-06T15:54:55.340Z"
   },
   {
    "duration": 335,
    "start_time": "2022-03-06T15:54:55.347Z"
   },
   {
    "duration": 332,
    "start_time": "2022-03-06T15:54:55.351Z"
   },
   {
    "duration": 328,
    "start_time": "2022-03-06T15:54:55.356Z"
   },
   {
    "duration": 323,
    "start_time": "2022-03-06T15:54:55.363Z"
   },
   {
    "duration": 319,
    "start_time": "2022-03-06T15:54:55.368Z"
   },
   {
    "duration": 1037,
    "start_time": "2022-03-06T15:57:35.080Z"
   },
   {
    "duration": 469,
    "start_time": "2022-03-06T15:58:01.796Z"
   },
   {
    "duration": 1212,
    "start_time": "2022-03-06T15:58:13.012Z"
   },
   {
    "duration": 23,
    "start_time": "2022-03-06T15:58:14.226Z"
   },
   {
    "duration": 58,
    "start_time": "2022-03-06T15:58:14.251Z"
   },
   {
    "duration": 32,
    "start_time": "2022-03-06T15:58:14.311Z"
   },
   {
    "duration": 4,
    "start_time": "2022-03-06T15:58:14.345Z"
   },
   {
    "duration": 7,
    "start_time": "2022-03-06T15:58:14.351Z"
   },
   {
    "duration": 26,
    "start_time": "2022-03-06T15:58:14.377Z"
   },
   {
    "duration": 5,
    "start_time": "2022-03-06T15:58:14.405Z"
   },
   {
    "duration": 67,
    "start_time": "2022-03-06T15:58:14.412Z"
   },
   {
    "duration": 6,
    "start_time": "2022-03-06T15:58:14.481Z"
   },
   {
    "duration": 11,
    "start_time": "2022-03-06T15:58:14.489Z"
   },
   {
    "duration": 10,
    "start_time": "2022-03-06T15:58:14.501Z"
   },
   {
    "duration": 7,
    "start_time": "2022-03-06T15:58:14.512Z"
   },
   {
    "duration": 9,
    "start_time": "2022-03-06T15:58:14.520Z"
   },
   {
    "duration": 49,
    "start_time": "2022-03-06T15:58:14.530Z"
   },
   {
    "duration": 7,
    "start_time": "2022-03-06T15:58:14.580Z"
   },
   {
    "duration": 15,
    "start_time": "2022-03-06T15:58:14.589Z"
   },
   {
    "duration": 4,
    "start_time": "2022-03-06T15:58:14.606Z"
   },
   {
    "duration": 8,
    "start_time": "2022-03-06T15:58:14.612Z"
   },
   {
    "duration": 65,
    "start_time": "2022-03-06T15:58:14.621Z"
   },
   {
    "duration": 27,
    "start_time": "2022-03-06T15:58:14.688Z"
   },
   {
    "duration": 4,
    "start_time": "2022-03-06T15:58:14.716Z"
   },
   {
    "duration": 142,
    "start_time": "2022-03-06T15:58:14.724Z"
   },
   {
    "duration": 9,
    "start_time": "2022-03-06T15:58:14.869Z"
   },
   {
    "duration": 683,
    "start_time": "2022-03-06T15:58:14.880Z"
   },
   {
    "duration": 196,
    "start_time": "2022-03-06T15:58:15.565Z"
   },
   {
    "duration": 24,
    "start_time": "2022-03-06T15:58:15.763Z"
   },
   {
    "duration": 8,
    "start_time": "2022-03-06T15:58:15.789Z"
   },
   {
    "duration": 4,
    "start_time": "2022-03-06T15:58:15.799Z"
   },
   {
    "duration": 34,
    "start_time": "2022-03-06T15:58:15.805Z"
   },
   {
    "duration": 47,
    "start_time": "2022-03-06T15:58:15.841Z"
   },
   {
    "duration": 38,
    "start_time": "2022-03-06T15:58:15.890Z"
   },
   {
    "duration": 518,
    "start_time": "2022-03-06T15:58:15.929Z"
   },
   {
    "duration": 34,
    "start_time": "2022-03-06T15:58:16.449Z"
   },
   {
    "duration": 11,
    "start_time": "2022-03-06T15:58:16.485Z"
   },
   {
    "duration": 16,
    "start_time": "2022-03-06T15:58:16.498Z"
   },
   {
    "duration": 271,
    "start_time": "2022-03-06T15:58:16.515Z"
   },
   {
    "duration": 299,
    "start_time": "2022-03-06T15:58:16.787Z"
   },
   {
    "duration": 242,
    "start_time": "2022-03-06T15:58:17.087Z"
   },
   {
    "duration": 207,
    "start_time": "2022-03-06T15:58:17.331Z"
   },
   {
    "duration": 208,
    "start_time": "2022-03-06T15:58:17.540Z"
   },
   {
    "duration": 208,
    "start_time": "2022-03-06T15:58:17.750Z"
   },
   {
    "duration": 207,
    "start_time": "2022-03-06T15:58:17.960Z"
   },
   {
    "duration": 33,
    "start_time": "2022-03-06T15:58:18.169Z"
   },
   {
    "duration": 465,
    "start_time": "2022-03-06T15:58:18.203Z"
   },
   {
    "duration": 507,
    "start_time": "2022-03-06T15:58:18.670Z"
   },
   {
    "duration": 29,
    "start_time": "2022-03-06T15:58:19.179Z"
   },
   {
    "duration": 438,
    "start_time": "2022-03-06T15:58:19.210Z"
   },
   {
    "duration": 414,
    "start_time": "2022-03-06T15:58:19.651Z"
   },
   {
    "duration": 15,
    "start_time": "2022-03-06T15:58:20.067Z"
   },
   {
    "duration": 703,
    "start_time": "2022-03-06T15:58:20.084Z"
   },
   {
    "duration": 12,
    "start_time": "2022-03-06T15:58:20.789Z"
   },
   {
    "duration": 246,
    "start_time": "2022-03-06T15:58:20.803Z"
   },
   {
    "duration": 7,
    "start_time": "2022-03-06T15:58:21.050Z"
   },
   {
    "duration": 262,
    "start_time": "2022-03-06T15:58:21.059Z"
   },
   {
    "duration": 91,
    "start_time": "2022-03-06T15:58:21.323Z"
   },
   {
    "duration": 510,
    "start_time": "2022-03-06T15:58:20.906Z"
   },
   {
    "duration": 507,
    "start_time": "2022-03-06T15:58:20.910Z"
   },
   {
    "duration": 500,
    "start_time": "2022-03-06T15:58:20.918Z"
   },
   {
    "duration": 497,
    "start_time": "2022-03-06T15:58:20.922Z"
   },
   {
    "duration": 475,
    "start_time": "2022-03-06T15:58:20.944Z"
   },
   {
    "duration": 473,
    "start_time": "2022-03-06T15:58:20.948Z"
   },
   {
    "duration": 468,
    "start_time": "2022-03-06T15:58:20.953Z"
   },
   {
    "duration": 463,
    "start_time": "2022-03-06T15:58:20.959Z"
   },
   {
    "duration": 461,
    "start_time": "2022-03-06T15:58:20.963Z"
   },
   {
    "duration": 455,
    "start_time": "2022-03-06T15:58:20.970Z"
   },
   {
    "duration": 452,
    "start_time": "2022-03-06T15:58:20.974Z"
   },
   {
    "duration": 449,
    "start_time": "2022-03-06T15:58:20.978Z"
   },
   {
    "duration": 443,
    "start_time": "2022-03-06T15:58:20.985Z"
   },
   {
    "duration": 440,
    "start_time": "2022-03-06T15:58:20.989Z"
   },
   {
    "duration": 435,
    "start_time": "2022-03-06T15:58:20.995Z"
   },
   {
    "duration": 433,
    "start_time": "2022-03-06T15:58:20.998Z"
   },
   {
    "duration": 429,
    "start_time": "2022-03-06T15:58:21.003Z"
   },
   {
    "duration": 424,
    "start_time": "2022-03-06T15:58:21.009Z"
   },
   {
    "duration": 421,
    "start_time": "2022-03-06T15:58:21.013Z"
   },
   {
    "duration": 12,
    "start_time": "2022-03-06T16:00:26.567Z"
   },
   {
    "duration": 97,
    "start_time": "2022-03-06T16:00:58.854Z"
   },
   {
    "duration": 11,
    "start_time": "2022-03-06T16:01:12.021Z"
   },
   {
    "duration": 9,
    "start_time": "2022-03-06T16:01:28.237Z"
   },
   {
    "duration": 7,
    "start_time": "2022-03-06T16:01:40.806Z"
   },
   {
    "duration": 241,
    "start_time": "2022-03-06T16:01:40.989Z"
   },
   {
    "duration": 225,
    "start_time": "2022-03-06T16:49:21.432Z"
   },
   {
    "duration": 1262,
    "start_time": "2022-03-06T17:04:00.794Z"
   },
   {
    "duration": 27,
    "start_time": "2022-03-06T17:04:02.058Z"
   },
   {
    "duration": 73,
    "start_time": "2022-03-06T17:04:02.088Z"
   },
   {
    "duration": 34,
    "start_time": "2022-03-06T17:04:02.163Z"
   },
   {
    "duration": 5,
    "start_time": "2022-03-06T17:04:02.198Z"
   },
   {
    "duration": 9,
    "start_time": "2022-03-06T17:04:02.204Z"
   },
   {
    "duration": 32,
    "start_time": "2022-03-06T17:04:02.215Z"
   },
   {
    "duration": 31,
    "start_time": "2022-03-06T17:04:02.250Z"
   },
   {
    "duration": 40,
    "start_time": "2022-03-06T17:04:02.283Z"
   },
   {
    "duration": 6,
    "start_time": "2022-03-06T17:04:02.325Z"
   },
   {
    "duration": 8,
    "start_time": "2022-03-06T17:04:02.333Z"
   },
   {
    "duration": 35,
    "start_time": "2022-03-06T17:04:02.343Z"
   },
   {
    "duration": 7,
    "start_time": "2022-03-06T17:04:02.380Z"
   },
   {
    "duration": 12,
    "start_time": "2022-03-06T17:04:02.389Z"
   },
   {
    "duration": 8,
    "start_time": "2022-03-06T17:04:02.402Z"
   },
   {
    "duration": 5,
    "start_time": "2022-03-06T17:04:02.412Z"
   },
   {
    "duration": 16,
    "start_time": "2022-03-06T17:04:02.419Z"
   },
   {
    "duration": 45,
    "start_time": "2022-03-06T17:04:02.436Z"
   },
   {
    "duration": 9,
    "start_time": "2022-03-06T17:04:02.483Z"
   },
   {
    "duration": 41,
    "start_time": "2022-03-06T17:04:02.494Z"
   },
   {
    "duration": 46,
    "start_time": "2022-03-06T17:04:02.536Z"
   },
   {
    "duration": 4,
    "start_time": "2022-03-06T17:04:02.584Z"
   },
   {
    "duration": 138,
    "start_time": "2022-03-06T17:04:02.592Z"
   },
   {
    "duration": 5,
    "start_time": "2022-03-06T17:04:02.732Z"
   },
   {
    "duration": 714,
    "start_time": "2022-03-06T17:04:02.739Z"
   },
   {
    "duration": 192,
    "start_time": "2022-03-06T17:04:03.455Z"
   },
   {
    "duration": 27,
    "start_time": "2022-03-06T17:04:03.650Z"
   },
   {
    "duration": 10,
    "start_time": "2022-03-06T17:04:03.679Z"
   },
   {
    "duration": 3,
    "start_time": "2022-03-06T17:04:03.691Z"
   },
   {
    "duration": 28,
    "start_time": "2022-03-06T17:04:03.695Z"
   },
   {
    "duration": 13,
    "start_time": "2022-03-06T17:04:03.725Z"
   },
   {
    "duration": 76,
    "start_time": "2022-03-06T17:04:03.739Z"
   },
   {
    "duration": 515,
    "start_time": "2022-03-06T17:04:03.817Z"
   },
   {
    "duration": 26,
    "start_time": "2022-03-06T17:04:04.334Z"
   },
   {
    "duration": 29,
    "start_time": "2022-03-06T17:04:04.362Z"
   },
   {
    "duration": 20,
    "start_time": "2022-03-06T17:04:04.394Z"
   },
   {
    "duration": 285,
    "start_time": "2022-03-06T17:04:04.416Z"
   },
   {
    "duration": 321,
    "start_time": "2022-03-06T17:04:04.703Z"
   },
   {
    "duration": 260,
    "start_time": "2022-03-06T17:04:05.026Z"
   },
   {
    "duration": 238,
    "start_time": "2022-03-06T17:04:05.288Z"
   },
   {
    "duration": 211,
    "start_time": "2022-03-06T17:04:05.529Z"
   },
   {
    "duration": 218,
    "start_time": "2022-03-06T17:04:05.742Z"
   },
   {
    "duration": 210,
    "start_time": "2022-03-06T17:04:05.962Z"
   },
   {
    "duration": 32,
    "start_time": "2022-03-06T17:04:06.174Z"
   },
   {
    "duration": 497,
    "start_time": "2022-03-06T17:04:06.208Z"
   },
   {
    "duration": 514,
    "start_time": "2022-03-06T17:04:06.707Z"
   },
   {
    "duration": 31,
    "start_time": "2022-03-06T17:04:07.223Z"
   },
   {
    "duration": 486,
    "start_time": "2022-03-06T17:04:07.256Z"
   },
   {
    "duration": 418,
    "start_time": "2022-03-06T17:04:07.743Z"
   },
   {
    "duration": 16,
    "start_time": "2022-03-06T17:04:08.162Z"
   },
   {
    "duration": 714,
    "start_time": "2022-03-06T17:04:08.179Z"
   },
   {
    "duration": 13,
    "start_time": "2022-03-06T17:04:08.895Z"
   },
   {
    "duration": 244,
    "start_time": "2022-03-06T17:04:08.909Z"
   },
   {
    "duration": 8,
    "start_time": "2022-03-06T17:04:09.155Z"
   },
   {
    "duration": 7,
    "start_time": "2022-03-06T17:04:09.178Z"
   },
   {
    "duration": 248,
    "start_time": "2022-03-06T17:04:09.186Z"
   },
   {
    "duration": 21,
    "start_time": "2022-03-06T17:04:09.436Z"
   },
   {
    "duration": 284,
    "start_time": "2022-03-06T17:04:09.459Z"
   },
   {
    "duration": 274,
    "start_time": "2022-03-06T17:04:09.745Z"
   },
   {
    "duration": 278,
    "start_time": "2022-03-06T17:04:10.020Z"
   },
   {
    "duration": 9,
    "start_time": "2022-03-06T17:04:10.300Z"
   },
   {
    "duration": 27,
    "start_time": "2022-03-06T17:04:10.312Z"
   },
   {
    "duration": 10,
    "start_time": "2022-03-06T17:04:10.340Z"
   },
   {
    "duration": 30,
    "start_time": "2022-03-06T17:04:10.352Z"
   },
   {
    "duration": 23,
    "start_time": "2022-03-06T17:04:10.384Z"
   },
   {
    "duration": 14,
    "start_time": "2022-03-06T17:04:10.409Z"
   },
   {
    "duration": 32,
    "start_time": "2022-03-06T17:04:10.425Z"
   },
   {
    "duration": 13,
    "start_time": "2022-03-06T17:04:10.462Z"
   },
   {
    "duration": 23,
    "start_time": "2022-03-06T17:04:10.477Z"
   },
   {
    "duration": 32,
    "start_time": "2022-03-06T17:04:10.501Z"
   },
   {
    "duration": 21,
    "start_time": "2022-03-06T17:04:10.535Z"
   },
   {
    "duration": 24,
    "start_time": "2022-03-06T17:04:10.558Z"
   },
   {
    "duration": 25,
    "start_time": "2022-03-06T17:04:10.584Z"
   },
   {
    "duration": 12,
    "start_time": "2022-03-06T17:04:10.611Z"
   },
   {
    "duration": 9,
    "start_time": "2022-03-06T17:04:10.625Z"
   },
   {
    "duration": 15,
    "start_time": "2022-03-06T17:23:10.771Z"
   },
   {
    "duration": 26,
    "start_time": "2022-03-06T17:23:17.668Z"
   },
   {
    "duration": 113,
    "start_time": "2022-03-06T17:24:55.081Z"
   },
   {
    "duration": 30,
    "start_time": "2022-03-06T17:28:04.547Z"
   },
   {
    "duration": 10,
    "start_time": "2022-03-06T17:28:30.299Z"
   },
   {
    "duration": 9,
    "start_time": "2022-03-06T17:28:43.418Z"
   },
   {
    "duration": 88,
    "start_time": "2022-03-06T17:56:19.366Z"
   },
   {
    "duration": 74,
    "start_time": "2022-03-06T19:24:29.729Z"
   }
  ],
  "kernelspec": {
   "display_name": "Python 3",
   "language": "python",
   "name": "python3"
  },
  "language_info": {
   "codemirror_mode": {
    "name": "ipython",
    "version": 3
   },
   "file_extension": ".py",
   "mimetype": "text/x-python",
   "name": "python",
   "nbconvert_exporter": "python",
   "pygments_lexer": "ipython3",
   "version": "3.8.8"
  },
  "toc": {
   "base_numbering": 1,
   "nav_menu": {},
   "number_sections": true,
   "sideBar": true,
   "skip_h1_title": true,
   "title_cell": "Table of Contents",
   "title_sidebar": "Contents",
   "toc_cell": false,
   "toc_position": {},
   "toc_section_display": true,
   "toc_window_display": false
  }
 },
 "nbformat": 4,
 "nbformat_minor": 2
}
